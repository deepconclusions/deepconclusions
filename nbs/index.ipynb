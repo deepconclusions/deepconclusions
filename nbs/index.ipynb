{
 "cells": [
  {
   "cell_type": "markdown",
   "metadata": {},
   "source": [
    "## Welcome to Deep Conclusions!"
   ]
  },
  {
   "cell_type": "markdown",
   "metadata": {},
   "source": [
    "Hello there 🤗 and welcome to our new resourses site. We have re-develped our website to use jupyter notebooks, which is the tool we mostly use for teaching. This is so that you can access updated learning materials faster."
   ]
  },
  {
   "cell_type": "markdown",
   "metadata": {},
   "source": [
    "## Programming For Data Science"
   ]
  },
  {
   "cell_type": "markdown",
   "metadata": {},
   "source": [
    "Programming for Data Science is a subject we've designed to explore the various programming components of data science. To take on this course means that you'll learn programming techniques to do Data Science stuff like data manipulation, analysis, visualization, machine learning. "
   ]
  },
  {
   "cell_type": "markdown",
   "metadata": {},
   "source": [
    "This subject has been split into specific courses as below. The duration is the average of what our older students have taken, but can be longer or shorter for different types of students:\n",
    "\n",
    "- Fundamentals of Programming (Python or JavaScript or both)(1 month)\n",
    "- Data Analysis with Python and Introduction to Machine Learning (2-3 months)\n",
    "- Deep Learning Specialization (3-5 months)\n",
    "- Database Management with SQL and Python (optional) (1 month)\n",
    "- Web Development with Django (optional) (2-6 months)"
   ]
  },
  {
   "cell_type": "markdown",
   "metadata": {},
   "source": [
    "This subject can be taken as a whole or you can take specific parts of strong interest or application to you and your field. But if you're a complete beginner, we advise you take the whole subject."
   ]
  },
  {
   "cell_type": "markdown",
   "metadata": {},
   "source": [
    "Here is how our subject is offered:\n",
    "\n",
    "- Duration: (Depends on the course units you have chosen) \n",
    "- Sessions: Four times a week (one on one) \n",
    "- Timing: Evenings or/and weekends \n",
    "- Location: Online or/and at UMF House, Sir Apollo Kagwa Road"
   ]
  },
  {
   "cell_type": "markdown",
   "metadata": {},
   "source": [
    "If you’re serious about learning Programming and getting prepared for Data Science and Web Development roles, I highly encourage you to enroll in our programming courses.\n",
    "\n",
    "Don’t waste your time following disconnected, outdated tutorials. We can teach you all that you need to kickstart your career.\n",
    "\n",
    "Contact us at:\n",
    "\n",
    "- info@deepconclusions.com\n",
    "- +256701520768 / +256771754118\n",
    "- www.deepconclusions.com\n"
   ]
  }
 ],
 "metadata": {
  "kernelspec": {
   "display_name": "python3",
   "language": "python",
   "name": "python3"
  }
 },
 "nbformat": 4,
 "nbformat_minor": 4
}
