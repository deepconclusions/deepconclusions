{
 "cells": [
  {
   "cell_type": "code",
   "execution_count": null,
   "metadata": {},
   "outputs": [],
   "source": [
    "## Uncomment and run this cell to install the packages\n",
    "# !pip install pandas numpy statsmodels"
   ]
  },
  {
   "cell_type": "markdown",
   "metadata": {},
   "source": [
    "## Implementing Statistical Models in Python"
   ]
  },
  {
   "cell_type": "markdown",
   "metadata": {},
   "source": [
    "#### Statistical models\n",
    "Statistical models are mathematical representations of relationships between variables in a dataset. These models are used to make predictions, infer causal relationships, and understand patterns in data. Statistical modeling involves formulating hypotheses about the data generating process, estimating model parameters from observed data, and evaluating the fit of the model to the data.\n",
    "\n",
    "The statsmodels.api library in Python provides a wide range of tools for statistical modeling and inference. It allows users to build, estimate, and analyze various statistical models using a simple and intuitive interface."
   ]
  },
  {
   "cell_type": "code",
   "execution_count": null,
   "metadata": {},
   "outputs": [],
   "source": [
    "import statsmodels.api as sm\n",
    "import numpy as np"
   ]
  },
  {
   "cell_type": "markdown",
   "metadata": {},
   "source": [
    "1. **Linear Regression**:\n",
    "   - Linear regression is used to model the relationship between one or more independent variables and a continuous dependent variable.\n"
   ]
  },
  {
   "cell_type": "code",
   "execution_count": null,
   "metadata": {},
   "outputs": [],
   "source": [
    "# Generate example data\n",
    "np.random.seed(0)\n",
    "X = np.random.rand(100, 2)  # Two independent variables"
   ]
  },
  {
   "cell_type": "code",
   "execution_count": null,
   "metadata": {},
   "outputs": [],
   "source": [
    "# Dependent variable with noise\n",
    "\n",
    "y = 2 * X[:, 0] + 3 * X[:, 1] + np.random.normal(0, 1, 100)  "
   ]
  },
  {
   "cell_type": "code",
   "execution_count": null,
   "metadata": {},
   "outputs": [],
   "source": [
    "# Add constant term for intercept\n",
    "X = sm.add_constant(X)"
   ]
  },
  {
   "cell_type": "code",
   "execution_count": null,
   "metadata": {},
   "outputs": [],
   "source": [
    "# Fit linear regression model\n",
    "model = sm.OLS(y, X).fit()"
   ]
  },
  {
   "cell_type": "code",
   "execution_count": null,
   "metadata": {},
   "outputs": [
    {
     "name": "stdout",
     "output_type": "stream",
     "text": [
      "                            OLS Regression Results                            \n",
      "==============================================================================\n",
      "Dep. Variable:                      y   R-squared:                       0.440\n",
      "Model:                            OLS   Adj. R-squared:                  0.428\n",
      "Method:                 Least Squares   F-statistic:                     38.06\n",
      "Date:                Wed, 17 Apr 2024   Prob (F-statistic):           6.31e-13\n",
      "Time:                        12:22:26   Log-Likelihood:                -140.25\n",
      "No. Observations:                 100   AIC:                             286.5\n",
      "Df Residuals:                      97   BIC:                             294.3\n",
      "Df Model:                           2                                         \n",
      "Covariance Type:            nonrobust                                         \n",
      "==============================================================================\n",
      "                 coef    std err          t      P>|t|      [0.025      0.975]\n",
      "------------------------------------------------------------------------------\n",
      "const          0.2554      0.277      0.922      0.359      -0.294       0.805\n",
      "x1             1.4260      0.356      4.011      0.000       0.720       2.132\n",
      "x2             2.8054      0.351      8.004      0.000       2.110       3.501\n",
      "==============================================================================\n",
      "Omnibus:                        1.210   Durbin-Watson:                   2.349\n",
      "Prob(Omnibus):                  0.546   Jarque-Bera (JB):                0.703\n",
      "Skew:                           0.122   Prob(JB):                        0.704\n",
      "Kurtosis:                       3.330   Cond. No.                         5.58\n",
      "==============================================================================\n",
      "\n",
      "Notes:\n",
      "[1] Standard Errors assume that the covariance matrix of the errors is correctly specified.\n"
     ]
    }
   ],
   "source": [
    "# Print model summary\n",
    "print(model.summary())"
   ]
  },
  {
   "cell_type": "code",
   "execution_count": null,
   "metadata": {},
   "outputs": [
    {
     "data": {
      "text/plain": [
       "0.9220216606498195"
      ]
     },
     "execution_count": null,
     "metadata": {},
     "output_type": "execute_result"
    }
   ],
   "source": [
    "0.2554/0.277 "
   ]
  },
  {
   "cell_type": "markdown",
   "metadata": {},
   "source": [
    "- R-squared measures how well the independant variables explain the variability of the dependant variable\n",
    "- F-Statistic measures the significance of the regression model\n",
    "- t-statistic for each coefficient measures the significance level of each independent variable"
   ]
  },
  {
   "cell_type": "markdown",
   "metadata": {},
   "source": [
    "\n",
    "2. **Logistic Regression**:\n",
    "   - Logistic regression is used when the dependent variable is binary (e.g., 0 or 1, True or False).\n"
   ]
  },
  {
   "cell_type": "code",
   "execution_count": null,
   "metadata": {},
   "outputs": [
    {
     "name": "stdout",
     "output_type": "stream",
     "text": [
      "Warning: Maximum number of iterations has been exceeded.\n",
      "         Current function value: 0.000000\n",
      "         Iterations: 35\n",
      "                           Logit Regression Results                           \n",
      "==============================================================================\n",
      "Dep. Variable:                      y   No. Observations:                  100\n",
      "Model:                          Logit   Df Residuals:                       97\n",
      "Method:                           MLE   Df Model:                            2\n",
      "Date:                Wed, 17 Apr 2024   Pseudo R-squ.:                   1.000\n",
      "Time:                        13:05:57   Log-Likelihood:            -1.1958e-06\n",
      "converged:                      False   LL-Null:                       -9.8039\n",
      "Covariance Type:            nonrobust   LLR p-value:                 5.524e-05\n",
      "==============================================================================\n",
      "                 coef    std err          z      P>|z|      [0.025      0.975]\n",
      "------------------------------------------------------------------------------\n",
      "const        -70.8342   4.95e+04     -0.001      0.999   -9.71e+04     9.7e+04\n",
      "x1           196.7613   1.92e+05      0.001      0.999   -3.76e+05    3.76e+05\n",
      "x2           488.7691   7.23e+05      0.001      0.999   -1.42e+06    1.42e+06\n",
      "==============================================================================\n",
      "\n",
      "Complete Separation: The results show that there iscomplete separation or perfect prediction.\n",
      "In this case the Maximum Likelihood Estimator does not exist and the parameters\n",
      "are not identified.\n"
     ]
    },
    {
     "name": "stderr",
     "output_type": "stream",
     "text": [
      "/home/jumashafara/venvs/dataanalysis/lib/python3.10/site-packages/statsmodels/base/model.py:607: ConvergenceWarning: Maximum Likelihood optimization failed to converge. Check mle_retvals\n",
      "  warnings.warn(\"Maximum Likelihood optimization failed to \"\n"
     ]
    }
   ],
   "source": [
    "# Generate example data for logistic regression\n",
    "np.random.seed(0)\n",
    "X = np.random.rand(100, 2)  # Two independent variables\n",
    "# Generate binary outcome variable based on a threshold\n",
    "threshold = 0.6\n",
    "y = (2 * X[:, 0] + 3 * X[:, 1] > threshold).astype(int)\n",
    "\n",
    "# Add constant term for intercept\n",
    "X = sm.add_constant(X)\n",
    "\n",
    "# Fit logistic regression model\n",
    "logit_model = sm.Logit(y, X).fit()\n",
    "\n",
    "# Print model summary\n",
    "print(logit_model.summary())"
   ]
  },
  {
   "cell_type": "markdown",
   "metadata": {},
   "source": [
    "\n",
    "\n",
    "These examples demonstrate how to implement linear regression and logistic regression using `statsmodels.api`. The summary output provides detailed information about the model parameters, goodness-of-fit measures, and statistical significance of predictors. This can be useful for interpreting the results and assessing the performance of the models."
   ]
  }
 ],
 "metadata": {
  "kernelspec": {
   "display_name": "python3",
   "language": "python",
   "name": "python3"
  }
 },
 "nbformat": 4,
 "nbformat_minor": 4
}
