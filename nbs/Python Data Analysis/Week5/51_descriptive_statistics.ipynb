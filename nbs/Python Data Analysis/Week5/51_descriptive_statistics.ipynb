{
 "cells": [
  {
   "cell_type": "code",
   "execution_count": null,
   "metadata": {},
   "outputs": [],
   "source": [
    "## Uncomment and run this cell to install the packages\n",
    "# !pip install pandas numpy statsmodels"
   ]
  },
  {
   "cell_type": "code",
   "execution_count": null,
   "metadata": {},
   "outputs": [],
   "source": [
    "from dataidea.packages import *"
   ]
  },
  {
   "cell_type": "markdown",
   "metadata": {},
   "source": [
    "This notebook has been modified to use the Nobel Price Laureates Dataset which you can download from [opendatasoft](https://public.opendatasoft.com/explore/dataset/nobel-prize-laureates/export/?disjunctive.category)"
   ]
  },
  {
   "cell_type": "markdown",
   "metadata": {},
   "source": [
    "## Descriptive Statistics and Summary Metrics"
   ]
  },
  {
   "cell_type": "markdown",
   "metadata": {},
   "source": [
    "Descriptive statistics is a branch of statistics that deals with the presentation and summary of data in a meaningful and informative way. Its primary goal is to describe and summarize the main features of a dataset. \n",
    "\n",
    "Commonly used measures in descriptive statistics include:\n",
    "\n",
    "1. Measures of central tendency: These describe the center or average of a dataset and include metrics like mean, median, and mode.\n",
    "\n",
    "2. Measures of variability: These indicate the spread or dispersion of the data and include metrics like range, variance, and standard deviation.\n",
    "\n",
    "3. Measures of distribution shape: These describe the distribution of data points and include metrics like skewness and kurtosis.\n",
    "\n",
    "4. Measures of association: These quantify the relationship between variables and include correlation coefficients.\n",
    "\n",
    "Descriptive statistics provide simple summaries about the sample and the observations that have been made."
   ]
  },
  {
   "cell_type": "markdown",
   "metadata": {},
   "source": [
    "#### 1. **Measures of central tendency ie Mean, Median, Mode**:\n",
    "**The Center of the Data:**\n",
    "\n",
    "The center of the data is where most of the values are concentrated.\n",
    "\n",
    "   - Mean: It is the average value of a dataset calculated by summing all values(numerical) and dividing by the total count.\n",
    "   - Median: It is the middle value of a dataset when arranged in ascending order. If there is an even number of observations, the median is the average of the two middle values.\n",
    "   - Mode: It is the value that appears most frequently in a dataset.\n"
   ]
  },
  {
   "cell_type": "code",
   "execution_count": null,
   "metadata": {},
   "outputs": [
    {
     "data": {
      "text/html": [
       "<div>\n",
       "<style scoped>\n",
       "    .dataframe tbody tr th:only-of-type {\n",
       "        vertical-align: middle;\n",
       "    }\n",
       "\n",
       "    .dataframe tbody tr th {\n",
       "        vertical-align: top;\n",
       "    }\n",
       "\n",
       "    .dataframe thead th {\n",
       "        text-align: right;\n",
       "    }\n",
       "</style>\n",
       "<table border=\"1\" class=\"dataframe\">\n",
       "  <thead>\n",
       "    <tr style=\"text-align: right;\">\n",
       "      <th></th>\n",
       "      <th>Year</th>\n",
       "      <th>Gender</th>\n",
       "      <th>Category</th>\n",
       "      <th>birth_year</th>\n",
       "      <th>age</th>\n",
       "    </tr>\n",
       "  </thead>\n",
       "  <tbody>\n",
       "    <tr>\n",
       "      <th>86</th>\n",
       "      <td>1971</td>\n",
       "      <td>male</td>\n",
       "      <td>Medicine</td>\n",
       "      <td>1915</td>\n",
       "      <td>56</td>\n",
       "    </tr>\n",
       "    <tr>\n",
       "      <th>524</th>\n",
       "      <td>1978</td>\n",
       "      <td>male</td>\n",
       "      <td>Medicine</td>\n",
       "      <td>1928</td>\n",
       "      <td>50</td>\n",
       "    </tr>\n",
       "    <tr>\n",
       "      <th>840</th>\n",
       "      <td>1929</td>\n",
       "      <td>male</td>\n",
       "      <td>Medicine</td>\n",
       "      <td>1858</td>\n",
       "      <td>71</td>\n",
       "    </tr>\n",
       "    <tr>\n",
       "      <th>214</th>\n",
       "      <td>2018</td>\n",
       "      <td>male</td>\n",
       "      <td>Chemistry</td>\n",
       "      <td>1951</td>\n",
       "      <td>67</td>\n",
       "    </tr>\n",
       "    <tr>\n",
       "      <th>492</th>\n",
       "      <td>2012</td>\n",
       "      <td>male</td>\n",
       "      <td>Economics</td>\n",
       "      <td>1951</td>\n",
       "      <td>61</td>\n",
       "    </tr>\n",
       "  </tbody>\n",
       "</table>\n",
       "</div>"
      ],
      "text/plain": [
       "     Year Gender   Category  birth_year  age\n",
       "86   1971   male   Medicine        1915   56\n",
       "524  1978   male   Medicine        1928   50\n",
       "840  1929   male   Medicine        1858   71\n",
       "214  2018   male  Chemistry        1951   67\n",
       "492  2012   male  Economics        1951   61"
      ]
     },
     "execution_count": null,
     "metadata": {},
     "output_type": "execute_result"
    }
   ],
   "source": [
    "# load the dataset (modify the path to point to your copy of the dataset)\n",
    "data = pd.read_csv('../assets/nobel_prize_year.csv')\n",
    "data.sample(n=5)"
   ]
  },
  {
   "cell_type": "code",
   "execution_count": null,
   "metadata": {},
   "outputs": [],
   "source": [
    "# get the age column data (optional: convert to numpy array)\n",
    "age = np.array(data.age)"
   ]
  },
  {
   "cell_type": "code",
   "execution_count": null,
   "metadata": {},
   "outputs": [
    {
     "name": "stdout",
     "output_type": "stream",
     "text": [
      "Mean: 60.1244769874477\n",
      "Median: 60.0\n",
      "Mode: 56\n"
     ]
    }
   ],
   "source": [
    "# Let's get the values that describe the center of the ages data \n",
    "mean_value = np.mean(age)\n",
    "median_value = np.median(age)\n",
    "mode_value = sp.stats.mode(age)[0]\n",
    "\n",
    "# Let's print the values\n",
    "print(\"Mean:\", mean_value)\n",
    "print(\"Median:\", median_value)\n",
    "print(\"Mode:\", mode_value)"
   ]
  },
  {
   "cell_type": "markdown",
   "metadata": {},
   "source": [
    "**Homework:**\n",
    "- Other ways to find mode (ie using pandas and numpy)"
   ]
  },
  {
   "cell_type": "markdown",
   "metadata": {},
   "source": [
    "\n",
    "#### 2. **Measures of variability**\n",
    "**The Variation of the Data:**\n",
    "\n",
    "The variation of the data is how spread out the data are around the center.\n",
    "\n",
    "   **a) Variance and Standard Deviation**:\n",
    "   - Variance: It measures the spread of the data points around the mean.\n",
    "   - Standard Deviation: It is the square root of the variance, providing a measure of the average distance between each data point and the mean.\n",
    "\n",
    ">In summary, variance provides a measure of dispersion in squared units, while standard deviation provides a measure of dispersion in the original units of the data\n"
   ]
  },
  {
   "cell_type": "code",
   "execution_count": null,
   "metadata": {},
   "outputs": [
    {
     "name": "stdout",
     "output_type": "stream",
     "text": [
      "Variance: 163.1424552703909\n",
      "Standard Deviation: 12.772723095346228\n"
     ]
    }
   ],
   "source": [
    "# how to implement the variance and standard deviation using numpy\n",
    "variance_value = np.var(age)\n",
    "std_deviation_value = np.std(age)\n",
    "\n",
    "print(\"Variance:\", variance_value)\n",
    "print(\"Standard Deviation:\", std_deviation_value)"
   ]
  },
  {
   "cell_type": "markdown",
   "metadata": {},
   "source": [
    ">Smaller variances and standard deviation values mean that the data has values similar to each other and closer to the mean and the vice versa is true"
   ]
  },
  {
   "cell_type": "code",
   "execution_count": null,
   "metadata": {},
   "outputs": [
    {
     "name": "stdout",
     "output_type": "stream",
     "text": [
      "First Standard Deviation: 12.772723095346228\n",
      "Second Standard Deviation: 25.545446190692456\n",
      "Third Standard Deviation: 38.31816928603868\n"
     ]
    }
   ],
   "source": [
    "std_second = 2 * std_deviation_value  # Multiply by 2 for the second standard deviation\n",
    "std_third = 3 * std_deviation_value   # Multiply by 3 for the third standard deviation\n",
    "\n",
    "print(\"First Standard Deviation:\", std_deviation_value)\n",
    "print(\"Second Standard Deviation:\", std_second)\n",
    "print(\"Third Standard Deviation:\", std_third)\n",
    "\n",
    "# empirical rule, also known as the 68-95-99.7 rule, "
   ]
  },
  {
   "cell_type": "code",
   "execution_count": null,
   "metadata": {},
   "outputs": [
    {
     "data": {
      "image/png": "[encoded data removed]",
      "text/plain": [
       "<Figure size 640x480 with 1 Axes>"
      ]
     },
     "metadata": {},
     "output_type": "display_data"
    }
   ],
   "source": [
    "plt.hist(x=age, bins=20, edgecolor='black')\n",
    "# add standard deviation lines\n",
    "plt.axvline(mean_value, color='red', linestyle='--', label='Mean')\n",
    "plt.axvline(mean_value+std_deviation_value, color='orange', linestyle='--', label='1st std Dev')\n",
    "plt.axvline(mean_value-std_deviation_value, color='orange', linestyle='--')\n",
    "plt.axvline(mean_value+std_second, color='black', linestyle='--', label='2nd Std Dev')\n",
    "plt.axvline(mean_value-std_second, color='black', linestyle='--')\n",
    "plt.axvline(mean_value+std_third, color='green', linestyle='--', label='3rd Std Dev')\n",
    "plt.axvline(mean_value-std_third, color='green', linestyle='--')\n",
    "plt.title('Age of Nobel Prize Winners')\n",
    "plt.ylabel('Frequency')\n",
    "plt.xlabel('Age')\n",
    "# Adjust the position of the legend\n",
    "plt.legend(loc='upper left')\n",
    "\n",
    "plt.show()"
   ]
  },
  {
   "cell_type": "markdown",
   "metadata": {},
   "source": [
    "**The rule to consider:**\n",
    "\n",
    "The empirical rule, also known as the 68-95-99.7 rule, describes the distribution of data in a normal distribution. According to this rule:\n",
    "\n",
    "1. Approximately 68% of the data falls within one standard deviation of the mean.\n",
    "2. Approximately 95% of the data falls within two standard deviations of the mean.\n",
    "3. Approximately 99.7% of the data falls within three standard deviations of the mean."
   ]
  },
  {
   "cell_type": "markdown",
   "metadata": {},
   "source": [
    "\n",
    " b) **Range and Interquartile Range (IQR)**:\n",
    "   - Range: It is the difference between the maximum and minimum values in a dataset. It is simplest measure of variation\n",
    "   - Interquartile Range (IQR): It is the range between the first quartile (25th percentile) and the third quartile (75th percentile) of the dataset.\n",
    "\n",
    ">In summary, while the range gives an overview of the entire spread of the data from lowest to highest, the interquartile range focuses s`pecifically on the spread of the middle portion of the data, making it more robust against outliers.\n"
   ]
  },
  {
   "cell_type": "code",
   "execution_count": null,
   "metadata": {},
   "outputs": [
    {
     "name": "stdout",
     "output_type": "stream",
     "text": [
      "Range: 93\n"
     ]
    }
   ],
   "source": [
    "# One way to obtain range\n",
    "min_age = min(age)\n",
    "max_age = max(age)\n",
    "age_range = max_age - min_age\n",
    "print('Range:', age_range)"
   ]
  },
  {
   "cell_type": "code",
   "execution_count": null,
   "metadata": {},
   "outputs": [
    {
     "name": "stdout",
     "output_type": "stream",
     "text": [
      "Range: 93\n"
     ]
    }
   ],
   "source": [
    "# Calculating the range using numpy\n",
    "range_value = np.ptp(age)\n",
    "\n",
    "print(\"Range:\", range_value)"
   ]
  },
  {
   "cell_type": "code",
   "execution_count": null,
   "metadata": {},
   "outputs": [
    {
     "data": {
      "image/png": "[encoded data removed]",
      "text/plain": [
       "<Figure size 640x480 with 1 Axes>"
      ]
     },
     "metadata": {},
     "output_type": "display_data"
    }
   ],
   "source": [
    "plt.hist(x=age, bins=20, edgecolor='black')\n",
    "# add standard deviation lines\n",
    "plt.axvline(min_age, color='green', linestyle='--', label=f'Min({min_age})')\n",
    "plt.axvline(max_age, color='red', linestyle='--', label=f'Max({max_age})')\n",
    "plt.plot([min_age, max_age], [170, 170], label=f'Range({age_range})')\n",
    "# labels\n",
    "plt.title('Age of Nobel Prize Winners')\n",
    "plt.ylabel('Frequency')\n",
    "plt.xlabel('Age')\n",
    "# Adjust the position of the legend\n",
    "plt.legend(loc='upper left')\n",
    "plt.show()"
   ]
  },
  {
   "cell_type": "markdown",
   "metadata": {},
   "source": [
    "**Quartiles:**"
   ]
  },
  {
   "cell_type": "markdown",
   "metadata": {},
   "source": [
    "**Calculating Quartiles**"
   ]
  },
  {
   "cell_type": "markdown",
   "metadata": {},
   "source": [
    "The quartiles (Q0,Q1,Q2,Q3,Q4) are the values that separate each quarter.\n",
    "\n",
    "Between Q0 and Q1 are the 25% lowest values in the data. Between Q1 and Q2 are the next 25%. And so on.\n",
    "\n",
    "- Q0 is the smallest value in the data.\n",
    "- Q1 is the value separating the first quarter from the second quarter of the data.\n",
    "- Q2 is the middle value (median), separating the bottom from the top half.\n",
    "- Q3 is the value separating the third quarter from the fourth quarter\n",
    "- Q4 is the largest value in the data."
   ]
  },
  {
   "cell_type": "code",
   "execution_count": null,
   "metadata": {},
   "outputs": [
    {
     "name": "stdout",
     "output_type": "stream",
     "text": [
      "[ 4. 51. 60. 69. 97.]\n"
     ]
    }
   ],
   "source": [
    "# Calculate the quartile\n",
    "quartiles = np.quantile(a=age, q=[0, 0.25, 0.5, 0.75, 1])\n",
    "\n",
    "print(quartiles)"
   ]
  },
  {
   "cell_type": "code",
   "execution_count": null,
   "metadata": {},
   "outputs": [
    {
     "data": {
      "image/png": "[encoded data removed]",
      "text/plain": [
       "<Figure size 640x480 with 1 Axes>"
      ]
     },
     "metadata": {},
     "output_type": "display_data"
    }
   ],
   "source": [
    "plt.hist(x=age, bins=20, edgecolor='black')\n",
    "# add standard deviation lines\n",
    "plt.axvline(quartiles[0], color='orange', linestyle='--', label=f'Q0({quartiles[0]})')\n",
    "plt.axvline(quartiles[1], color='red', linestyle='--', label=f'Q1({quartiles[1]})')\n",
    "plt.axvline(quartiles[2], color='green', linestyle='--', label=f'Q2({quartiles[2]})')\n",
    "plt.axvline(quartiles[3], color='blue', linestyle='--', label=f'Q3({quartiles[3]})')\n",
    "plt.axvline(quartiles[4], color='black', linestyle='--', label=f'Q4({quartiles[4]})')\n",
    "plt.plot([quartiles[0], quartiles[1]], [180, 180], color='red', label=f'25%')\n",
    "plt.plot([quartiles[0], quartiles[2]], [175, 175], color='green', label=f'50%')\n",
    "plt.plot([quartiles[0], quartiles[3]], [170, 170], color='blue', label=f'75%')\n",
    "plt.plot([quartiles[0], quartiles[4]], [165, 165], color='black', label=f'100%')\n",
    "# labels\n",
    "plt.title('Age of Nobel Prize Winners')\n",
    "plt.ylabel('Frequency')\n",
    "plt.xlabel('Age')\n",
    "# Adjust the position of the legend\n",
    "plt.legend(loc='center left')\n",
    "plt.show()"
   ]
  },
  {
   "cell_type": "markdown",
   "metadata": {},
   "source": [
    "**Percentiles**\n",
    "Percentiles are values that separate the data into 100 equal parts.\n",
    "\n",
    "For example, The 95th percentile separates the lowest 95% of the values from the top 5%\n",
    "\n",
    "- The 25th percentile (P25%) is the same as the first quartile (Q1).\n",
    "\n",
    "- The 50th percentile (P50%) is the same as the second quartile (Q2) and the median.\n",
    "\n",
    "- The 75th percentile (P75%) is the same as the third quartile (Q3)\n",
    "\n",
    "**Calculating Percentiles with Python**"
   ]
  },
  {
   "cell_type": "code",
   "execution_count": null,
   "metadata": {},
   "outputs": [
    {
     "name": "stdout",
     "output_type": "stream",
     "text": [
      "first_quartile:  51.0\n",
      "middle_percentile:  60.0\n",
      "third_quartile 69.0\n"
     ]
    }
   ],
   "source": [
    "first_quartile = np.percentile(age, 25) # 25th percentile\n",
    "middle_percentile = np.percentile(age, 50)\n",
    "third_quartile = np.percentile(age, 75) # 75th percentile\n",
    "\n",
    "print('first_quartile: ', first_quartile)\n",
    "print('middle_percentile: ', middle_percentile)  \n",
    "print('third_quartile', third_quartile)"
   ]
  },
  {
   "cell_type": "markdown",
   "metadata": {},
   "source": [
    "Note also that we can be able to use the `np.quantile()` method  to calculate the percentiles which makes logical sense as all the values mark a fraction(percentage) of the data"
   ]
  },
  {
   "cell_type": "code",
   "execution_count": null,
   "metadata": {},
   "outputs": [
    {
     "name": "stdout",
     "output_type": "stream",
     "text": [
      "Percentiles: [51. 60. 69.]\n"
     ]
    }
   ],
   "source": [
    "percentiles = np.quantile(a=age, q=[0.25, 0.50, 0.75])\n",
    "print('Percentiles:', percentiles)"
   ]
  },
  {
   "cell_type": "markdown",
   "metadata": {},
   "source": [
    "Now we can be able to obtain the interquartile range as the difference between the third and first quartiles as predefined."
   ]
  },
  {
   "cell_type": "code",
   "execution_count": null,
   "metadata": {},
   "outputs": [
    {
     "name": "stdout",
     "output_type": "stream",
     "text": [
      "Interquartile range:  18.0\n"
     ]
    }
   ],
   "source": [
    "# obtain the interquartile\n",
    "iqr_value = third_quartile - first_quartile\n",
    "\n",
    "print('Interquartile range: ', iqr_value)"
   ]
  },
  {
   "cell_type": "markdown",
   "metadata": {},
   "source": [
    "Note: *Quartiles and percentiles are both types of quantiles*"
   ]
  },
  {
   "cell_type": "markdown",
   "metadata": {},
   "source": [
    "#### 3. **Measures of distribution shape ie Skewness and Kurtosis**:\n",
    "**The shape of the Data:**\n",
    "\n",
    "The shape of the data refers to how the data are bounded on either side of the center.\n",
    "   - Skewness: It measures the asymmetry of the distribution.\n",
    "   - Kurtosis: It measures the peakedness or flatness of the distribution.\n",
    "\n",
    ">In simple terms, skewness tells you if your data is leaning more to one side or the other, while kurtosis tells you if your data has heavy or light tails and how sharply it peaks."
   ]
  },
  {
   "cell_type": "code",
   "execution_count": null,
   "metadata": {},
   "outputs": [
    {
     "data": {
      "image/png": "[encoded data removed]",
      "text/plain": [
       "<Figure size 640x480 with 1 Axes>"
      ]
     },
     "metadata": {},
     "output_type": "display_data"
    }
   ],
   "source": [
    "# Plot the histogram\n",
    "plt.hist(x=age, bins=20, density=True, edgecolor='black')  # Set density=True for normalized histogram\n",
    "\n",
    "# Create a normal distribution curve\n",
    "xmin, xmax = plt.xlim()\n",
    "x = np.linspace(xmin, xmax, 100)\n",
    "p = sp.stats.norm.pdf(x, mean_value, std_deviation_value)\n",
    "plt.plot(x, p, 'k', linewidth=2)  # 'k' indicates black color, you can change it to any color\n",
    "\n",
    "# Labels and legend\n",
    "plt.xlabel('Age')\n",
    "plt.ylabel('Probability Density')\n",
    "plt.title('Histogram with Normal Distribution Curve')\n",
    "plt.legend(['Normal Distribution', 'Histogram'])\n",
    "\n",
    "plt.show()"
   ]
  },
  {
   "cell_type": "code",
   "execution_count": null,
   "metadata": {},
   "outputs": [
    {
     "name": "stdout",
     "output_type": "stream",
     "text": [
      "Skewness: -0.10796649932566309\n"
     ]
    }
   ],
   "source": [
    "skewness_value = sp.stats.skew(age)\n",
    "\n",
    "print(\"Skewness:\", skewness_value)"
   ]
  },
  {
   "cell_type": "markdown",
   "metadata": {},
   "source": [
    "**How to interpret Skewness:**\n",
    "\n",
    "- Positive skewness (> 0) indicates that the tail on the right side of the distribution is longer or fatter than the left side (right skewed). \n",
    "- Negative skewness (< 0) indicates that the tail on the left side of the distribution is longer or fatter than the right side (left skewed). "
   ]
  },
  {
   "cell_type": "code",
   "execution_count": null,
   "metadata": {},
   "outputs": [
    {
     "name": "stdout",
     "output_type": "stream",
     "text": [
      "Kurtosis: -0.09094568849488294\n"
     ]
    }
   ],
   "source": [
    "kurtosis_value = sp.stats.kurtosis(age)\n",
    "\n",
    "print(\"Kurtosis:\", kurtosis_value)"
   ]
  },
  {
   "cell_type": "markdown",
   "metadata": {},
   "source": [
    "**How to interpret Kurtosis:**\n",
    "\n",
    "- A kurtosis of 3 indicates the normal distribution (mesokurtic), also known as Gaussian distribution.\n",
    "- Positive kurtosis (> 3) indicates a distribution with heavier tails and a sharper peak than the normal distribution. This is called leptokurtic.\n",
    "- Negative kurtosis (< 3) indicates a distribution with lighter tails and a flatter peak than the normal distribution. This is called platykurtic."
   ]
  },
  {
   "cell_type": "markdown",
   "metadata": {},
   "source": [
    "#### 4.**Measures of association**\n",
    "\n",
    "a) **Correlation**\n",
    "\n",
    "- Correlation measures the relationship between two numerical variables.\n",
    "\n",
    "**Correlation Matrix**\n",
    "\n",
    "- A correlation matrix is simply a table showing the correlation coefficients between variables\n",
    "\n",
    "**Correlation Matrix in Python**\n",
    "\n",
    "We can use the `corrcoef()` function in Python to create a correlation matrix."
   ]
  },
  {
   "cell_type": "code",
   "execution_count": null,
   "metadata": {},
   "outputs": [
    {
     "name": "stdout",
     "output_type": "stream",
     "text": [
      "[[1. 1.]\n",
      " [1. 1.]]\n"
     ]
    }
   ],
   "source": [
    "# Generate example data\n",
    "x = np.array([1, 2, 3, 4, 5])\n",
    "y = np.array([2, 4, 6, 8, 10])\n",
    "\n",
    "correlation_matrix = np.corrcoef(x, y)\n",
    "print(correlation_matrix)"
   ]
  },
  {
   "cell_type": "markdown",
   "metadata": {},
   "source": [
    "**Correlation Coefficient**:\n",
    "   - The correlation coefficient measures the strength and direction of the linear relationship between two continuous variables.\n",
    "   - It ranges from -1 to 1, where:\n",
    "     - 1 indicates a perfect positive linear relationship,\n",
    "     - -1 indicates a perfect negative linear relationship,\n",
    "     - 0 indicates no linear relationship."
   ]
  },
  {
   "cell_type": "code",
   "execution_count": null,
   "metadata": {},
   "outputs": [
    {
     "name": "stdout",
     "output_type": "stream",
     "text": [
      "Correlation Coefficient: 0.9999999999999999\n"
     ]
    }
   ],
   "source": [
    "# Calculate correlation coefficient\n",
    "correlation = np.corrcoef(x, y)[0, 1]\n",
    "print(\"Correlation Coefficient:\", correlation)"
   ]
  },
  {
   "cell_type": "markdown",
   "metadata": {},
   "source": [
    "**Correlation vs Causality:**\n",
    "\n",
    "Correlation measures the numerical relationship between two varaibles\n",
    "\n",
    "A high correlation coefficient (close to 1), does not mean that we can for sure conclude an actual relationship between two variables.\n",
    "\n",
    "A classic example:\n",
    "\n",
    "- During the summer, the sale of ice cream at a beach increases\n",
    "- Simultaneously, drowning accidents also increase as well\n",
    "  \n",
    "Does this mean that increase of ice cream sale is a direct cause of increased drowning accidents?"
   ]
  },
  {
   "cell_type": "markdown",
   "metadata": {},
   "source": [
    "**Measures of Association for Categorical Variables**\n",
    "\n",
    "b) **Contingency Tables and Chi-square Test for Independence**:\n",
    "   - Contingency tables are used to summarize the relationship between two categorical variables by counting the frequency of observations for each combination of categories.\n",
    "   - Chi-square test for independence determines whether there is a significant association between the two categorical variables."
   ]
  },
  {
   "cell_type": "code",
   "execution_count": null,
   "metadata": {},
   "outputs": [],
   "source": [
    "# Pick out on the Gender and Category from the dataset\n",
    "# We drop all the missing values just for demonstration purposes\n",
    "demo_data = data[data.Gender != 'org'][['Gender', 'Category']].dropna()"
   ]
  },
  {
   "cell_type": "code",
   "execution_count": null,
   "metadata": {},
   "outputs": [],
   "source": [
    "# Obtain the cross tabulation of Gender and Category\n",
    "# The cross tabulation is also known as the contingency table\n",
    "gender_category_tab = pd.crosstab(demo_data.Gender, demo_data.Category)"
   ]
  },
  {
   "cell_type": "code",
   "execution_count": null,
   "metadata": {},
   "outputs": [
    {
     "data": {
      "text/html": [
       "<div>\n",
       "<style scoped>\n",
       "    .dataframe tbody tr th:only-of-type {\n",
       "        vertical-align: middle;\n",
       "    }\n",
       "\n",
       "    .dataframe tbody tr th {\n",
       "        vertical-align: top;\n",
       "    }\n",
       "\n",
       "    .dataframe thead th {\n",
       "        text-align: right;\n",
       "    }\n",
       "</style>\n",
       "<table border=\"1\" class=\"dataframe\">\n",
       "  <thead>\n",
       "    <tr style=\"text-align: right;\">\n",
       "      <th>Category</th>\n",
       "      <th>Chemistry</th>\n",
       "      <th>Economics</th>\n",
       "      <th>Literature</th>\n",
       "      <th>Medicine</th>\n",
       "      <th>Peace</th>\n",
       "      <th>Physics</th>\n",
       "    </tr>\n",
       "    <tr>\n",
       "      <th>Gender</th>\n",
       "      <th></th>\n",
       "      <th></th>\n",
       "      <th></th>\n",
       "      <th></th>\n",
       "      <th></th>\n",
       "      <th></th>\n",
       "    </tr>\n",
       "  </thead>\n",
       "  <tbody>\n",
       "    <tr>\n",
       "      <th>female</th>\n",
       "      <td>8</td>\n",
       "      <td>3</td>\n",
       "      <td>17</td>\n",
       "      <td>13</td>\n",
       "      <td>19</td>\n",
       "      <td>5</td>\n",
       "    </tr>\n",
       "    <tr>\n",
       "      <th>male</th>\n",
       "      <td>186</td>\n",
       "      <td>90</td>\n",
       "      <td>103</td>\n",
       "      <td>214</td>\n",
       "      <td>92</td>\n",
       "      <td>220</td>\n",
       "    </tr>\n",
       "  </tbody>\n",
       "</table>\n",
       "</div>"
      ],
      "text/plain": [
       "Category  Chemistry  Economics  Literature  Medicine  Peace  Physics\n",
       "Gender                                                              \n",
       "female            8          3          17        13     19        5\n",
       "male            186         90         103       214     92      220"
      ]
     },
     "execution_count": null,
     "metadata": {},
     "output_type": "execute_result"
    }
   ],
   "source": [
    "# Let's have a look at the outcome\n",
    "gender_category_tab"
   ]
  },
  {
   "cell_type": "code",
   "execution_count": null,
   "metadata": {},
   "outputs": [
    {
     "name": "stdout",
     "output_type": "stream",
     "text": [
      "Chi-square Statistic: 41.382\n",
      "p-value: 7.9e-08\n",
      "Degrees of freedom (dof): 5\n"
     ]
    }
   ],
   "source": [
    "chi2_stat, p_value, dof, expected = sp.stats.chi2_contingency(gender_category_tab)\n",
    "print('Chi-square Statistic:', round(chi2_stat, 3))\n",
    "print('p-value:', round(p_value, 9))\n",
    "print('Degrees of freedom (dof):', dof)\n",
    "# print('Expected:', expected)"
   ]
  },
  {
   "cell_type": "markdown",
   "metadata": {},
   "source": [
    "**Interpretation of Chi2 Test Results:**\n",
    "\n",
    "- The Chi-square statistic measures the difference between the observed frequencies in the contingency table and the frequencies that would be expected if the variables were independent.\n",
    "- The p-value is the probability of obtaining a Chi-square statistic as extreme as, or more extreme than, the one observed in the sample, assuming that the null hypothesis is true (i.e., assuming that there is no association between the variables).\n",
    "- A low p-value indicates strong evidence against the null hypothesis, suggesting that there is a significant association between the variables.\n",
    "- A high p-value indicates weak evidence against the null hypothesis, suggesting that there is no significant association between the variables."
   ]
  },
  {
   "cell_type": "markdown",
   "metadata": {},
   "source": [
    "c. **Measures of Association for Categorical Variables**:\n",
    "   - Measures like Cramer's V or phi coefficient quantify the strength of association between two categorical variables.\n",
    "   - These measures are based on chi-square statistics and the dimensions of the contingency table."
   ]
  },
  {
   "cell_type": "markdown",
   "metadata": {},
   "source": [
    "**Cramer's V formula:**\n",
    "\n",
    "<img src=\"../assets/cramers_v.png\" style=\"background: #67FFF0; width: 100%;\"/>"
   ]
  },
  {
   "cell_type": "code",
   "execution_count": null,
   "metadata": {},
   "outputs": [],
   "source": [
    "def cramersV(contingency_table):\n",
    "    \n",
    "    chi2_statistic = sp.stats.chi2_contingency(contingency_table)[0]\n",
    "    total_observations = gender_category_tab.sum().sum()\n",
    "    phi2 = chi2_statistic / total_observations\n",
    "    rows, columns = gender_category_tab.shape\n",
    "    \n",
    "    return np.sqrt(phi2/ min(rows-1, columns-1))"
   ]
  },
  {
   "cell_type": "code",
   "execution_count": null,
   "metadata": {},
   "outputs": [],
   "source": [
    "def cramersVCorrected(contingency_table):\n",
    "    \n",
    "    chi2_statistic = sp.stats.chi2_contingency(contingency_table)[0]\n",
    "    total_observations = gender_category_tab.sum().sum()\n",
    "    phi2 = chi2_statistic / total_observations\n",
    "    rows, columns = gender_category_tab.shape\n",
    "    phi2_corrected = max(0, phi2 - ((columns-1)*(rows-1))/(total_observations-1))\n",
    "    rows_corrected = rows - ((rows-1)**2)/(total_observations-1)\n",
    "    columns_corrected = columns - ((columns-1)**2)/(total_observations-1)\n",
    "    \n",
    "    return np.sqrt(phi2_corrected / min((columns_corrected-1), (rows_corrected-1)))"
   ]
  },
  {
   "cell_type": "code",
   "execution_count": null,
   "metadata": {},
   "outputs": [
    {
     "data": {
      "text/plain": [
       "0.2065471240964684"
      ]
     },
     "execution_count": null,
     "metadata": {},
     "output_type": "execute_result"
    }
   ],
   "source": [
    "cramersV(gender_category_tab)"
   ]
  },
  {
   "cell_type": "code",
   "execution_count": null,
   "metadata": {},
   "outputs": [
    {
     "data": {
      "text/plain": [
       "0.19375370250760823"
      ]
     },
     "execution_count": null,
     "metadata": {},
     "output_type": "execute_result"
    }
   ],
   "source": [
    "cramersVCorrected(gender_category_tab)"
   ]
  },
  {
   "cell_type": "markdown",
   "metadata": {},
   "source": [
    "Cramer's V is measure of association between two categorical variables. It ranges from 0 to 1 where: \n",
    "\n",
    "- 0 indicates no association between the variables\n",
    "- 1 indicates a perfect association between the variables\n",
    "\n",
    "Here's an interpretation of the Cramer's V:\n",
    "\n",
    "- Small effect: Around 0.1\n",
    "- Medium effect: Around 0.3\n",
    "- Large effect: Around 0.5 or greater"
   ]
  },
  {
   "cell_type": "markdown",
   "metadata": {},
   "source": [
    "#### Frequency Tables\n",
    "Frequency means the number of times a value appears in the data. A table can quickly show us how many times each value appears. If the data has many different values, it is easier to use intervals of values to present them in a table.\n",
    "\n",
    "Here's the age of the 934 Nobel Prize winners up until the year 2020. IN the table, each row is an age interval of 10 years"
   ]
  },
  {
   "cell_type": "markdown",
   "metadata": {},
   "source": [
    "Age Interval | Frequency\n",
    "-------------|-----------\n",
    "10-19 |\t1\n",
    "20-29 |\t2\n",
    "30-39 |\t48\n",
    "40-49 |\t158\n",
    "50-59 |\t236\n",
    "60-69 |\t262\n",
    "70-79 |\t174\n",
    "80-89 |\t50\n",
    "90-99 |\t3\n",
    "\n",
    "**Note:** *The intervals for the values are also called bin*"
   ]
  }
 ],
 "metadata": {
  "kernelspec": {
   "display_name": "python3",
   "language": "python",
   "name": "python3"
  }
 },
 "nbformat": 4,
 "nbformat_minor": 4
}
