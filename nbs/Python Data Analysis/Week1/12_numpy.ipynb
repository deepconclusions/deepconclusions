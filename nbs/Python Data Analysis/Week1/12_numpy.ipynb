{
 "cells": [
  {
   "cell_type": "markdown",
   "metadata": {},
   "source": [
    "## Numpy\n",
    "- Numpy is a python package used for scientific computing\n",
    "- Numpy provides arrays which are greater and faster alternatives to traditional python lists. An array is a group of elements of the same data type\n",
    "- A standard numpy array is required to have elements of the same data type."
   ]
  },
  {
   "cell_type": "code",
   "execution_count": null,
   "metadata": {},
   "outputs": [],
   "source": [
    "# Uncomment and run this cell to install numpy\n",
    "# !pip install numpy"
   ]
  },
  {
   "cell_type": "markdown",
   "metadata": {},
   "source": [
    "### Inspecting our arrays"
   ]
  },
  {
   "cell_type": "code",
   "execution_count": null,
   "metadata": {},
   "outputs": [],
   "source": [
    "# import numpy module\n",
    "import numpy as np"
   ]
  },
  {
   "cell_type": "code",
   "execution_count": null,
   "metadata": {},
   "outputs": [
    {
     "data": {
      "text/plain": [
       "'1.24.1'"
      ]
     },
     "execution_count": null,
     "metadata": {},
     "output_type": "execute_result"
    }
   ],
   "source": [
    "# checking the numpy version\n",
    "np.__version__"
   ]
  },
  {
   "cell_type": "code",
   "execution_count": null,
   "metadata": {},
   "outputs": [],
   "source": [
    "# creating a numpy array\n",
    "num_arr = np.array([1, 2, 3, 4])"
   ]
  },
  {
   "cell_type": "markdown",
   "metadata": {},
   "source": [
    "The object that's created by `array()` is called `ndarray`.\n",
    "This can be shown by checking the type of the object using `type()`"
   ]
  },
  {
   "cell_type": "code",
   "execution_count": null,
   "metadata": {},
   "outputs": [
    {
     "data": {
      "text/plain": [
       "numpy.ndarray"
      ]
     },
     "execution_count": null,
     "metadata": {},
     "output_type": "execute_result"
    }
   ],
   "source": [
    "# Checking type of object\n",
    "type(num_arr)"
   ]
  },
  {
   "cell_type": "markdown",
   "metadata": {},
   "source": [
    "#### Data Types\n",
    "The table below describes some of the most common data types we use in numpy\n",
    "\n",
    "Data Type | Description\n",
    "----------|-----------\n",
    "`np.int64`|Signed 64-bit integer types\n",
    "`np.float32`|Standard double-precision floating point\n",
    "`np.complex`|Complex numbers represented by 128 floats\n",
    "`np.bool`|Boolean type storing `True` and `False` values\n",
    "`np.object`|Python object type\n",
    "`np.string_`|Fixed-length string type\n",
    "`np.unicode_`|Fixed-length unicode type"
   ]
  },
  {
   "cell_type": "code",
   "execution_count": null,
   "metadata": {},
   "outputs": [
    {
     "data": {
      "text/plain": [
       "(4,)"
      ]
     },
     "execution_count": null,
     "metadata": {},
     "output_type": "execute_result"
    }
   ],
   "source": [
    "# shape of array\n",
    "num_arr.shape"
   ]
  },
  {
   "cell_type": "code",
   "execution_count": null,
   "metadata": {},
   "outputs": [
    {
     "data": {
      "text/plain": [
       "1"
      ]
     },
     "execution_count": null,
     "metadata": {},
     "output_type": "execute_result"
    }
   ],
   "source": [
    "# finding the number of dimensions\n",
    "num_arr.ndim"
   ]
  },
  {
   "cell_type": "code",
   "execution_count": null,
   "metadata": {},
   "outputs": [
    {
     "data": {
      "text/plain": [
       "4"
      ]
     },
     "execution_count": null,
     "metadata": {},
     "output_type": "execute_result"
    }
   ],
   "source": [
    "# number of elements in array\n",
    "len(num_arr)"
   ]
  },
  {
   "cell_type": "code",
   "execution_count": null,
   "metadata": {},
   "outputs": [
    {
     "data": {
      "text/plain": [
       "4"
      ]
     },
     "execution_count": null,
     "metadata": {},
     "output_type": "execute_result"
    }
   ],
   "source": [
    "# another way to get the number of elements\n",
    "num_arr.size"
   ]
  },
  {
   "cell_type": "code",
   "execution_count": null,
   "metadata": {},
   "outputs": [
    {
     "data": {
      "text/plain": [
       "'int64'"
      ]
     },
     "execution_count": null,
     "metadata": {},
     "output_type": "execute_result"
    }
   ],
   "source": [
    "# finding data type of array elements\n",
    "num_arr.dtype.name"
   ]
  },
  {
   "cell_type": "code",
   "execution_count": null,
   "metadata": {},
   "outputs": [
    {
     "name": "stdout",
     "output_type": "stream",
     "text": [
      "Array: [1.2 3.5 7. ], Data Type: float64\n",
      "Array: [1 3 7], Data Type: int64\n"
     ]
    }
   ],
   "source": [
    "# converting an array\n",
    "float_arr = np.array([1.2, 3.5, 7.0])\n",
    "\n",
    "# use astype() to convert to a specific\n",
    "int_arr = float_arr.astype(int)\n",
    "\n",
    "print(f'Array: {float_arr}, Data Type: {float_arr.dtype}')\n",
    "print(f'Array: {int_arr}, Data Type: {int_arr.dtype}')"
   ]
  },
  {
   "cell_type": "markdown",
   "metadata": {},
   "source": [
    "### Ask for help"
   ]
  },
  {
   "cell_type": "code",
   "execution_count": null,
   "metadata": {},
   "outputs": [
    {
     "name": "stdout",
     "output_type": "stream",
     "text": [
      "Tuple of array dimensions.\n",
      "\n",
      "The shape property is usually used to get the current shape of an array,\n",
      "but may also be used to reshape the array in-place by assigning a tuple of\n",
      "array dimensions to it.  As with `numpy.reshape`, one of the new shape\n",
      "dimensions can be -1, in which case its value is inferred from the size of\n",
      "the array and the remaining dimensions. Reshaping an array in-place will\n",
      "fail if a copy is required.\n",
      "\n",
      ".. warning::\n",
      "\n",
      "    Setting ``arr.shape`` is discouraged and may be deprecated in the\n",
      "    future.  Using `ndarray.reshape` is the preferred approach.\n",
      "\n",
      "Examples\n",
      "--------\n",
      ">>> x = np.array([1, 2, 3, 4])\n",
      ">>> x.shape\n",
      "(4,)\n",
      ">>> y = np.zeros((2, 3, 4))\n",
      ">>> y.shape\n",
      "(2, 3, 4)\n",
      ">>> y.shape = (3, 8)\n",
      ">>> y\n",
      "array([[ 0.,  0.,  0.,  0.,  0.,  0.,  0.,  0.],\n",
      "       [ 0.,  0.,  0.,  0.,  0.,  0.,  0.,  0.],\n",
      "       [ 0.,  0.,  0.,  0.,  0.,  0.,  0.,  0.]])\n",
      ">>> y.shape = (3, 6)\n",
      "Traceback (most recent call last):\n",
      "  File \"<stdin>\", line 1, in <module>\n",
      "ValueError: total size of new array must be unchanged\n",
      ">>> np.zeros((4,2))[::2].shape = (-1,)\n",
      "Traceback (most recent call last):\n",
      "  File \"<stdin>\", line 1, in <module>\n",
      "AttributeError: Incompatible shape for in-place modification. Use\n",
      "`.reshape()` to make a copy with the desired shape.\n",
      "\n",
      "See Also\n",
      "--------\n",
      "numpy.shape : Equivalent getter function.\n",
      "numpy.reshape : Function similar to setting ``shape``.\n",
      "ndarray.reshape : Method similar to setting ``shape``.\n"
     ]
    }
   ],
   "source": [
    "np.info(np.ndarray.shape)"
   ]
  },
  {
   "cell_type": "code",
   "execution_count": null,
   "metadata": {},
   "outputs": [
    {
     "data": {
      "text/plain": [
       "\u001b[0;31mType:\u001b[0m        getset_descriptor\n",
       "\u001b[0;31mString form:\u001b[0m <attribute 'shape' of 'numpy.ndarray' objects>\n",
       "\u001b[0;31mDocstring:\u001b[0m  \n",
       "Tuple of array dimensions.\n",
       "\n",
       "The shape property is usually used to get the current shape of an array,\n",
       "but may also be used to reshape the array in-place by assigning a tuple of\n",
       "array dimensions to it.  As with `numpy.reshape`, one of the new shape\n",
       "dimensions can be -1, in which case its value is inferred from the size of\n",
       "the array and the remaining dimensions. Reshaping an array in-place will\n",
       "fail if a copy is required.\n",
       "\n",
       ".. warning::\n",
       "\n",
       "    Setting ``arr.shape`` is discouraged and may be deprecated in the\n",
       "    future.  Using `ndarray.reshape` is the preferred approach.\n",
       "\n",
       "Examples\n",
       "--------\n",
       ">>> x = np.array([1, 2, 3, 4])\n",
       ">>> x.shape\n",
       "(4,)\n",
       ">>> y = np.zeros((2, 3, 4))\n",
       ">>> y.shape\n",
       "(2, 3, 4)\n",
       ">>> y.shape = (3, 8)\n",
       ">>> y\n",
       "array([[ 0.,  0.,  0.,  0.,  0.,  0.,  0.,  0.],\n",
       "       [ 0.,  0.,  0.,  0.,  0.,  0.,  0.,  0.],\n",
       "       [ 0.,  0.,  0.,  0.,  0.,  0.,  0.,  0.]])\n",
       ">>> y.shape = (3, 6)\n",
       "Traceback (most recent call last):\n",
       "  File \"<stdin>\", line 1, in <module>\n",
       "ValueError: total size of new array must be unchanged\n",
       ">>> np.zeros((4,2))[::2].shape = (-1,)\n",
       "Traceback (most recent call last):\n",
       "  File \"<stdin>\", line 1, in <module>\n",
       "AttributeError: Incompatible shape for in-place modification. Use\n",
       "`.reshape()` to make a copy with the desired shape.\n",
       "\n",
       "See Also\n",
       "--------\n",
       "numpy.shape : Equivalent getter function.\n",
       "numpy.reshape : Function similar to setting ``shape``.\n",
       "ndarray.reshape : Method similar to setting ``shape``."
      ]
     },
     "metadata": {},
     "output_type": "display_data"
    }
   ],
   "source": [
    "?np.ndarray.shape"
   ]
  },
  {
   "cell_type": "markdown",
   "metadata": {},
   "source": [
    "## Array mathematics"
   ]
  },
  {
   "cell_type": "markdown",
   "metadata": {},
   "source": [
    "#### Arithmetic Operations"
   ]
  },
  {
   "cell_type": "code",
   "execution_count": null,
   "metadata": {},
   "outputs": [],
   "source": [
    "# creating arrays\n",
    "array1 = np.array([1, 4, 6, 7])\n",
    "array2 = np.array([3, 5, 3, 1])"
   ]
  },
  {
   "cell_type": "code",
   "execution_count": null,
   "metadata": {},
   "outputs": [
    {
     "name": "stdout",
     "output_type": "stream",
     "text": [
      "difference1 = [-2 -1  3  6]\n",
      "difference2 = [-2 -1  3  6]\n"
     ]
    }
   ],
   "source": [
    "# subtract\n",
    "difference1 = array1 - array2\n",
    "print('difference1 =', difference1)\n",
    "\n",
    "# another way\n",
    "difference2 = np.subtract(array1, array2)\n",
    "print('difference2 =', difference2)"
   ]
  },
  {
   "cell_type": "code",
   "execution_count": null,
   "metadata": {},
   "outputs": [
    {
     "name": "stdout",
     "output_type": "stream",
     "text": [
      "summation1 = [4 9 9 8]\n",
      "summation2 = [4 9 9 8]\n"
     ]
    }
   ],
   "source": [
    "# sum\n",
    "summation1 = array1 + array2\n",
    "print('summation1 =', summation1)\n",
    "\n",
    "# another way\n",
    "summation2 = np.add(array1, array2)\n",
    "print('summation2 =', summation2)"
   ]
  },
  {
   "cell_type": "markdown",
   "metadata": {},
   "source": [
    "#### Trigonometric operations"
   ]
  },
  {
   "cell_type": "code",
   "execution_count": null,
   "metadata": {},
   "outputs": [
    {
     "name": "stdout",
     "output_type": "stream",
     "text": [
      "sin(array1) = [ 0.84147098 -0.7568025  -0.2794155   0.6569866 ]\n",
      "cos(array1) = [ 0.54030231 -0.65364362  0.96017029  0.75390225]\n",
      "log(array1) = [0.         1.38629436 1.79175947 1.94591015]\n"
     ]
    }
   ],
   "source": [
    "# sin\n",
    "print('sin(array1) =', np.sin(array1))\n",
    "# cos\n",
    "print('cos(array1) =', np.cos(array1))\n",
    "# log\n",
    "print('log(array1) =', np.log(array1))"
   ]
  },
  {
   "cell_type": "code",
   "execution_count": null,
   "metadata": {},
   "outputs": [
    {
     "data": {
      "text/plain": [
       "48"
      ]
     },
     "execution_count": null,
     "metadata": {},
     "output_type": "execute_result"
    }
   ],
   "source": [
    "# dot product\n",
    "array1.dot(array2)"
   ]
  },
  {
   "cell_type": "markdown",
   "metadata": {},
   "source": [
    "**Research:**\n",
    "\n",
    "- another way to dot matrices (arrays)"
   ]
  },
  {
   "cell_type": "markdown",
   "metadata": {},
   "source": [
    "#### Comparison"
   ]
  },
  {
   "cell_type": "code",
   "execution_count": null,
   "metadata": {},
   "outputs": [
    {
     "data": {
      "text/plain": [
       "array([False, False, False, False])"
      ]
     },
     "execution_count": null,
     "metadata": {},
     "output_type": "execute_result"
    }
   ],
   "source": [
    "array1 == array2"
   ]
  },
  {
   "cell_type": "code",
   "execution_count": null,
   "metadata": {},
   "outputs": [
    {
     "data": {
      "text/plain": [
       "array([False,  True,  True,  True])"
      ]
     },
     "execution_count": null,
     "metadata": {},
     "output_type": "execute_result"
    }
   ],
   "source": [
    "array1 > 3"
   ]
  },
  {
   "cell_type": "markdown",
   "metadata": {},
   "source": [
    "#### Aggregate functions"
   ]
  },
  {
   "cell_type": "code",
   "execution_count": null,
   "metadata": {},
   "outputs": [
    {
     "name": "stdout",
     "output_type": "stream",
     "text": [
      "Mean:  4.5\n",
      "Minimum:  1\n",
      "Maximum:  7\n",
      "Correlation Coefficient:  [[ 1.         -0.46291005]\n",
      " [-0.46291005  1.        ]]\n",
      "Standard Deviation:  2.29128784747792\n"
     ]
    }
   ],
   "source": [
    "# average\n",
    "mean = array1.mean()\n",
    "print('Mean: ', mean)\n",
    "\n",
    "# min\n",
    "minimum = array1.min()\n",
    "print('Minimum: ', minimum)\n",
    "\n",
    "# max\n",
    "maximum = array1.max()\n",
    "print('Maximum: ', maximum)\n",
    "\n",
    "# corrcoef\n",
    "correlation_coefficient = np.corrcoef(array1, array2)\n",
    "print('Correlation Coefficient: ', correlation_coefficient)\n",
    "\n",
    "standard_deviation = np.std(array1)\n",
    "print('Standard Deviation: ', standard_deviation)"
   ]
  },
  {
   "cell_type": "markdown",
   "metadata": {},
   "source": [
    "**Research:**\n",
    "\n",
    "- copying arrays (you might meet `view()`, `copy()`) "
   ]
  },
  {
   "cell_type": "markdown",
   "metadata": {},
   "source": [
    "## Subsetting, Slicing and Indexing\n",
    "- Indexing is the technique we use to access individual elements in an array. 0 represents the first element, 1 the represents second element and so on.\n",
    "- Slicing is used to access elements of an array using a range of two indexes. The first index is the start of the range while the second index is the end of the range. The indexes are separated by a colon ie `[start:end]`"
   ]
  },
  {
   "cell_type": "code",
   "execution_count": null,
   "metadata": {},
   "outputs": [
    {
     "name": "stdout",
     "output_type": "stream",
     "text": [
      "Array1 (1D): \n",
      " [1 4 6 7]\n",
      "Array2 (2D): \n",
      " [[1.5 2.  3. ]\n",
      " [4.  5.  6. ]]\n",
      "Array3 (3D): \n",
      " [[[ 1  2  3]\n",
      "  [ 4  5  6]\n",
      "  [ 7  8  9]]\n",
      "\n",
      " [[10 11 12]\n",
      "  [13 14 15]\n",
      "  [16 17 18]]]\n"
     ]
    }
   ],
   "source": [
    "# Creating numpy arrays of different dimension\n",
    "\n",
    "arr1 = np.array([1, 4, 6, 7]) # 1D array\n",
    "print('Array1 (1D): \\n', arr1)\n",
    "\n",
    "arr2 = np.array([[1.5, 2, 3], [4, 5, 6]]) # 2D array\n",
    "print('Array2 (2D): \\n', arr2)\n",
    "\n",
    "arr3 = np.array([[[1, 2, 3], [4, 5, 6], [7, 8, 9]], \n",
    "                 [[10, 11, 12], [13, 14, 15], [16, 17, 18]]]) #3D array\n",
    "print('Array3 (3D): \\n', arr3)"
   ]
  },
  {
   "cell_type": "code",
   "execution_count": null,
   "metadata": {},
   "outputs": [
    {
     "data": {
      "text/plain": [
       "(2, 3, 3)"
      ]
     },
     "execution_count": null,
     "metadata": {},
     "output_type": "execute_result"
    }
   ],
   "source": [
    "# find the dimensions of an array\n",
    "arr3.shape"
   ]
  },
  {
   "cell_type": "markdown",
   "metadata": {},
   "source": [
    "#### Indexing"
   ]
  },
  {
   "cell_type": "code",
   "execution_count": null,
   "metadata": {},
   "outputs": [
    {
     "data": {
      "text/plain": [
       "6"
      ]
     },
     "execution_count": null,
     "metadata": {},
     "output_type": "execute_result"
    }
   ],
   "source": [
    "# accessing items in a 1D array\n",
    "arr1[2]"
   ]
  },
  {
   "cell_type": "code",
   "execution_count": null,
   "metadata": {},
   "outputs": [
    {
     "data": {
      "text/plain": [
       "3.0"
      ]
     },
     "execution_count": null,
     "metadata": {},
     "output_type": "execute_result"
    }
   ],
   "source": [
    "# accessing items in 2D array\n",
    "arr2[0, 2]"
   ]
  },
  {
   "cell_type": "code",
   "execution_count": null,
   "metadata": {},
   "outputs": [
    {
     "data": {
      "text/plain": [
       "8"
      ]
     },
     "execution_count": null,
     "metadata": {},
     "output_type": "execute_result"
    }
   ],
   "source": [
    "# accessing in a 3D array\n",
    "arr3[0, 2, 1]"
   ]
  },
  {
   "cell_type": "markdown",
   "metadata": {},
   "source": [
    "#### slicing"
   ]
  },
  {
   "cell_type": "code",
   "execution_count": null,
   "metadata": {},
   "outputs": [
    {
     "data": {
      "text/plain": [
       "array([1, 4, 6])"
      ]
     },
     "execution_count": null,
     "metadata": {},
     "output_type": "execute_result"
    }
   ],
   "source": [
    "# slicing 1D array\n",
    "arr1[0:3]"
   ]
  },
  {
   "cell_type": "code",
   "execution_count": null,
   "metadata": {},
   "outputs": [
    {
     "data": {
      "text/plain": [
       "array([4., 5.])"
      ]
     },
     "execution_count": null,
     "metadata": {},
     "output_type": "execute_result"
    }
   ],
   "source": [
    "# slicing a 2D array\n",
    "arr2[1, 0:2]"
   ]
  },
  {
   "cell_type": "code",
   "execution_count": null,
   "metadata": {},
   "outputs": [
    {
     "data": {
      "text/plain": [
       "array([ 7,  8,  9, 10, 11, 12])"
      ]
     },
     "execution_count": null,
     "metadata": {},
     "output_type": "execute_result"
    }
   ],
   "source": [
    "# slicing a 3D array\n",
    "first = arr3[0, 2]\n",
    "second = arr3[1, 0]\n",
    "\n",
    "np.concatenate((first, second))"
   ]
  },
  {
   "cell_type": "code",
   "execution_count": null,
   "metadata": {},
   "outputs": [
    {
     "data": {
      "text/plain": [
       "array([1, 4])"
      ]
     },
     "execution_count": null,
     "metadata": {},
     "output_type": "execute_result"
    }
   ],
   "source": [
    "# boolean indexing\n",
    "arr1[arr1 < 5]"
   ]
  },
  {
   "cell_type": "markdown",
   "metadata": {},
   "source": [
    "**Research:**\n",
    "\n",
    "- Fancy Indexing"
   ]
  },
  {
   "cell_type": "markdown",
   "metadata": {},
   "source": [
    "## Array manipulation"
   ]
  },
  {
   "cell_type": "code",
   "execution_count": null,
   "metadata": {},
   "outputs": [
    {
     "name": "stdout",
     "output_type": "stream",
     "text": [
      "[[1.5 2.  3. ]\n",
      " [4.  5.  6. ]]\n"
     ]
    }
   ],
   "source": [
    "print(arr2)"
   ]
  },
  {
   "cell_type": "code",
   "execution_count": null,
   "metadata": {},
   "outputs": [
    {
     "name": "stdout",
     "output_type": "stream",
     "text": [
      "Transpose1: \n",
      " [[1.5 4. ]\n",
      " [2.  5. ]\n",
      " [3.  6. ]]\n",
      "Transpose2: \n",
      " [[1.5 4. ]\n",
      " [2.  5. ]\n",
      " [3.  6. ]]\n"
     ]
    }
   ],
   "source": [
    "# transpose\n",
    "arr2_transpose1 = np.transpose(arr2) \n",
    "print('Transpose1: \\n', arr2_transpose1)\n",
    "\n",
    "# another way\n",
    "arr2_transpose2 = arr2.T\n",
    "print('Transpose2: \\n', arr2_transpose2)"
   ]
  },
  {
   "cell_type": "code",
   "execution_count": null,
   "metadata": {},
   "outputs": [
    {
     "data": {
      "text/plain": [
       "array([ 7,  8,  9, 10, 11, 12])"
      ]
     },
     "execution_count": null,
     "metadata": {},
     "output_type": "execute_result"
    }
   ],
   "source": [
    "# combining arrays\n",
    "first = arr3[0, 2]\n",
    "second = arr3[1, 0]\n",
    "\n",
    "np.concatenate((first, second))"
   ]
  },
  {
   "cell_type": "markdown",
   "metadata": {},
   "source": [
    "### Some homework"
   ]
  },
  {
   "cell_type": "markdown",
   "metadata": {},
   "source": [
    "**Research:**\n",
    "    \n",
    "Adding/Removing Elements\n",
    "- `resize()`\n",
    "- `append()`\n",
    "- `insert()`\n",
    "- `delete()`\n",
    "  \n",
    "Changing array shape\n",
    "- `ravel()`\n",
    "- `reshape()`"
   ]
  },
  {
   "cell_type": "code",
   "execution_count": null,
   "metadata": {},
   "outputs": [],
   "source": [
    "# stacking \n",
    "# np.vstack((a,b))\n",
    "# np.hstack((a,b))\n",
    "# np.column_stack((a,b))\n",
    "# np.c_[a, b]"
   ]
  },
  {
   "cell_type": "code",
   "execution_count": null,
   "metadata": {},
   "outputs": [],
   "source": [
    "# splitting arrays\n",
    "# np.hsplit()\n",
    "# np.vsplit()"
   ]
  }
 ],
 "metadata": {
  "kernelspec": {
   "display_name": "python3",
   "language": "python",
   "name": "python3"
  }
 },
 "nbformat": 4,
 "nbformat_minor": 4
}
