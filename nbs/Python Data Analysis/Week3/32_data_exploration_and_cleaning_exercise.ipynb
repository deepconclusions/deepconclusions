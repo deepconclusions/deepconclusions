{
 "cells": [
  {
   "cell_type": "markdown",
   "id": "35e72a7e-08f9-4573-98b6-f8a418903cb5",
   "metadata": {},
   "source": [
    "## Data Exploration and Cleaning Exercise"
   ]
  },
  {
   "cell_type": "markdown",
   "id": "3256d898-a4ae-43a3-bace-470e819ec2bc",
   "metadata": {},
   "source": [
    "1. Load demo.xlsx dataset"
   ]
  },
  {
   "cell_type": "code",
   "execution_count": null,
   "id": "0bdf73bc-88c0-4a16-9f29-c8faa85c8b67",
   "metadata": {},
   "outputs": [],
   "source": []
  },
  {
   "cell_type": "markdown",
   "id": "b2a57c40-517c-4856-a775-1fa700abef0c",
   "metadata": {},
   "source": [
    "2. Rename the columns as suggested below\n",
    "\n",
    "   Old name | New name\n",
    "   ----------|--------\n",
    "    Age|age\n",
    "     Gender|gender\n",
    "    Marital Status|marital_status\n",
    "    Address|address\n",
    "    Income|income\n",
    "    Income Category|income_category\n",
    "    Job Category|job_category"
   ]
  },
  {
   "cell_type": "markdown",
   "id": "563b126b-8d2e-443b-8f31-facca3aa1bab",
   "metadata": {},
   "source": [
    "3. Display all the columns in the dataset"
   ]
  },
  {
   "cell_type": "code",
   "execution_count": null,
   "id": "e4bf4309-28dd-45d6-8621-444080be8119",
   "metadata": {},
   "outputs": [],
   "source": []
  },
  {
   "cell_type": "markdown",
   "id": "bd127b33-36f2-450d-bf4a-61be840f30b9",
   "metadata": {},
   "source": [
    "4. Display some basic statistics about the numeric variables in the dataset"
   ]
  },
  {
   "cell_type": "code",
   "execution_count": null,
   "id": "b537bc16-556d-429f-8675-4dd953da273b",
   "metadata": {},
   "outputs": [],
   "source": []
  },
  {
   "cell_type": "markdown",
   "id": "9e3b4598-41f7-4f88-8789-87ce2f1131ce",
   "metadata": {},
   "source": [
    "5. Display some basic statistics about the categorical variables in the dataset"
   ]
  },
  {
   "cell_type": "code",
   "execution_count": null,
   "id": "b965ebc6-6625-4bf7-abb0-95d5013d6008",
   "metadata": {},
   "outputs": [],
   "source": []
  },
  {
   "cell_type": "markdown",
   "id": "0458a95f-60f2-4741-af09-0684f4a0c053",
   "metadata": {},
   "source": [
    "6. What are the unique observations under gender?"
   ]
  },
  {
   "cell_type": "code",
   "execution_count": null,
   "id": "52257cf5-0377-4674-afab-5903ca8d3858",
   "metadata": {},
   "outputs": [],
   "source": []
  },
  {
   "cell_type": "markdown",
   "id": "65b0af65-7808-4510-9a44-431c016458e5",
   "metadata": {},
   "source": [
    "7. Can you fix any problems observed under the gender, give brief explanations why and how"
   ]
  },
  {
   "cell_type": "code",
   "execution_count": null,
   "id": "f6141888-e170-49fb-b45f-9ae366fdd2f9",
   "metadata": {},
   "outputs": [],
   "source": []
  },
  {
   "cell_type": "markdown",
   "id": "e886e9d1-704c-4843-b310-624e5b60f480",
   "metadata": {},
   "source": [
    "8. How many observations have 'no answer' for marital status?"
   ]
  },
  {
   "cell_type": "code",
   "execution_count": null,
   "id": "68f20f6d-0731-4497-af1d-cc7b76e96c42",
   "metadata": {},
   "outputs": [],
   "source": []
  },
  {
   "cell_type": "markdown",
   "id": "3258c185-e071-4281-8dbc-0751a1ac71c2",
   "metadata": {},
   "source": [
    "9. Write some piece of code to return only numeric variables from the dataset"
   ]
  },
  {
   "cell_type": "code",
   "execution_count": null,
   "id": "aa90f749-7cd3-4212-946f-17e311ededf2",
   "metadata": {},
   "outputs": [],
   "source": []
  },
  {
   "cell_type": "markdown",
   "id": "e2432732-c4ea-4ec1-8d7e-03bd7d90e717",
   "metadata": {},
   "source": [
    "10. Are there any missing values in the dataset?"
   ]
  },
  {
   "cell_type": "code",
   "execution_count": null,
   "id": "647ad424-4d40-4a0f-8a44-39cd2374d7db",
   "metadata": {},
   "outputs": [],
   "source": []
  },
  {
   "cell_type": "markdown",
   "id": "ed949d4c-928f-4c6e-b485-8779abe9a2b9",
   "metadata": {},
   "source": [
    "11. Are there any outliers in the income variable?"
   ]
  },
  {
   "cell_type": "code",
   "execution_count": null,
   "id": "9fd402ce-71e3-43da-9f25-7664a33e7483",
   "metadata": {},
   "outputs": [],
   "source": []
  },
  {
   "cell_type": "markdown",
   "id": "f5e8da53-ea73-483d-a835-3661e15cc803",
   "metadata": {},
   "source": [
    "12. Investigate the relationship between age and income"
   ]
  },
  {
   "cell_type": "code",
   "execution_count": null,
   "id": "02a9b054-0060-43f7-a0a1-b2fbf75cf5d1",
   "metadata": {},
   "outputs": [],
   "source": []
  },
  {
   "cell_type": "markdown",
   "id": "2c571b52-b72c-4d3e-8642-a24b31e78a78",
   "metadata": {},
   "source": [
    "13. How many people earn more than 300 units?"
   ]
  },
  {
   "cell_type": "code",
   "execution_count": null,
   "id": "adbbd2d7-ab0a-44b7-806f-b79d51a4f6c9",
   "metadata": {},
   "outputs": [],
   "source": []
  },
  {
   "cell_type": "markdown",
   "id": "d6e8f23f-cd93-476a-8c40-8479ff5d76f7",
   "metadata": {},
   "source": [
    "14. What data type is the marital status?"
   ]
  },
  {
   "cell_type": "code",
   "execution_count": null,
   "id": "62c9799c-3773-49de-b163-d6ca67a30e73",
   "metadata": {},
   "outputs": [],
   "source": []
  },
  {
   "cell_type": "markdown",
   "id": "ebf3daf9-b646-4359-b80b-1a12c22d076b",
   "metadata": {},
   "source": [
    "15. Create dummy variables for gender"
   ]
  },
  {
   "cell_type": "code",
   "execution_count": null,
   "id": "33f4b5b3-be0f-4c34-b314-9df928ab5990",
   "metadata": {},
   "outputs": [],
   "source": []
  }
 ],
 "metadata": {
  "kernelspec": {
   "display_name": "python3",
   "language": "python",
   "name": "python3"
  }
 },
 "nbformat": 4,
 "nbformat_minor": 5
}
