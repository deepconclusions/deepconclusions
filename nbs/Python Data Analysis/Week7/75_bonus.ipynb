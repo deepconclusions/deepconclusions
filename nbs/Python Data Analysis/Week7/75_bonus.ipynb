{
 "cells": [
  {
   "cell_type": "markdown",
   "id": "8e1a2784-54a9-40d5-8cc9-de7cfbf89747",
   "metadata": {},
   "source": [
    "## ANOVA for Feature Selection"
   ]
  },
  {
   "cell_type": "code",
   "execution_count": null,
   "id": "a086d009-a83a-4905-94a8-c2980520668d",
   "metadata": {},
   "outputs": [],
   "source": [
    "# !pip install dataidea==0.2.5"
   ]
  },
  {
   "cell_type": "code",
   "execution_count": null,
   "id": "89d1fe9d-2fb8-403d-98c4-148ee7998138",
   "metadata": {},
   "outputs": [],
   "source": [
    "import scipy as sp\n",
    "from sklearn.feature_selection import SelectKBest\n",
    "from dataidea.datasets import loadDataset"
   ]
  },
  {
   "cell_type": "code",
   "execution_count": null,
   "id": "0bc97749-153b-481e-9b84-b43c748e3026",
   "metadata": {},
   "outputs": [],
   "source": [
    "fpl = loadDataset('fpl') # load fpl inbuilt"
   ]
  },
  {
   "cell_type": "code",
   "execution_count": null,
   "id": "83303db6-bbcd-4067-9967-a770a154fd27",
   "metadata": {},
   "outputs": [
    {
     "data": {
      "text/html": [
       "<div>\n",
       "<style scoped>\n",
       "    .dataframe tbody tr th:only-of-type {\n",
       "        vertical-align: middle;\n",
       "    }\n",
       "\n",
       "    .dataframe tbody tr th {\n",
       "        vertical-align: top;\n",
       "    }\n",
       "\n",
       "    .dataframe thead th {\n",
       "        text-align: right;\n",
       "    }\n",
       "</style>\n",
       "<table border=\"1\" class=\"dataframe\">\n",
       "  <thead>\n",
       "    <tr style=\"text-align: right;\">\n",
       "      <th></th>\n",
       "      <th>First_Name</th>\n",
       "      <th>Second_Name</th>\n",
       "      <th>Club</th>\n",
       "      <th>Goals_Scored</th>\n",
       "      <th>Assists</th>\n",
       "      <th>Total_Points</th>\n",
       "      <th>Minutes</th>\n",
       "      <th>Saves</th>\n",
       "      <th>Goals_Conceded</th>\n",
       "      <th>Creativity</th>\n",
       "      <th>Influence</th>\n",
       "      <th>Threat</th>\n",
       "      <th>Bonus</th>\n",
       "      <th>BPS</th>\n",
       "      <th>ICT_Index</th>\n",
       "      <th>Clean_Sheets</th>\n",
       "      <th>Red_Cards</th>\n",
       "      <th>Yellow_Cards</th>\n",
       "      <th>Position</th>\n",
       "    </tr>\n",
       "  </thead>\n",
       "  <tbody>\n",
       "    <tr>\n",
       "      <th>0</th>\n",
       "      <td>Bruno</td>\n",
       "      <td>Fernandes</td>\n",
       "      <td>MUN</td>\n",
       "      <td>18</td>\n",
       "      <td>14</td>\n",
       "      <td>244</td>\n",
       "      <td>3101</td>\n",
       "      <td>0</td>\n",
       "      <td>36</td>\n",
       "      <td>1414.9</td>\n",
       "      <td>1292.6</td>\n",
       "      <td>1253</td>\n",
       "      <td>36</td>\n",
       "      <td>870</td>\n",
       "      <td>396.2</td>\n",
       "      <td>13</td>\n",
       "      <td>0</td>\n",
       "      <td>6</td>\n",
       "      <td>MID</td>\n",
       "    </tr>\n",
       "    <tr>\n",
       "      <th>1</th>\n",
       "      <td>Harry</td>\n",
       "      <td>Kane</td>\n",
       "      <td>TOT</td>\n",
       "      <td>23</td>\n",
       "      <td>14</td>\n",
       "      <td>242</td>\n",
       "      <td>3083</td>\n",
       "      <td>0</td>\n",
       "      <td>39</td>\n",
       "      <td>659.1</td>\n",
       "      <td>1318.2</td>\n",
       "      <td>1585</td>\n",
       "      <td>40</td>\n",
       "      <td>880</td>\n",
       "      <td>355.9</td>\n",
       "      <td>12</td>\n",
       "      <td>0</td>\n",
       "      <td>1</td>\n",
       "      <td>FWD</td>\n",
       "    </tr>\n",
       "    <tr>\n",
       "      <th>2</th>\n",
       "      <td>Mohamed</td>\n",
       "      <td>Salah</td>\n",
       "      <td>LIV</td>\n",
       "      <td>22</td>\n",
       "      <td>6</td>\n",
       "      <td>231</td>\n",
       "      <td>3077</td>\n",
       "      <td>0</td>\n",
       "      <td>41</td>\n",
       "      <td>825.7</td>\n",
       "      <td>1056.0</td>\n",
       "      <td>1980</td>\n",
       "      <td>21</td>\n",
       "      <td>657</td>\n",
       "      <td>385.8</td>\n",
       "      <td>11</td>\n",
       "      <td>0</td>\n",
       "      <td>0</td>\n",
       "      <td>MID</td>\n",
       "    </tr>\n",
       "    <tr>\n",
       "      <th>3</th>\n",
       "      <td>Heung-Min</td>\n",
       "      <td>Son</td>\n",
       "      <td>TOT</td>\n",
       "      <td>17</td>\n",
       "      <td>11</td>\n",
       "      <td>228</td>\n",
       "      <td>3119</td>\n",
       "      <td>0</td>\n",
       "      <td>36</td>\n",
       "      <td>1049.9</td>\n",
       "      <td>1052.2</td>\n",
       "      <td>1046</td>\n",
       "      <td>26</td>\n",
       "      <td>777</td>\n",
       "      <td>315.2</td>\n",
       "      <td>13</td>\n",
       "      <td>0</td>\n",
       "      <td>0</td>\n",
       "      <td>MID</td>\n",
       "    </tr>\n",
       "    <tr>\n",
       "      <th>4</th>\n",
       "      <td>Patrick</td>\n",
       "      <td>Bamford</td>\n",
       "      <td>LEE</td>\n",
       "      <td>17</td>\n",
       "      <td>11</td>\n",
       "      <td>194</td>\n",
       "      <td>3052</td>\n",
       "      <td>0</td>\n",
       "      <td>50</td>\n",
       "      <td>371.0</td>\n",
       "      <td>867.2</td>\n",
       "      <td>1512</td>\n",
       "      <td>26</td>\n",
       "      <td>631</td>\n",
       "      <td>274.6</td>\n",
       "      <td>10</td>\n",
       "      <td>0</td>\n",
       "      <td>3</td>\n",
       "      <td>FWD</td>\n",
       "    </tr>\n",
       "  </tbody>\n",
       "</table>\n",
       "</div>"
      ],
      "text/plain": [
       "  First_Name Second_Name Club  Goals_Scored  Assists  Total_Points  Minutes  \\\n",
       "0      Bruno   Fernandes  MUN            18       14           244     3101   \n",
       "1      Harry        Kane  TOT            23       14           242     3083   \n",
       "2    Mohamed       Salah  LIV            22        6           231     3077   \n",
       "3  Heung-Min         Son  TOT            17       11           228     3119   \n",
       "4    Patrick     Bamford  LEE            17       11           194     3052   \n",
       "\n",
       "   Saves  Goals_Conceded  Creativity  Influence  Threat  Bonus  BPS  \\\n",
       "0      0              36      1414.9     1292.6    1253     36  870   \n",
       "1      0              39       659.1     1318.2    1585     40  880   \n",
       "2      0              41       825.7     1056.0    1980     21  657   \n",
       "3      0              36      1049.9     1052.2    1046     26  777   \n",
       "4      0              50       371.0      867.2    1512     26  631   \n",
       "\n",
       "   ICT_Index  Clean_Sheets  Red_Cards  Yellow_Cards Position  \n",
       "0      396.2            13          0             6      MID  \n",
       "1      355.9            12          0             1      FWD  \n",
       "2      385.8            11          0             0      MID  \n",
       "3      315.2            13          0             0      MID  \n",
       "4      274.6            10          0             3      FWD  "
      ]
     },
     "execution_count": null,
     "metadata": {},
     "output_type": "execute_result"
    }
   ],
   "source": [
    "fpl.head(n=5) # select top 5"
   ]
  },
  {
   "cell_type": "code",
   "execution_count": null,
   "id": "c5b800b5-89d8-4888-a647-f37804a4fe2a",
   "metadata": {},
   "outputs": [],
   "source": [
    "# Create groups of goals scored for each player position\n",
    "\n",
    "forwards_goals = fpl[fpl.Position == 'FWD']['Goals_Scored']\n",
    "midfielders_goals = fpl[fpl.Position == 'MID']['Goals_Scored']\n",
    "defenders_goals = fpl[fpl.Position == 'DEF']['Goals_Scored']\n",
    "goalkeepers_goals = fpl[fpl.Position == 'GK']['Goals_Scored']"
   ]
  },
  {
   "cell_type": "code",
   "execution_count": null,
   "id": "353fd457-cb63-4e31-959e-291b8ca5003d",
   "metadata": {},
   "outputs": [
    {
     "name": "stdout",
     "output_type": "stream",
     "text": [
      "F-statistic: 33.281034594400445\n",
      "p-value: 3.9257634156019246e-20\n"
     ]
    }
   ],
   "source": [
    "# Perform the ANOVA test for the groups\n",
    "\n",
    "f_statistic, p_value = sp.stats.f_oneway(forwards_goals, midfielders_goals,\n",
    "                                         defenders_goals, goalkeepers_goals\n",
    "                                        )\n",
    "print(\"F-statistic:\", f_statistic)\n",
    "print(\"p-value:\", p_value)"
   ]
  },
  {
   "cell_type": "code",
   "execution_count": null,
   "id": "1ce74624-6456-4bcf-b2a3-72867939f65a",
   "metadata": {},
   "outputs": [],
   "source": [
    "# Create groups of assists for each player position\n",
    "\n",
    "forwards_assists = fpl[fpl.Position == 'FWD']['Assists']\n",
    "midfielders_assists = fpl[fpl.Position == 'MID']['Assists']\n",
    "defenders_assists = fpl[fpl.Position == 'DEF']['Assists']\n",
    "goalkeepers_assists = fpl[fpl.Position == 'GK']['Assists']"
   ]
  },
  {
   "cell_type": "code",
   "execution_count": null,
   "id": "cf63ec9b-e2ba-4ece-98c4-fc597de86e39",
   "metadata": {},
   "outputs": [
    {
     "name": "stdout",
     "output_type": "stream",
     "text": [
      "F-statistic: 19.263717036430815\n",
      "p-value: 5.124889288362087e-12\n"
     ]
    }
   ],
   "source": [
    "# Perform the ANOVA test for the groups\n",
    "\n",
    "f_statistic, p_value = sp.stats.f_oneway(forwards_assists, midfielders_assists,\n",
    "                                         defenders_assists, goalkeepers_assists\n",
    "                                        )\n",
    "print(\"F-statistic:\", f_statistic)\n",
    "print(\"p-value:\", p_value)"
   ]
  },
  {
   "cell_type": "code",
   "execution_count": null,
   "id": "4caf994b-7cf8-4255-8656-d20afff1e021",
   "metadata": {},
   "outputs": [
    {
     "name": "stdout",
     "output_type": "stream",
     "text": [
      "Feature Scores:  [33.28103459 19.26371704]\n",
      "Selected Features Indices:  [0]\n"
     ]
    }
   ],
   "source": [
    "# Use scikit-learn's SelectKBest (with f_classif)\n",
    "\n",
    "test = SelectKBest(k=1)\n",
    "fit = test.fit(fpl[['Goals_Scored', 'Assists']], fpl.Position)\n",
    "scores = fit.scores_\n",
    "features = fit.transform(fpl[['Goals_Scored', 'Assists']])\n",
    "selected_indices = test.get_support(indices=True)\n",
    "\n",
    "print('Feature Scores: ', scores)\n",
    "print('Selected Features Indices: ', selected_indices)"
   ]
  }
 ],
 "metadata": {
  "kernelspec": {
   "display_name": "python3",
   "language": "python",
   "name": "python3"
  }
 },
 "nbformat": 4,
 "nbformat_minor": 5
}
