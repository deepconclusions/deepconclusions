{
 "cells": [
  {
   "cell_type": "markdown",
   "id": "b747e264-0e9c-4159-8886-a5fb27276757",
   "metadata": {},
   "source": [
    "## Handling Missing Data"
   ]
  },
  {
   "cell_type": "markdown",
   "id": "6dd7b8a8-1e79-47df-a261-6942a3a59f36",
   "metadata": {},
   "source": [
    "## Introduction:\n",
    "\n",
    "Missing data is a common hurdle in data analysis, impacting the reliability of insights drawn from datasets. Python offers a range of solutions to address this issue, some of which we discussed in the earlier weeks. In this notebook, we look into the top three missing data imputation methods in Python—SimpleImputer, KNNImputer, and IterativeImputer from scikit-learn—providing insights into their functionalities and practical considerations. We'll explore these essential techniques, using the weather dataset."
   ]
  },
  {
   "cell_type": "code",
   "execution_count": null,
   "id": "ecfa7d91-4549-42a0-896c-7674aa8f9f58",
   "metadata": {},
   "outputs": [],
   "source": [
    "# install the libraries for this demonstration\n",
    "# ! pip install dataidea==0.2.5"
   ]
  },
  {
   "cell_type": "code",
   "execution_count": null,
   "id": "f0820700-b9bc-4dca-aab0-b02d235f5621",
   "metadata": {},
   "outputs": [],
   "source": [
    "import pandas as pd\n",
    "from dataidea.datasets import loadDataset"
   ]
  },
  {
   "cell_type": "markdown",
   "id": "dd74581c-112e-49e7-868a-f27f93799458",
   "metadata": {},
   "source": [
    "`from dataidea.packages import *` imports for us np, pd, plt, etc. `loadDataset` allows us to load datasets inbuilt in the dataidea library"
   ]
  },
  {
   "cell_type": "code",
   "execution_count": null,
   "id": "b6cb9f82-23e3-4d6e-bd21-11d26ddcd723",
   "metadata": {},
   "outputs": [],
   "source": [
    "weather = loadDataset('weather') "
   ]
  },
  {
   "cell_type": "code",
   "execution_count": null,
   "id": "695e19f4-0f03-471e-b528-07269ee858d0",
   "metadata": {},
   "outputs": [
    {
     "data": {
      "text/html": [
       "<div>\n",
       "<style scoped>\n",
       "    .dataframe tbody tr th:only-of-type {\n",
       "        vertical-align: middle;\n",
       "    }\n",
       "\n",
       "    .dataframe tbody tr th {\n",
       "        vertical-align: top;\n",
       "    }\n",
       "\n",
       "    .dataframe thead th {\n",
       "        text-align: right;\n",
       "    }\n",
       "</style>\n",
       "<table border=\"1\" class=\"dataframe\">\n",
       "  <thead>\n",
       "    <tr style=\"text-align: right;\">\n",
       "      <th></th>\n",
       "      <th>day</th>\n",
       "      <th>temperature</th>\n",
       "      <th>windspead</th>\n",
       "      <th>event</th>\n",
       "    </tr>\n",
       "  </thead>\n",
       "  <tbody>\n",
       "    <tr>\n",
       "      <th>0</th>\n",
       "      <td>01/01/2017</td>\n",
       "      <td>32.0</td>\n",
       "      <td>6.0</td>\n",
       "      <td>Rain</td>\n",
       "    </tr>\n",
       "    <tr>\n",
       "      <th>1</th>\n",
       "      <td>04/01/2017</td>\n",
       "      <td>NaN</td>\n",
       "      <td>9.0</td>\n",
       "      <td>Sunny</td>\n",
       "    </tr>\n",
       "    <tr>\n",
       "      <th>2</th>\n",
       "      <td>05/01/2017</td>\n",
       "      <td>28.0</td>\n",
       "      <td>NaN</td>\n",
       "      <td>Snow</td>\n",
       "    </tr>\n",
       "    <tr>\n",
       "      <th>3</th>\n",
       "      <td>06/01/2017</td>\n",
       "      <td>NaN</td>\n",
       "      <td>7.0</td>\n",
       "      <td>NaN</td>\n",
       "    </tr>\n",
       "    <tr>\n",
       "      <th>4</th>\n",
       "      <td>07/01/2017</td>\n",
       "      <td>32.0</td>\n",
       "      <td>NaN</td>\n",
       "      <td>Rain</td>\n",
       "    </tr>\n",
       "    <tr>\n",
       "      <th>5</th>\n",
       "      <td>08/01/2017</td>\n",
       "      <td>NaN</td>\n",
       "      <td>NaN</td>\n",
       "      <td>Sunny</td>\n",
       "    </tr>\n",
       "    <tr>\n",
       "      <th>6</th>\n",
       "      <td>09/01/2017</td>\n",
       "      <td>NaN</td>\n",
       "      <td>NaN</td>\n",
       "      <td>NaN</td>\n",
       "    </tr>\n",
       "    <tr>\n",
       "      <th>7</th>\n",
       "      <td>10/01/2017</td>\n",
       "      <td>34.0</td>\n",
       "      <td>8.0</td>\n",
       "      <td>Cloudy</td>\n",
       "    </tr>\n",
       "    <tr>\n",
       "      <th>8</th>\n",
       "      <td>11/01/2017</td>\n",
       "      <td>40.0</td>\n",
       "      <td>12.0</td>\n",
       "      <td>Sunny</td>\n",
       "    </tr>\n",
       "  </tbody>\n",
       "</table>\n",
       "</div>"
      ],
      "text/plain": [
       "          day  temperature  windspead   event\n",
       "0  01/01/2017         32.0        6.0    Rain\n",
       "1  04/01/2017          NaN        9.0   Sunny\n",
       "2  05/01/2017         28.0        NaN    Snow\n",
       "3  06/01/2017          NaN        7.0     NaN\n",
       "4  07/01/2017         32.0        NaN    Rain\n",
       "5  08/01/2017          NaN        NaN   Sunny\n",
       "6  09/01/2017          NaN        NaN     NaN\n",
       "7  10/01/2017         34.0        8.0  Cloudy\n",
       "8  11/01/2017         40.0       12.0   Sunny"
      ]
     },
     "execution_count": null,
     "metadata": {},
     "output_type": "execute_result"
    }
   ],
   "source": [
    "weather"
   ]
  },
  {
   "cell_type": "code",
   "execution_count": null,
   "id": "8f0a1a04-6067-4697-933b-a2c9e7fe256e",
   "metadata": {},
   "outputs": [
    {
     "data": {
      "text/plain": [
       "day            0\n",
       "temperature    4\n",
       "windspead      4\n",
       "event          2\n",
       "dtype: int64"
      ]
     },
     "execution_count": null,
     "metadata": {},
     "output_type": "execute_result"
    }
   ],
   "source": [
    "weather.isna().sum()"
   ]
  },
  {
   "cell_type": "markdown",
   "id": "bd18b605-0f3e-45e8-934e-a0f5acc598ab",
   "metadata": {},
   "source": [
    "Let's demonstrate how to use the top three missing data imputation methods—SimpleImputer, KNNImputer, and IterativeImputer—using the simple weather dataset."
   ]
  },
  {
   "cell_type": "code",
   "execution_count": null,
   "id": "325abfa5-b3bd-4524-9b46-f64e046b8195",
   "metadata": {},
   "outputs": [],
   "source": [
    "# select age from the data\n",
    "temp_wind = weather[['temperature', 'windspead']].copy()"
   ]
  },
  {
   "cell_type": "code",
   "execution_count": null,
   "id": "efdfe32c-158f-486e-9236-bebad2195397",
   "metadata": {},
   "outputs": [],
   "source": [
    "temp_wind_imputed = temp_wind.copy()"
   ]
  },
  {
   "cell_type": "markdown",
   "id": "80757d57-aeb9-4fec-aae4-0b1198c48cd6",
   "metadata": {},
   "source": [
    "## SimpleImputer from scikit-learn:\n",
    "   - **Usage**: SimpleImputer is a straightforward method for imputing missing values by replacing them with a constant, mean, median, or most frequent value along each column.\n",
    "   - **Pros**:\n",
    "     - Easy to use and understand.\n",
    "     - Can handle both numerical and categorical data.\n",
    "     - Offers flexibility with different imputation strategies.\n",
    "   - **Cons**:\n",
    "     - It doesn't consider relationships between features.\n",
    "     - May not be the best choice for datasets with complex patterns of missingness.\n",
    "   - **Example**:"
   ]
  },
  {
   "cell_type": "code",
   "execution_count": null,
   "id": "fa5a16bf-9a95-42dc-89d1-e68b446f5fbf",
   "metadata": {},
   "outputs": [],
   "source": [
    "from sklearn.impute import SimpleImputer\n",
    "\n",
    "simple_imputer = SimpleImputer(strategy='mean')\n",
    "temp_wind_simple_imputed = simple_imputer.fit_transform(temp_wind)\n",
    "\n",
    "temp_wind_simple_imputed_df = pd.DataFrame(temp_wind_simple_imputed, columns=temp_wind.columns)"
   ]
  },
  {
   "cell_type": "markdown",
   "id": "4bb60a2b-d151-45d5-bb08-c6dfe9309ad9",
   "metadata": {},
   "source": [
    "Let's have a look at the outcome"
   ]
  },
  {
   "cell_type": "code",
   "execution_count": null,
   "id": "4d80c145-caa9-40a4-b560-d5e4ea91d221",
   "metadata": {},
   "outputs": [
    {
     "data": {
      "text/html": [
       "<div>\n",
       "<style scoped>\n",
       "    .dataframe tbody tr th:only-of-type {\n",
       "        vertical-align: middle;\n",
       "    }\n",
       "\n",
       "    .dataframe tbody tr th {\n",
       "        vertical-align: top;\n",
       "    }\n",
       "\n",
       "    .dataframe thead th {\n",
       "        text-align: right;\n",
       "    }\n",
       "</style>\n",
       "<table border=\"1\" class=\"dataframe\">\n",
       "  <thead>\n",
       "    <tr style=\"text-align: right;\">\n",
       "      <th></th>\n",
       "      <th>temperature</th>\n",
       "      <th>windspead</th>\n",
       "    </tr>\n",
       "  </thead>\n",
       "  <tbody>\n",
       "    <tr>\n",
       "      <th>0</th>\n",
       "      <td>32.0</td>\n",
       "      <td>6.0</td>\n",
       "    </tr>\n",
       "    <tr>\n",
       "      <th>1</th>\n",
       "      <td>33.2</td>\n",
       "      <td>9.0</td>\n",
       "    </tr>\n",
       "    <tr>\n",
       "      <th>2</th>\n",
       "      <td>28.0</td>\n",
       "      <td>8.4</td>\n",
       "    </tr>\n",
       "    <tr>\n",
       "      <th>3</th>\n",
       "      <td>33.2</td>\n",
       "      <td>7.0</td>\n",
       "    </tr>\n",
       "    <tr>\n",
       "      <th>4</th>\n",
       "      <td>32.0</td>\n",
       "      <td>8.4</td>\n",
       "    </tr>\n",
       "    <tr>\n",
       "      <th>5</th>\n",
       "      <td>33.2</td>\n",
       "      <td>8.4</td>\n",
       "    </tr>\n",
       "    <tr>\n",
       "      <th>6</th>\n",
       "      <td>33.2</td>\n",
       "      <td>8.4</td>\n",
       "    </tr>\n",
       "    <tr>\n",
       "      <th>7</th>\n",
       "      <td>34.0</td>\n",
       "      <td>8.0</td>\n",
       "    </tr>\n",
       "    <tr>\n",
       "      <th>8</th>\n",
       "      <td>40.0</td>\n",
       "      <td>12.0</td>\n",
       "    </tr>\n",
       "  </tbody>\n",
       "</table>\n",
       "</div>"
      ],
      "text/plain": [
       "   temperature  windspead\n",
       "0         32.0        6.0\n",
       "1         33.2        9.0\n",
       "2         28.0        8.4\n",
       "3         33.2        7.0\n",
       "4         32.0        8.4\n",
       "5         33.2        8.4\n",
       "6         33.2        8.4\n",
       "7         34.0        8.0\n",
       "8         40.0       12.0"
      ]
     },
     "execution_count": null,
     "metadata": {},
     "output_type": "execute_result"
    }
   ],
   "source": [
    "temp_wind_simple_imputed_df"
   ]
  },
  {
   "cell_type": "markdown",
   "id": "79ba3a03-adf3-4aa2-baee-82a4b0048425",
   "metadata": {},
   "source": [
    "## KNNImputer from scikit-learn:\n",
    "   - **Usage**: KNNImputer imputes missing values using k-nearest neighbors, replacing them with the mean value of the nearest neighbors.\n",
    "   - **Pros**:\n",
    "     - Considers relationships between features, making it suitable for datasets with complex patterns of missingness.\n",
    "     - Can handle both numerical and categorical data.\n",
    "   - **Cons**:\n",
    "     - Computationally expensive for large datasets.\n",
    "     - Requires careful selection of the number of neighbors (k).\n",
    "   - **Example**:"
   ]
  },
  {
   "cell_type": "code",
   "execution_count": null,
   "id": "0bd6c1ef-b8da-4b18-9f5c-a2ddc7156efc",
   "metadata": {},
   "outputs": [],
   "source": [
    "from sklearn.impute import KNNImputer\n",
    "\n",
    "knn_imputer = KNNImputer(n_neighbors=2)\n",
    "temp_wind_knn_imputed = knn_imputer.fit_transform(temp_wind)\n",
    "\n",
    "temp_wind_knn_imputed_df = pd.DataFrame(temp_wind_knn_imputed, columns=temp_wind.columns)"
   ]
  },
  {
   "cell_type": "markdown",
   "id": "2efa317e-3a98-4cf0-8e67-5b71dcb26da6",
   "metadata": {},
   "source": [
    "If we take a look at the outcome"
   ]
  },
  {
   "cell_type": "code",
   "execution_count": null,
   "id": "0c14fd94-d25a-4cae-a149-bfd9b70a309c",
   "metadata": {},
   "outputs": [
    {
     "data": {
      "text/html": [
       "<div>\n",
       "<style scoped>\n",
       "    .dataframe tbody tr th:only-of-type {\n",
       "        vertical-align: middle;\n",
       "    }\n",
       "\n",
       "    .dataframe tbody tr th {\n",
       "        vertical-align: top;\n",
       "    }\n",
       "\n",
       "    .dataframe thead th {\n",
       "        text-align: right;\n",
       "    }\n",
       "</style>\n",
       "<table border=\"1\" class=\"dataframe\">\n",
       "  <thead>\n",
       "    <tr style=\"text-align: right;\">\n",
       "      <th></th>\n",
       "      <th>temperature</th>\n",
       "      <th>windspead</th>\n",
       "    </tr>\n",
       "  </thead>\n",
       "  <tbody>\n",
       "    <tr>\n",
       "      <th>0</th>\n",
       "      <td>32.0</td>\n",
       "      <td>6.0</td>\n",
       "    </tr>\n",
       "    <tr>\n",
       "      <th>1</th>\n",
       "      <td>33.0</td>\n",
       "      <td>9.0</td>\n",
       "    </tr>\n",
       "    <tr>\n",
       "      <th>2</th>\n",
       "      <td>28.0</td>\n",
       "      <td>7.0</td>\n",
       "    </tr>\n",
       "    <tr>\n",
       "      <th>3</th>\n",
       "      <td>33.0</td>\n",
       "      <td>7.0</td>\n",
       "    </tr>\n",
       "    <tr>\n",
       "      <th>4</th>\n",
       "      <td>32.0</td>\n",
       "      <td>7.0</td>\n",
       "    </tr>\n",
       "    <tr>\n",
       "      <th>5</th>\n",
       "      <td>33.2</td>\n",
       "      <td>8.4</td>\n",
       "    </tr>\n",
       "    <tr>\n",
       "      <th>6</th>\n",
       "      <td>33.2</td>\n",
       "      <td>8.4</td>\n",
       "    </tr>\n",
       "    <tr>\n",
       "      <th>7</th>\n",
       "      <td>34.0</td>\n",
       "      <td>8.0</td>\n",
       "    </tr>\n",
       "    <tr>\n",
       "      <th>8</th>\n",
       "      <td>40.0</td>\n",
       "      <td>12.0</td>\n",
       "    </tr>\n",
       "  </tbody>\n",
       "</table>\n",
       "</div>"
      ],
      "text/plain": [
       "   temperature  windspead\n",
       "0         32.0        6.0\n",
       "1         33.0        9.0\n",
       "2         28.0        7.0\n",
       "3         33.0        7.0\n",
       "4         32.0        7.0\n",
       "5         33.2        8.4\n",
       "6         33.2        8.4\n",
       "7         34.0        8.0\n",
       "8         40.0       12.0"
      ]
     },
     "execution_count": null,
     "metadata": {},
     "output_type": "execute_result"
    }
   ],
   "source": [
    "temp_wind_knn_imputed_df"
   ]
  },
  {
   "cell_type": "markdown",
   "id": "f1d0cd83-c2b6-4b0f-bbc2-8aaaed1bedef",
   "metadata": {},
   "source": [
    "## IterativeImputer from scikit-learn:\n",
    "   - **Usage**: IterativeImputer models each feature with missing values as a function of other features and uses that estimate for imputation. It iteratively estimates the missing values.\n",
    "   - **Pros**:\n",
    "     - Takes into account relationships between features, making it suitable for datasets with complex missing patterns.\n",
    "     - More robust than SimpleImputer for handling missing data.\n",
    "   - **Cons**:\n",
    "     - Can be computationally intensive and slower than SimpleImputer.\n",
    "     - Requires careful tuning of model parameters.\n",
    "   - **Example**:"
   ]
  },
  {
   "cell_type": "code",
   "execution_count": null,
   "id": "9ce03d12-9f12-4dcb-8913-2778493bed50",
   "metadata": {},
   "outputs": [],
   "source": [
    "from sklearn.experimental import enable_iterative_imputer\n",
    "from sklearn.impute import IterativeImputer\n",
    "\n",
    "iterative_imputer = IterativeImputer()\n",
    "temp_wind_iterative_imputed = iterative_imputer.fit_transform(temp_wind)\n",
    "\n",
    "temp_wind_iterative_imputed_df = pd.DataFrame(temp_wind_iterative_imputed, columns=temp_wind.columns)"
   ]
  },
  {
   "cell_type": "markdown",
   "id": "afe630f0-ee01-45b9-96cf-9155f30e211d",
   "metadata": {},
   "source": [
    "Let's take a look at the outcome "
   ]
  },
  {
   "cell_type": "code",
   "execution_count": null,
   "id": "8c0c05bd-71d0-427c-9b8b-d9e1f045af5b",
   "metadata": {},
   "outputs": [
    {
     "data": {
      "text/html": [
       "<div>\n",
       "<style scoped>\n",
       "    .dataframe tbody tr th:only-of-type {\n",
       "        vertical-align: middle;\n",
       "    }\n",
       "\n",
       "    .dataframe tbody tr th {\n",
       "        vertical-align: top;\n",
       "    }\n",
       "\n",
       "    .dataframe thead th {\n",
       "        text-align: right;\n",
       "    }\n",
       "</style>\n",
       "<table border=\"1\" class=\"dataframe\">\n",
       "  <thead>\n",
       "    <tr style=\"text-align: right;\">\n",
       "      <th></th>\n",
       "      <th>temperature</th>\n",
       "      <th>windspead</th>\n",
       "    </tr>\n",
       "  </thead>\n",
       "  <tbody>\n",
       "    <tr>\n",
       "      <th>0</th>\n",
       "      <td>32.000000</td>\n",
       "      <td>6.000000</td>\n",
       "    </tr>\n",
       "    <tr>\n",
       "      <th>1</th>\n",
       "      <td>35.773287</td>\n",
       "      <td>9.000000</td>\n",
       "    </tr>\n",
       "    <tr>\n",
       "      <th>2</th>\n",
       "      <td>28.000000</td>\n",
       "      <td>3.321648</td>\n",
       "    </tr>\n",
       "    <tr>\n",
       "      <th>3</th>\n",
       "      <td>33.042537</td>\n",
       "      <td>7.000000</td>\n",
       "    </tr>\n",
       "    <tr>\n",
       "      <th>4</th>\n",
       "      <td>32.000000</td>\n",
       "      <td>6.238915</td>\n",
       "    </tr>\n",
       "    <tr>\n",
       "      <th>5</th>\n",
       "      <td>33.545118</td>\n",
       "      <td>7.365795</td>\n",
       "    </tr>\n",
       "    <tr>\n",
       "      <th>6</th>\n",
       "      <td>33.545118</td>\n",
       "      <td>7.365795</td>\n",
       "    </tr>\n",
       "    <tr>\n",
       "      <th>7</th>\n",
       "      <td>34.000000</td>\n",
       "      <td>8.000000</td>\n",
       "    </tr>\n",
       "    <tr>\n",
       "      <th>8</th>\n",
       "      <td>40.000000</td>\n",
       "      <td>12.000000</td>\n",
       "    </tr>\n",
       "  </tbody>\n",
       "</table>\n",
       "</div>"
      ],
      "text/plain": [
       "   temperature  windspead\n",
       "0    32.000000   6.000000\n",
       "1    35.773287   9.000000\n",
       "2    28.000000   3.321648\n",
       "3    33.042537   7.000000\n",
       "4    32.000000   6.238915\n",
       "5    33.545118   7.365795\n",
       "6    33.545118   7.365795\n",
       "7    34.000000   8.000000\n",
       "8    40.000000  12.000000"
      ]
     },
     "execution_count": null,
     "metadata": {},
     "output_type": "execute_result"
    }
   ],
   "source": [
    "temp_wind_iterative_imputed_df"
   ]
  },
  {
   "cell_type": "markdown",
   "id": "e5e084a5-4258-47f8-a537-544520048b56",
   "metadata": {},
   "source": [
    "## Datawig:\n",
    "\n",
    "Datawig is a library specifically designed for imputing missing values in tabular data using deep learning models."
   ]
  },
  {
   "cell_type": "code",
   "execution_count": null,
   "id": "25774120-e102-4955-9280-59eea83374f9",
   "metadata": {},
   "outputs": [],
   "source": [
    "# import datawig\n",
    "\n",
    "# # Impute missing values\n",
    "# df_imputed = datawig.SimpleImputer.complete(weather)"
   ]
  },
  {
   "cell_type": "markdown",
   "id": "e2052dc9-4281-48af-9d55-bcf764fda979",
   "metadata": {},
   "source": [
    "These top imputation methods offer different trade-offs in terms of computational complexity, handling of missing data patterns, and ease of use. The choice between them depends on the specific characteristics of the dataset and the requirements of the analysis."
   ]
  },
  {
   "cell_type": "markdown",
   "id": "dd5242b3-b40a-4a8b-b5d7-698fe553a4df",
   "metadata": {},
   "source": [
    "## Homework\n",
    "- Try out these techniques for categorical data"
   ]
  }
 ],
 "metadata": {
  "kernelspec": {
   "display_name": "python3",
   "language": "python",
   "name": "python3"
  }
 },
 "nbformat": 4,
 "nbformat_minor": 5
}
