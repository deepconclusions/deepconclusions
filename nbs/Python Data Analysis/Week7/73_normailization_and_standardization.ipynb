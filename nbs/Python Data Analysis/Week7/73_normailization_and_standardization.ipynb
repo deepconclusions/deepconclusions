{
 "cells": [
  {
   "cell_type": "markdown",
   "id": "2e314b07-1d2f-43cf-b259-0ad8659f84af",
   "metadata": {},
   "source": [
    "## Normalization vs Standardization"
   ]
  },
  {
   "cell_type": "markdown",
   "id": "f5514778-b960-4935-b201-53fbae595a54",
   "metadata": {},
   "source": [
    "#### Introduction:\n",
    "In data analysis and machine learning, preprocessing steps such as data normalization and standardization are crucial for improving the performance and interpretability of models.\n",
    "This Jupyter Notebook provides an overview of the importance of data normalization and standardization in preparing data for analysis and modeling."
   ]
  },
  {
   "cell_type": "markdown",
   "id": "19b267c9-ad35-4e32-8ed2-9370f15f910c",
   "metadata": {},
   "source": [
    "#### Importance:\n",
    "\n",
    "1. Data Normalization:\n",
    "   - Uniform Scaling: Ensures all features are scaled to a similar range, preventing dominance by features with larger scales.\n",
    "   - Improved Convergence: Facilitates faster convergence in optimization algorithms by making the loss surface more symmetric.\n",
    "   - Interpretability: Easier interpretation as values are on a consistent scale, aiding in comparison and understanding of feature importance.\n",
    "\n",
    "\n",
    "2. Data Standardization:\n",
    "   - Mean Centering: Transforms data to have a mean of 0 and a standard deviation of 1, simplifying interpretation of coefficients in linear models.\n",
    "   - Handling Different Scales: Useful when features have different scales or units, making them directly comparable.\n",
    "   - Reducing Sensitivity to Outliers: Less affected by outliers compared to normalization, leading to more robust models.\n",
    "   - Maintaining Information: Preserves relative relationships between data points without altering the distribution shape."
   ]
  },
  {
   "cell_type": "code",
   "execution_count": null,
   "id": "100cdab0-f47f-46a0-a765-3051a6a1f983",
   "metadata": {},
   "outputs": [],
   "source": [
    "import numpy as np"
   ]
  },
  {
   "cell_type": "markdown",
   "id": "67e49d6a-8c7f-4848-af29-eda2423ffb5e",
   "metadata": {},
   "source": [
    "## Normalization"
   ]
  },
  {
   "cell_type": "markdown",
   "id": "dd830ab7-961d-48c1-b79f-963d1ade45e6",
   "metadata": {},
   "source": [
    "1. **Normalization**: Normalization typically refers to scaling numerical features to a common scale, often between 0 and 1. This is usually done by subtracting the minimum value and then dividing by the range (maximum - minimum). Normalization is useful when the distribution of the data does not follow a Gaussian distribution (Normal Distribution)."
   ]
  },
  {
   "cell_type": "code",
   "execution_count": null,
   "id": "ebc35ed7-0dac-417e-aa48-d3cc6e2c3e17",
   "metadata": {},
   "outputs": [],
   "source": [
    "# Data Normalization without libraries:\n",
    "def minMaxScaling(data):\n",
    "    min_val = min(data)\n",
    "    max_val = max(data)\n",
    "    \n",
    "    scaled_data = []\n",
    "    for value in data:\n",
    "        scaled = (value - min_val) / (max_val - min_val)\n",
    "        scaled_data.append(scaled)\n",
    "    return scaled_data"
   ]
  },
  {
   "cell_type": "code",
   "execution_count": null,
   "id": "57e3edee-617f-4f35-ba08-5e8b35328f89",
   "metadata": {},
   "outputs": [
    {
     "name": "stdout",
     "output_type": "stream",
     "text": [
      "Normalized data (Min-Max Scaling): [0.0, 0.25, 0.5, 0.75, 1.0]\n"
     ]
    }
   ],
   "source": [
    "# Example data\n",
    "data = np.array([10, 20, 30, 40, 50])\n",
    "normalized_data = minMaxScaling(data)\n",
    "print(\"Normalized data (Min-Max Scaling):\", normalized_data)"
   ]
  },
  {
   "cell_type": "code",
   "execution_count": null,
   "id": "2edba20e-10a2-4955-b84e-73903a239a75",
   "metadata": {},
   "outputs": [
    {
     "name": "stdout",
     "output_type": "stream",
     "text": [
      "Original data:\n",
      "[[1 2]\n",
      " [3 4]\n",
      " [5 6]]\n",
      "\n",
      "Normalized data:\n",
      "[[0.  0. ]\n",
      " [0.5 0.5]\n",
      " [1.  1. ]]\n"
     ]
    }
   ],
   "source": [
    "from sklearn.preprocessing import MinMaxScaler\n",
    "\n",
    "# Sample data\n",
    "data = np.array([[1, 2], [3, 4], [5, 6]])\n",
    "\n",
    "# Create the scaler\n",
    "scaler = MinMaxScaler()\n",
    "\n",
    "# Fit the scaler to the data and transform the data\n",
    "normalized_data = scaler.fit_transform(data)\n",
    "\n",
    "print(\"Original data:\")\n",
    "print(data)\n",
    "print(\"\\nNormalized data:\")\n",
    "print(normalized_data)"
   ]
  },
  {
   "cell_type": "markdown",
   "id": "8c7f87d8-1941-4511-aff9-084228c01199",
   "metadata": {},
   "source": [
    "## Standardization"
   ]
  },
  {
   "cell_type": "markdown",
   "id": "9b535aa4-4db2-4e93-8fe6-6c9b0a68b482",
   "metadata": {},
   "source": [
    "2. **Standardization**: Standardization, often implemented with a method like z-score standardization, transforms the data to have a mean of 0 and a standard deviation of 1. This means that the data will have a Gaussian distribution (if the original data had a Gaussian distribution). In Python, you typically use the `StandardScaler` from the `sklearn.preprocessing` module to standardize data."
   ]
  },
  {
   "cell_type": "code",
   "execution_count": null,
   "id": "9dcaf240-2f90-47ba-862f-90b322135345",
   "metadata": {},
   "outputs": [],
   "source": [
    "def zScoreNormalization(data):\n",
    "    mean = sum(data) / len(data)\n",
    "    variance = sum((x - mean) ** 2 for x in data) / len(data)\n",
    "    std_dev = variance ** 0.5\n",
    "    standardized_data = [(x - mean) / std_dev for x in data]\n",
    "    return standardized_data"
   ]
  },
  {
   "cell_type": "code",
   "execution_count": null,
   "id": "c18f142e-6f09-45c2-977c-8b19d3fdb2f9",
   "metadata": {},
   "outputs": [
    {
     "name": "stdout",
     "output_type": "stream",
     "text": [
      "Standardized data (Z-Score Normalization): [-1.414213562373095, -0.7071067811865475, 0.0, 0.7071067811865475, 1.414213562373095]\n"
     ]
    }
   ],
   "source": [
    "# Example data\n",
    "data = [10, 20, 30, 40, 50]\n",
    "standardized_data = zScoreNormalization(data)\n",
    "print(\"Standardized data (Z-Score Normalization):\", standardized_data)"
   ]
  },
  {
   "cell_type": "code",
   "execution_count": null,
   "id": "9daf02b4-7b31-4b95-84fd-770124ac0474",
   "metadata": {},
   "outputs": [
    {
     "name": "stdout",
     "output_type": "stream",
     "text": [
      "Original data:\n",
      "[[1 2 3]\n",
      " [3 4 5]\n",
      " [5 6 7]]\n",
      "\n",
      "Standardized data:\n",
      "[[-1.22474487 -1.22474487 -1.22474487]\n",
      " [ 0.          0.          0.        ]\n",
      " [ 1.22474487  1.22474487  1.22474487]]\n"
     ]
    }
   ],
   "source": [
    "from sklearn.preprocessing import StandardScaler\n",
    "\n",
    "# Sample data\n",
    "data = np.array([[1, 2, 3], [3, 4, 5], [5, 6, 7]])\n",
    "\n",
    "# Create the scaler\n",
    "scaler = StandardScaler()\n",
    "\n",
    "# Fit the scaler to the data and transform the data\n",
    "standardized_data = scaler.fit_transform(data)\n",
    "\n",
    "print(\"Original data:\")\n",
    "print(data)\n",
    "print(\"\\nStandardized data:\")\n",
    "print(standardized_data)\n"
   ]
  },
  {
   "cell_type": "markdown",
   "id": "aadaa5ee-e993-4a43-9c35-d43dff83dc17",
   "metadata": {},
   "source": [
    "## Which one? \n",
    "The choice between normalization and standardization depends on your data and the requirements of your analysis. Here are some guidelines to help you decide:"
   ]
  },
  {
   "cell_type": "markdown",
   "id": "4634a023-b35a-4b1a-a3c6-1369cc8ed853",
   "metadata": {},
   "source": [
    "1. **Normalization**:\n",
    "   - Use normalization when the scale of features is meaningful and should be preserved.\n",
    "   - Normalize data when you're working with algorithms that require input features to be on a similar scale, such as algorithms using distance metrics like k-nearest neighbors or clustering algorithms like K-means.\n",
    "   - If the distribution of your data is not Gaussian and you want to scale the features to a fixed range, normalization might be a better choice."
   ]
  },
  {
   "cell_type": "markdown",
   "id": "bb8daec5-e4ed-4798-b891-49f2f0b8d316",
   "metadata": {},
   "source": [
    "2. **Standardization**:\n",
    "   - Use standardization when the distribution of your data is Gaussian or when you're unsure about the distribution.\n",
    "   - Standardization is less affected by outliers compared to normalization, making it more suitable when your data contains outliers.\n",
    "   - If you're working with algorithms that assume your data is normally distributed, such as linear regression, logistic regression, standardization is typically preferred."
   ]
  },
  {
   "cell_type": "markdown",
   "id": "168163c2-5155-4c7d-8c57-2becf29317ec",
   "metadata": {},
   "source": [
    "In some cases, you might experiment with both approaches and see which one yields better results for your specific dataset and analysis. Additionally, it's always a good practice to understand your data and the underlying assumptions of the algorithms you're using to make informed decisions about data preprocessing techniques."
   ]
  }
 ],
 "metadata": {
  "kernelspec": {
   "display_name": "python3",
   "language": "python",
   "name": "python3"
  }
 },
 "nbformat": 4,
 "nbformat_minor": 5
}
