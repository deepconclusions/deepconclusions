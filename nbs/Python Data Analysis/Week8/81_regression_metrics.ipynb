{
 "cells": [
  {
   "cell_type": "markdown",
   "id": "efb19aa7-6373-4b12-a772-da5a1e320fe3",
   "metadata": {},
   "source": [
    "## Regression Metrics"
   ]
  },
  {
   "cell_type": "markdown",
   "id": "c90681da-0f20-4a48-8fe8-37dd51ac25d4",
   "metadata": {},
   "source": [
    "In regression tasks, the goal is to predict continuous numerical values. Scikit-learn provides several metrics to evaluate the performance of regression models."
   ]
  },
  {
   "cell_type": "code",
   "execution_count": null,
   "id": "250c2442",
   "metadata": {},
   "outputs": [],
   "source": [
    "from dataidea.datasets import loadDataset\n",
    "\n",
    "vg= loadDataset('vgsales')"
   ]
  },
  {
   "cell_type": "code",
   "execution_count": null,
   "id": "d4d42e79",
   "metadata": {},
   "outputs": [
    {
     "data": {
      "text/html": [
       "<div>\n",
       "<style scoped>\n",
       "    .dataframe tbody tr th:only-of-type {\n",
       "        vertical-align: middle;\n",
       "    }\n",
       "\n",
       "    .dataframe tbody tr th {\n",
       "        vertical-align: top;\n",
       "    }\n",
       "\n",
       "    .dataframe thead th {\n",
       "        text-align: right;\n",
       "    }\n",
       "</style>\n",
       "<table border=\"1\" class=\"dataframe\">\n",
       "  <thead>\n",
       "    <tr style=\"text-align: right;\">\n",
       "      <th></th>\n",
       "      <th>Publisher</th>\n",
       "      <th>Genre</th>\n",
       "    </tr>\n",
       "  </thead>\n",
       "  <tbody>\n",
       "    <tr>\n",
       "      <th>0</th>\n",
       "      <td>Nintendo</td>\n",
       "      <td>Sports</td>\n",
       "    </tr>\n",
       "    <tr>\n",
       "      <th>1</th>\n",
       "      <td>Nintendo</td>\n",
       "      <td>Platform</td>\n",
       "    </tr>\n",
       "    <tr>\n",
       "      <th>2</th>\n",
       "      <td>Nintendo</td>\n",
       "      <td>Racing</td>\n",
       "    </tr>\n",
       "    <tr>\n",
       "      <th>3</th>\n",
       "      <td>Nintendo</td>\n",
       "      <td>Sports</td>\n",
       "    </tr>\n",
       "    <tr>\n",
       "      <th>4</th>\n",
       "      <td>Nintendo</td>\n",
       "      <td>Role-Playing</td>\n",
       "    </tr>\n",
       "    <tr>\n",
       "      <th>...</th>\n",
       "      <td>...</td>\n",
       "      <td>...</td>\n",
       "    </tr>\n",
       "    <tr>\n",
       "      <th>16593</th>\n",
       "      <td>Kemco</td>\n",
       "      <td>Platform</td>\n",
       "    </tr>\n",
       "    <tr>\n",
       "      <th>16594</th>\n",
       "      <td>Infogrames</td>\n",
       "      <td>Shooter</td>\n",
       "    </tr>\n",
       "    <tr>\n",
       "      <th>16595</th>\n",
       "      <td>Activision</td>\n",
       "      <td>Racing</td>\n",
       "    </tr>\n",
       "    <tr>\n",
       "      <th>16596</th>\n",
       "      <td>7G//AMES</td>\n",
       "      <td>Puzzle</td>\n",
       "    </tr>\n",
       "    <tr>\n",
       "      <th>16597</th>\n",
       "      <td>Wanadoo</td>\n",
       "      <td>Platform</td>\n",
       "    </tr>\n",
       "  </tbody>\n",
       "</table>\n",
       "<p>16598 rows × 2 columns</p>\n",
       "</div>"
      ],
      "text/plain": [
       "        Publisher         Genre\n",
       "0        Nintendo        Sports\n",
       "1        Nintendo      Platform\n",
       "2        Nintendo        Racing\n",
       "3        Nintendo        Sports\n",
       "4        Nintendo  Role-Playing\n",
       "...           ...           ...\n",
       "16593       Kemco      Platform\n",
       "16594  Infogrames       Shooter\n",
       "16595  Activision        Racing\n",
       "16596    7G//AMES        Puzzle\n",
       "16597     Wanadoo      Platform\n",
       "\n",
       "[16598 rows x 2 columns]"
      ]
     },
     "execution_count": null,
     "metadata": {},
     "output_type": "execute_result"
    }
   ],
   "source": [
    "vg[['Publisher', 'Genre']]"
   ]
  },
  {
   "cell_type": "code",
   "execution_count": null,
   "id": "d073d6fe-08d6-409f-9161-9f9a8a1d98e6",
   "metadata": {},
   "outputs": [],
   "source": [
    "# True labels\n",
    "y_true = [2.5, 3.7, 5.1, 4.2, 6.8]\n",
    "# Predicted labels\n",
    "y_pred = [2.3, 3.5, 4.9, 4.0, 6.5]"
   ]
  },
  {
   "cell_type": "markdown",
   "id": "1261a853-96ff-4a2b-a6b7-772a417dad86",
   "metadata": {},
   "source": [
    "### Mean Absolute Error (MAE):\n",
    "   - MAE measures the average absolute errors between predicted values and actual values.\n",
    "   - Imagine you're trying to hit a target with darts. The MAE is like calculating the average distance between where your darts hit and the bullseye. You just sum up how far each dart landed from the center (without caring if it was too short or too far) and then find the average. The smaller the MAE, the closer your predictions are to the actual values.\n",
    "   - Formula: $ \\text{MAE} = \\frac{1}{n} \\sum_{i=1}^{n} |y_{\\text{true}} - y_{\\text{pred}}| $"
   ]
  },
  {
   "cell_type": "code",
   "execution_count": null,
   "id": "987f6741-a08d-4056-8d4a-0957ae17297c",
   "metadata": {},
   "outputs": [
    {
     "name": "stdout",
     "output_type": "stream",
     "text": [
      "Mean Absolute Error (MAE): 0.21999999999999992\n"
     ]
    }
   ],
   "source": [
    "from sklearn.metrics import mean_absolute_error\n",
    "\n",
    "# Calculate Mean Absolute Error (MAE)\n",
    "mae = mean_absolute_error(y_true, y_pred)\n",
    "print(\"Mean Absolute Error (MAE):\", mae)"
   ]
  },
  {
   "cell_type": "markdown",
   "id": "f2995f94-7158-4124-8277-edc809417e08",
   "metadata": {},
   "source": [
    "### Mean Squared Error (MSE):\n",
    "   - MSE measures the average of the squares of the errors between predicted values and actual values.\n",
    "   - This is similar to MAE, but instead of just adding up the distances, you square them before averaging. Squaring makes bigger differences more noticeable (by making them even bigger), so MSE penalizes larger errors more than smaller ones.\n",
    "   - Formula: $ \\text{MSE} = \\frac{1}{n} \\sum_{i=1}^{n} (y_{\\text{true}} - y_{\\text{pred}})^2 $"
   ]
  },
  {
   "cell_type": "code",
   "execution_count": null,
   "id": "25a22f5a-955c-43e5-bdf9-ab1f21282953",
   "metadata": {},
   "outputs": [
    {
     "name": "stdout",
     "output_type": "stream",
     "text": [
      "Mean Squared Error (MSE): 0.04999999999999997\n"
     ]
    }
   ],
   "source": [
    "from sklearn.metrics import mean_squared_error\n",
    "\n",
    "# Calculate Mean Squared Error (MSE)\n",
    "mse = mean_squared_error(y_true, y_pred)\n",
    "print(\"Mean Squared Error (MSE):\", mse)"
   ]
  },
  {
   "cell_type": "markdown",
   "id": "f1d42e86-25ea-432e-9822-ae3386b3a682",
   "metadata": {},
   "source": [
    "### Root Mean Squared Error (RMSE):\n",
    "   - RMSE is the square root of the MSE, providing a more interpretable scale since it's in the same units as the target variable.\n",
    "   - It's just like MSE, but we take the square root of the result. This brings the error back to the same scale as the original target variable, which makes it easier to interpret. RMSE gives you an idea of how spread out your errors are in the same units as your data.\n",
    "   - Formula: $ \\text{RMSE} = \\sqrt{\\text{MSE}} $"
   ]
  },
  {
   "cell_type": "code",
   "execution_count": null,
   "id": "47156cd9-56db-47bb-ad81-ae7fdb005dd5",
   "metadata": {},
   "outputs": [
    {
     "name": "stdout",
     "output_type": "stream",
     "text": [
      "Root Mean Squared Error (RMSE): 0.2236067977499789\n"
     ]
    }
   ],
   "source": [
    "from sklearn.metrics import root_mean_squared_error\n",
    "\n",
    "# Calculate Root Mean Squared Error (RMSE)\n",
    "rmse = root_mean_squared_error(y_true, y_pred,)\n",
    "print(\"Root Mean Squared Error (RMSE):\", rmse)"
   ]
  },
  {
   "cell_type": "markdown",
   "id": "f71e0eb3-6ed9-4928-bcf5-d26f1c2dc1b0",
   "metadata": {},
   "source": [
    "4. **R-squared (Coefficient of Determination)**:\n",
    "   - R-squared measures the proportion of the variance in the dependent variable that is predictable from the independent variables.\n",
    "   - This tells you how well your model's predictions match the actual data compared to a simple average. If R-squared is 1, it means your model perfectly predicts the target variable. If it's 0, it means your model is no better than just predicting the mean of the target variable. So, the closer R-squared is to 1, the better your model fits the data.\n",
    "   - Formula: $ R^2 = 1 - \\frac{\\sum_{i=1}^{n} (y_{\\text{true}} - y_{\\text{pred}})^2}{\\sum_{i=1}^{n} (y_{\\text{true}} - \\bar{y}_{\\text{true}})^2} $, where $ \\bar{y}_{\\text{true}} $ is the mean of the observed data.\n"
   ]
  },
  {
   "cell_type": "code",
   "execution_count": null,
   "id": "98cb64d3-b5d0-497b-995d-22244d0d336f",
   "metadata": {},
   "outputs": [
    {
     "name": "stdout",
     "output_type": "stream",
     "text": [
      "R-squared (R2 Score): 0.975896644812958\n"
     ]
    }
   ],
   "source": [
    "from sklearn.metrics import r2_score\n",
    "\n",
    "# Calculate R-squared (Coefficient of Determination)\n",
    "r2 = r2_score(y_true, y_pred)\n",
    "print(\"R-squared (R2 Score):\", r2)"
   ]
  },
  {
   "cell_type": "markdown",
   "id": "a6225c44-6e03-4fad-a3d5-3bf0a1eed3ad",
   "metadata": {},
   "source": [
    "Understanding these metrics can help you assess the performance of your regression model and make necessary adjustments to improve its accuracy."
   ]
  }
 ],
 "metadata": {
  "kernelspec": {
   "display_name": "python3",
   "language": "python",
   "name": "python3"
  }
 },
 "nbformat": 4,
 "nbformat_minor": 5
}
