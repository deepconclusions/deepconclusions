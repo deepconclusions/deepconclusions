{
 "cells": [
  {
   "cell_type": "markdown",
   "id": "c3b06a54-8084-4d06-a893-e42111bb4d1b",
   "metadata": {},
   "source": [
    "## What is the `dataidea` package? \n",
    "This is a package we are currently developing to help new and old data analysists walk around some repetitive and sometimes disturbing tasks that a data analyst does day to day\n",
    "\n",
    "This library currently extends and depends on majorly numpy, pandas as sklearn and these, among a few others will be installed once you install dataidea"
   ]
  },
  {
   "cell_type": "markdown",
   "id": "bd14b86e-df82-4334-b7a3-bd950b057dcd",
   "metadata": {},
   "source": [
    "## Installing `dataidea`\n",
    "- To install dataidea, you must have python installed on your machine\n",
    "- It's advised that you install it in a virtual environment\n",
    "- You can install `dataidea` using the command below\n",
    "  \n",
    "```\n",
    "pip install dataidea\n",
    "```"
   ]
  },
  {
   "cell_type": "markdown",
   "id": "380e97ed-c0a5-4a83-b354-58573ef2bf96",
   "metadata": {},
   "source": [
    "## Learning `dataidea`\n",
    "The best way to get started with dataidea (and data analysis) is to complete the free course.\n",
    "\n",
    "To see what’s possible with dataidea, take a look at the Quick Start\n",
    "\n",
    "Read through the Tutorials to learn how to load datasets, train your own models on your own datasets. Use the navigation to look through the dataidea documentation. Every class, function, and method is documented here."
   ]
  },
  {
   "cell_type": "markdown",
   "id": "61f7fa0d-72c0-4b3a-bbc2-b16b80b485e1",
   "metadata": {},
   "source": [
    "## Quickstart"
   ]
  },
  {
   "cell_type": "markdown",
   "id": "47013e7f-584c-4917-a979-21659bfd6327",
   "metadata": {},
   "source": [
    "We can see some values inside by using our usual `pandas` dataframe methods like `sample()`, `head()`, `tail()` etc"
   ]
  },
  {
   "cell_type": "code",
   "execution_count": null,
   "id": "0e6c4f6e-0a05-4509-93f8-598b8065b7bd",
   "metadata": {},
   "outputs": [],
   "source": []
  }
 ],
 "metadata": {
  "kernelspec": {
   "display_name": "python3",
   "language": "python",
   "name": "python3"
  }
 },
 "nbformat": 4,
 "nbformat_minor": 5
}
