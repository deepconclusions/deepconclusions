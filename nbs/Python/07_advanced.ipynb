{
 "cells": [
  {
   "cell_type": "markdown",
   "id": "9154f5b8-15b8-4728-bf4a-39ea489d9774",
   "metadata": {},
   "source": [
    "## Advanced"
   ]
  },
  {
   "cell_type": "markdown",
   "id": "d04c2844-5222-424f-acde-d5a3a2d8219c",
   "metadata": {},
   "source": [
    "## Classes and Objects"
   ]
  },
  {
   "cell_type": "markdown",
   "id": "41eaa649",
   "metadata": {},
   "source": [
    "In Python, everything is an object.A class helps us create objects."
   ]
  },
  {
   "cell_type": "markdown",
   "id": "351ed76d",
   "metadata": {},
   "source": [
    "### Creating a Class"
   ]
  },
  {
   "cell_type": "markdown",
   "id": "c156f6f6",
   "metadata": {},
   "source": [
    "Use the `class` keyword to create a class"
   ]
  },
  {
   "cell_type": "code",
   "execution_count": null,
   "id": "903a518c",
   "metadata": {},
   "outputs": [
    {
     "data": {
      "text/plain": [
       "__main__.Person"
      ]
     },
     "execution_count": null,
     "metadata": {},
     "output_type": "execute_result"
    }
   ],
   "source": [
    "class Person:\n",
    "    first_name = \"Betty\"\n",
    "    last_name = \"Kawala\"\n",
    "    age = 30\n",
    "\n",
    "## Instantiating a class\n",
    "# Now we can ceate an object from the class by instantiating it.\n",
    "# To instantiate a class, add round brackets to the class name.\n",
    "\n",
    "person_obj1 = Person()\n",
    "\n",
    "type(person_obj1)"
   ]
  },
  {
   "cell_type": "code",
   "execution_count": null,
   "id": "78fa3dd7",
   "metadata": {},
   "outputs": [
    {
     "name": "stdout",
     "output_type": "stream",
     "text": [
      "Betty\n",
      "Kawala\n",
      "30\n"
     ]
    }
   ],
   "source": [
    "# print attributes\n",
    "print(person_obj1.first_name)\n",
    "print(person_obj1.last_name)\n",
    "print(person_obj1.age)"
   ]
  },
  {
   "cell_type": "markdown",
   "id": "90fb3c9e",
   "metadata": {},
   "source": [
    "## Class Attributes\n",
    "\n",
    "A class can have attributes. Forexample the Person Class can have attributes like the `name`, `height` and `feet`"
   ]
  },
  {
   "cell_type": "code",
   "execution_count": null,
   "id": "d3b9135c-5ab5-43d2-93c9-d8958ca54bb0",
   "metadata": {},
   "outputs": [],
   "source": [
    "class Person:\n",
    "    def __init__(self, name, height, feet):\n",
    "        self.name = name\n",
    "        self.height = height\n",
    "        self.feet = feet"
   ]
  },
  {
   "cell_type": "code",
   "execution_count": null,
   "id": "5cfccd15",
   "metadata": {},
   "outputs": [
    {
     "name": "stdout",
     "output_type": "stream",
     "text": [
      "Name: Betty Kawala\n",
      "Height: 1.57\n",
      "Feet: 4\n"
     ]
    }
   ],
   "source": [
    "person_obj1 = Person(name='Betty Kawala', height=1.57, feet=4)\n",
    "\n",
    "print('Name:', person_obj1.name)\n",
    "print('Height:', person_obj1.height)\n",
    "print('Feet:', person_obj1.feet)"
   ]
  },
  {
   "cell_type": "markdown",
   "id": "0764afb1",
   "metadata": {},
   "source": [
    "## Methods\n",
    "\n",
    "Methods are functions that can access the class attributes. These methods should be defined (created) inside the class"
   ]
  },
  {
   "cell_type": "code",
   "execution_count": null,
   "id": "e364724d",
   "metadata": {},
   "outputs": [],
   "source": [
    "class Person:\n",
    "    def __init__(self, name, height, feet):\n",
    "        self.name = name\n",
    "        self.height = height\n",
    "        self.feet = feet\n",
    "        \n",
    "    def jump(self):\n",
    "        return \"I'm jumping \" + str(self.feet) + \" Feet\""
   ]
  },
  {
   "cell_type": "code",
   "execution_count": null,
   "id": "cfec8374",
   "metadata": {},
   "outputs": [
    {
     "name": "stdout",
     "output_type": "stream",
     "text": [
      "I'm jumping 5 Feet\n"
     ]
    }
   ],
   "source": [
    "person_obj1 = Person(name='Juma', height=1.59, feet=5)\n",
    "\n",
    "print(person_obj1.jump())"
   ]
  },
  {
   "cell_type": "markdown",
   "id": "bc3a3d98",
   "metadata": {},
   "source": [
    "As you may notice, we used self parameter to access the `feet` attribute. "
   ]
  },
  {
   "cell_type": "markdown",
   "id": "61a92888",
   "metadata": {},
   "source": [
    "## Python Inheritance\n",
    "\n",
    "Inheritance is a feature that allows us to create a class that inherits the attributes or properties and methods of another class"
   ]
  },
  {
   "cell_type": "markdown",
   "id": "2b8bc8a9",
   "metadata": {},
   "source": [
    "### Example\n",
    "The `Animal` class below can be used to tell that an animal can eat"
   ]
  },
  {
   "cell_type": "code",
   "execution_count": null,
   "id": "e0172128",
   "metadata": {},
   "outputs": [],
   "source": [
    "class Animal:\n",
    "    def __init__(self, name, age):\n",
    "        self.name = name\n",
    "        self.age = age\n",
    "\n",
    "    def eat(self):\n",
    "        print(f\"{self.name} is eating.\")"
   ]
  },
  {
   "cell_type": "markdown",
   "id": "225ce323",
   "metadata": {},
   "source": [
    "Let's say we need to create another class called Dog.\n",
    "\n",
    "Since a dog is also an animal, it's more efficient to have access to all the properties and methods of the `Animal` class than to create another\n",
    "\n",
    "This example creates a class named `Dog` and inherits from the `Animal` class"
   ]
  },
  {
   "cell_type": "code",
   "execution_count": null,
   "id": "756ec127",
   "metadata": {},
   "outputs": [],
   "source": [
    "class Dog(Animal):\n",
    "    def __init__(self, name, age, color):\n",
    "        super().__init__(name, age)\n",
    "        self.color = color\n",
    "\n",
    "    def sound(self):\n",
    "        print(self.name, \"barks\")"
   ]
  },
  {
   "cell_type": "markdown",
   "id": "cda0c72b",
   "metadata": {},
   "source": [
    "Now we can use the properties and methods of both the `Animal` and the `Dog` classes using just one instance"
   ]
  },
  {
   "cell_type": "code",
   "execution_count": null,
   "id": "f5dcb389",
   "metadata": {},
   "outputs": [
    {
     "name": "stdout",
     "output_type": "stream",
     "text": [
      "Brian is eating.\n",
      "Brian barks\n"
     ]
    }
   ],
   "source": [
    "dog1 = Dog(name='Brian', age=8, color='White')\n",
    "dog1.eat()\n",
    "dog1.sound()"
   ]
  },
  {
   "cell_type": "markdown",
   "id": "2c978163",
   "metadata": {},
   "source": [
    "The `super()` and `__init__` functions found in the `Dog` class allow us to inherit the properties and methods of the `Animal` class."
   ]
  },
  {
   "cell_type": "markdown",
   "id": "afe8b08b",
   "metadata": {},
   "source": [
    "### Parent and Child Class\n",
    "\n",
    "The parent class is the class from whick the other class inherits from.\n",
    "\n",
    "The child class is the the class that inherits from another class\n",
    "\n",
    "In our example above, the `Animal` is the parent class while the `Dog` class is the child class"
   ]
  },
  {
   "cell_type": "markdown",
   "id": "e127881a",
   "metadata": {},
   "source": [
    "## More Class and Inheritance Examples"
   ]
  },
  {
   "cell_type": "markdown",
   "id": "0390048f",
   "metadata": {},
   "source": [
    "### Animal"
   ]
  },
  {
   "cell_type": "code",
   "execution_count": null,
   "id": "10c60295-3432-4bc6-b4e4-b19800676c8d",
   "metadata": {},
   "outputs": [
    {
     "name": "stdout",
     "output_type": "stream",
     "text": [
      "Sensei is Hissing\n"
     ]
    }
   ],
   "source": [
    "class Animal:\n",
    "    def __init__(self, name, sound):\n",
    "        self.name = name \n",
    "        self.sound = sound\n",
    "\n",
    "    def speak(self):\n",
    "        print(self.name + ' is ' + self.sound + 'ing')\n",
    "\n",
    "class Dog(Animal):\n",
    "    def __init__(self, name, sound):\n",
    "        super().__init__(name, sound)\n",
    "\n",
    "    def walk(self):\n",
    "        print( self.name + ' is ' + 'walking...')\n",
    "        # return\n",
    "    \n",
    "\n",
    "class Snake(Animal):\n",
    "    def __init__(self, name, sound):\n",
    "        super().__init__(name, sound)\n",
    "\n",
    "    def crawl(self):\n",
    "        print(self.name + ' is ' + 'crawling..')\n",
    "\n",
    "snake1 = Snake(name='Sensei', sound='Hiss')\n",
    "\n",
    "snake1.speak()    "
   ]
  },
  {
   "cell_type": "markdown",
   "id": "e73847f7",
   "metadata": {},
   "source": [
    "### Library"
   ]
  },
  {
   "cell_type": "code",
   "execution_count": null,
   "id": "72736dc8-e18a-4205-aa08-75e004a28562",
   "metadata": {},
   "outputs": [],
   "source": [
    "class Library:\n",
    "    def __init__(self, name):\n",
    "        self.name = name\n",
    "        self.books = []    # list of books\n",
    "        self.lent_books = [] # list of lent books\n",
    "\n",
    "    # add book to the library\n",
    "    def addBook(self, book):\n",
    "        self.books.append(book) \n",
    "\n",
    "    # add many books to the library\n",
    "    def addManyBooks(self, books):\n",
    "        self.books.extend(books)\n",
    "\n",
    "    # display books in the library\n",
    "    def displayBooks(self):\n",
    "        for book in self.books:\n",
    "            print(book)\n",
    "\n",
    "    # lend book to a person\n",
    "    def lendBook(self, title, person):\n",
    "        for book in self.books:\n",
    "            if book.title == title:\n",
    "                if book.title not in self.lent_books:\n",
    "                    person.borrowed_books.append(book)\n",
    "                    self.lent_books.append(book.title)\n",
    "                    return\n",
    "                else:\n",
    "                    print(title + ' is not availabe')\n",
    "                    return\n",
    "        print('There no such book in the library') \n",
    "\n",
    "    def __str__(self):\n",
    "        return str(self.name)"
   ]
  },
  {
   "cell_type": "code",
   "execution_count": null,
   "id": "c94f346a",
   "metadata": {},
   "outputs": [],
   "source": [
    "class Book:\n",
    "    def __init__(self, title, author):\n",
    "        self.title = title \n",
    "        self.author = author\n",
    "        self.available = True\n",
    "\n",
    "    def __str__(self):\n",
    "        return str(self.title)"
   ]
  },
  {
   "cell_type": "code",
   "execution_count": null,
   "id": "7258d2a0",
   "metadata": {},
   "outputs": [],
   "source": [
    "class Person:\n",
    "    def __init__(self, name):\n",
    "        self.name = name\n",
    "        self.borrowed_books = [] # list of borrowed books\n",
    "\n",
    "    # display all borrowed books\n",
    "    def displayBooks(self):\n",
    "        for book in self.borrowed_books:\n",
    "            print(book)\n",
    "\n",
    "    def __str__(self):\n",
    "        return str(self.name)"
   ]
  },
  {
   "cell_type": "code",
   "execution_count": null,
   "id": "9ee455ad",
   "metadata": {},
   "outputs": [],
   "source": [
    "# create our library\n",
    "stat_library = Library(name='Stat-Lib')"
   ]
  },
  {
   "cell_type": "code",
   "execution_count": null,
   "id": "d755d041",
   "metadata": {},
   "outputs": [],
   "source": [
    "# create our people\n",
    "viola = Person(name='Viola')\n",
    "shafara = Person(name='Shafara')\n",
    "betty = Person(name='Betty')"
   ]
  },
  {
   "cell_type": "code",
   "execution_count": null,
   "id": "680cfcae",
   "metadata": {},
   "outputs": [],
   "source": [
    "\n",
    "# create our books\n",
    "our_books = [\n",
    "    Book(title='Song of Lawino', author=\"Okot p'Bitek\"),\n",
    "    Book(title='Da Vinci Code', author='Dan Brown'),\n",
    "    Book(title='Harry Potter', author='JK Rowling')\n",
    "] \n",
    "\n",
    "# add books to the library\n",
    "stat_library.addManyBooks(books=our_books)"
   ]
  },
  {
   "cell_type": "code",
   "execution_count": null,
   "id": "9ed692ee",
   "metadata": {},
   "outputs": [
    {
     "name": "stdout",
     "output_type": "stream",
     "text": [
      "Song of Lawino\n",
      "Da Vinci Code\n",
      "Harry Potter\n"
     ]
    }
   ],
   "source": [
    "# display available books in the library\n",
    "stat_library.displayBooks()"
   ]
  },
  {
   "cell_type": "code",
   "execution_count": null,
   "id": "90ab9ee2",
   "metadata": {},
   "outputs": [],
   "source": [
    "# lend out book \n",
    "stat_library.lendBook(title='Harry Potter', person=betty)"
   ]
  },
  {
   "cell_type": "code",
   "execution_count": null,
   "id": "c0e1a6a0",
   "metadata": {},
   "outputs": [],
   "source": [
    "# lend out book\n",
    "stat_library.lendBook(title='Song of Lawino', person=betty)"
   ]
  },
  {
   "cell_type": "code",
   "execution_count": null,
   "id": "5c7a82fa",
   "metadata": {},
   "outputs": [
    {
     "name": "stdout",
     "output_type": "stream",
     "text": [
      "Harry Potter\n",
      "Song of Lawino\n"
     ]
    }
   ],
   "source": [
    "# display books borrowed by Betty\n",
    "betty.displayBooks()"
   ]
  },
  {
   "cell_type": "code",
   "execution_count": null,
   "id": "288541b4",
   "metadata": {},
   "outputs": [
    {
     "data": {
      "text/plain": [
       "['Harry Potter', 'Song of Lawino']"
      ]
     },
     "execution_count": null,
     "metadata": {},
     "output_type": "execute_result"
    }
   ],
   "source": [
    "# display all lent out books\n",
    "stat_library.lent_books"
   ]
  },
  {
   "cell_type": "code",
   "execution_count": null,
   "id": "d19c5eed",
   "metadata": {},
   "outputs": [
    {
     "name": "stdout",
     "output_type": "stream",
     "text": [
      "Song of Lawino is not availabe\n"
     ]
    }
   ],
   "source": [
    "# try lending out an already lent book\n",
    "stat_library.lendBook(title='Song of Lawino', person=viola)"
   ]
  },
  {
   "cell_type": "code",
   "execution_count": null,
   "id": "1b1004c1",
   "metadata": {},
   "outputs": [],
   "source": [
    "# lend out book\n",
    "stat_library.lendBook(title='Da Vinci Code', person=viola)"
   ]
  },
  {
   "cell_type": "code",
   "execution_count": null,
   "id": "b567479e",
   "metadata": {},
   "outputs": [
    {
     "name": "stdout",
     "output_type": "stream",
     "text": [
      "There no such book in the library\n"
     ]
    }
   ],
   "source": [
    "# try lending out non existent book\n",
    "stat_library.lendBook(title='Angels and Demons', person=shafara)"
   ]
  },
  {
   "cell_type": "markdown",
   "id": "34f3797d-61de-4274-a597-5cca484a7a2a",
   "metadata": {},
   "source": [
    "## Formatted Strings"
   ]
  },
  {
   "cell_type": "code",
   "execution_count": null,
   "id": "9688a898-4f98-4b73-bf0d-fd613183a1d0",
   "metadata": {},
   "outputs": [
    {
     "name": "stdout",
     "output_type": "stream",
     "text": [
      "Juma loves to code in JavaScript\n"
     ]
    }
   ],
   "source": [
    "statement = '{} loves to code in {}'\n",
    "\n",
    "formatted = statement.format('Juma', 'JavaScript')\n",
    "\n",
    "print(formatted)"
   ]
  },
  {
   "cell_type": "code",
   "execution_count": null,
   "id": "9f0877aa",
   "metadata": {},
   "outputs": [
    {
     "name": "stdout",
     "output_type": "stream",
     "text": [
      "Juma loves to code in JavaScript\n"
     ]
    }
   ],
   "source": [
    "name = 'Juma'; language = 'JavaScript'\n",
    "\n",
    "statement = f'{name} loves to code in {language}'\n",
    "\n",
    "print(statement)"
   ]
  },
  {
   "cell_type": "code",
   "execution_count": null,
   "id": "dd4abc44",
   "metadata": {},
   "outputs": [
    {
     "name": "stdout",
     "output_type": "stream",
     "text": [
      "The summation of 5 and 7 is 12\n"
     ]
    }
   ],
   "source": [
    "answer = f'The summation of 5 and 7 is {5 + 7}'\n",
    "\n",
    "print(answer)"
   ]
  },
  {
   "cell_type": "code",
   "execution_count": null,
   "id": "140fe42c",
   "metadata": {},
   "outputs": [
    {
     "name": "stdout",
     "output_type": "stream",
     "text": [
      "Juma loves to code in javascript\n"
     ]
    }
   ],
   "source": [
    "# Using indexes\n",
    "\n",
    "name = 'Juma'\n",
    "language = 'javascript'\n",
    "\n",
    "statement = f'{name} loves to code in {language}'\n",
    "\n",
    "modified = statement.format(language='JavaScript', name='Juma')\n",
    "\n",
    "print(modified)"
   ]
  },
  {
   "cell_type": "code",
   "execution_count": null,
   "id": "6493d467-d660-40ac-ae2b-cd73f0c1c538",
   "metadata": {},
   "outputs": [
    {
     "name": "stdout",
     "output_type": "stream",
     "text": [
      "Viola loves my orange\n"
     ]
    }
   ],
   "source": [
    "name = 'Viola'\n",
    "fruit = 'orange'\n",
    "expression = 'so much'\n",
    "\n",
    "# positional formating\n",
    "statement = '{} loves my {}'.format(name, fruit)\n",
    "\n",
    "print(statement)"
   ]
  },
  {
   "cell_type": "code",
   "execution_count": null,
   "id": "e54f3e9a",
   "metadata": {},
   "outputs": [
    {
     "name": "stdout",
     "output_type": "stream",
     "text": [
      "Viola loves my orange\n"
     ]
    }
   ],
   "source": [
    "# indexing\n",
    "statement = '{0} loves my {1}'.format(name, fruit)\n",
    "\n",
    "print(statement)"
   ]
  },
  {
   "cell_type": "markdown",
   "id": "7c7b16f1-0dec-45e9-9de5-3409c17c00ac",
   "metadata": {},
   "source": [
    "## try...except"
   ]
  },
  {
   "cell_type": "code",
   "execution_count": null,
   "id": "ae2c3a2b-5a97-47f0-b04d-4d60a8394fcc",
   "metadata": {},
   "outputs": [],
   "source": [
    "# try:\n",
    "#     statements\n",
    "# except:\n",
    "#     statements\n",
    "def dataideaArithmetic(x, y, operation):\n",
    "    if operation == '+':\n",
    "        return x + y\n",
    "    elif operation == '-':\n",
    "        return x - y\n",
    "    elif operation == '/':\n",
    "        return x / y \n",
    "    else:\n",
    "        return x * y"
   ]
  },
  {
   "cell_type": "code",
   "execution_count": null,
   "id": "73962c8d",
   "metadata": {},
   "outputs": [
    {
     "name": "stdout",
     "output_type": "stream",
     "text": [
      "\n",
      "    DATAIDEA Arithmects:\n",
      "      \n",
      "Instructions\n",
      "-------------------------\n",
      "Enter only two numbers and the operation as +, -, /, x\n",
      "\n",
      "2.022.0 = 4.0\n",
      "Your code has run successfully!\n",
      "Code execution complete.\n",
      "You are not eligible to vote\n",
      "Thanks for participating!\n"
     ]
    }
   ],
   "source": [
    "\n",
    "print('''\n",
    "    DATAIDEA Arithmects:\n",
    "      \n",
    "Instructions\n",
    "-------------------------\n",
    "Enter only two numbers and the operation as +, -, /, x\n",
    "''')\n",
    "\n",
    "\n",
    "# number1 = float(input('Enter first number: '))\n",
    "# number2 = float(input('Enter second number: '))\n",
    "# operator = input('Enter the operator: ')\n",
    "\n",
    "\n",
    "try:\n",
    "    answer = dataideaArithmetic(number1, number2, operator)\n",
    "    print(f'{number1}{operator}{number2} = {answer}')\n",
    "except:\n",
    "    print('A problem occured while running the operation')\n",
    "else:\n",
    "    print('Your code has run successfully!')\n",
    "finally:\n",
    "    print('Code execution complete.')\n",
    "\n",
    "try:\n",
    "    # age = input('Enter your age: ')\n",
    "    age = '32'\n",
    "    age_integer = int(age)\n",
    "\n",
    "    if age_integer >= 18:\n",
    "        print('Your vote has been cast')\n",
    "    else:\n",
    "        print('You are not eligible to vote')\n",
    "except ValueError:\n",
    "    print('A problem occured while picking your age \\n'\n",
    "          'You did not enter a number')\n",
    "else:\n",
    "    print('Thanks for participating!')\n"
   ]
  },
  {
   "cell_type": "code",
   "execution_count": null,
   "id": "0ba7536e",
   "metadata": {},
   "outputs": [
    {
     "name": "stdout",
     "output_type": "stream",
     "text": [
      "A problem occurred \n",
      "Error: '<' not supported between instances of 'str' and 'int'\n"
     ]
    }
   ],
   "source": [
    "\n",
    "# Creating your own errors\n",
    "\n",
    "try: \n",
    "    # age = int(input('Enter your age: '))\n",
    "    age = ''\n",
    "\n",
    "    if age < 18:\n",
    "        raise Exception('Not an adult')\n",
    "except Exception as error:\n",
    "    print('A problem occurred \\n'\n",
    "          f'Error: {error}')"
   ]
  },
  {
   "cell_type": "markdown",
   "id": "e59d4729-4403-4020-a74c-634c79239693",
   "metadata": {},
   "source": [
    "## Variable Scope"
   ]
  },
  {
   "cell_type": "code",
   "execution_count": null,
   "id": "331bf8b2-93fc-42dd-95c6-f83e99c6d4e7",
   "metadata": {},
   "outputs": [
    {
     "name": "stdout",
     "output_type": "stream",
     "text": [
      "orange\n"
     ]
    }
   ],
   "source": [
    "# local scope\n",
    "# a variable that is created/defined \n",
    "# inside a function has a local scope\n",
    "\n",
    "# create a fucntion that greats people\n",
    "\n",
    "# - All variable declared outside a function global\n",
    "\n",
    "name = 'Voila'\n",
    "\n",
    "def my_func():\n",
    "    global my_fruit\n",
    "    my_fruit = 'orange'\n",
    "    # print(name + ' loves my ' + my_fruit)\n",
    "\n",
    "my_func()\n",
    "\n",
    "print(my_fruit)"
   ]
  },
  {
   "cell_type": "code",
   "execution_count": null,
   "id": "a2ee1970-f22e-4d5c-9ecf-5b03fbf1a4cd",
   "metadata": {},
   "outputs": [
    {
     "name": "stdout",
     "output_type": "stream",
     "text": [
      "45\n",
      "2025\n"
     ]
    }
   ],
   "source": [
    "number = 45 # defined outside a function\n",
    "\n",
    "# can be accessed here\n",
    "print(number)\n",
    "\n",
    "def getSquare():\n",
    "    # can also be accessed here\n",
    "    print(number ** 2)\n",
    "\n",
    "getSquare()"
   ]
  },
  {
   "cell_type": "code",
   "execution_count": null,
   "id": "f656769a",
   "metadata": {},
   "outputs": [
    {
     "name": "stdout",
     "output_type": "stream",
     "text": [
      "summ is not defined\n"
     ]
    }
   ],
   "source": [
    "#Local Scope\n",
    "\n",
    "def add():\n",
    "    number1 = 5\n",
    "    number2 = 7\n",
    "    summ = number1 + number2\n",
    "    return summ\n",
    "\n",
    "# print(add())\n",
    "try: \n",
    "    print(summ)\n",
    "except:\n",
    "    print(\"summ is not defined\")"
   ]
  },
  {
   "cell_type": "code",
   "execution_count": null,
   "id": "14f8f4fb",
   "metadata": {},
   "outputs": [
    {
     "name": "stdout",
     "output_type": "stream",
     "text": [
      "12\n"
     ]
    }
   ],
   "source": [
    "# Global Keyword\n",
    "\n",
    "def add():\n",
    "    global summ\n",
    "    number1 = 5\n",
    "    number2 = 7\n",
    "    summ = number1 + number2\n",
    "    return summ\n",
    "\n",
    "add()\n",
    "\n",
    "print(summ)"
   ]
  },
  {
   "cell_type": "code",
   "execution_count": null,
   "id": "7e2ed7ce",
   "metadata": {},
   "outputs": [],
   "source": []
  }
 ],
 "metadata": {
  "kernelspec": {
   "display_name": "python3",
   "language": "python",
   "name": "python3"
  }
 },
 "nbformat": 4,
 "nbformat_minor": 5
}
