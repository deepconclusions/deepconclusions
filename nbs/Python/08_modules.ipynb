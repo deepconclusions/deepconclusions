{
 "cells": [
  {
   "cell_type": "markdown",
   "id": "8684cbb9-4099-4d62-8226-83f29b81d321",
   "metadata": {},
   "source": [
    "## Modules\n",
    "A module in Python is a python file that can contain variables, functions and classes\n",
    "\n",
    "### Why use Modules?\n",
    "Modules allow us to split our code into multiple files\n",
    "\n",
    "Instead of writing all our codes inside a sigle Python file, we can use modules\n",
    "\n",
    ">Tip! That way, our code will be easier to read, understand and maintain\n",
    "\n",
    "### Creating a Module\n",
    "There is nothing so special with creating a module, simply write you Python code and save it with the `.py` extension.\n",
    "\n",
    "In this example, we have a module saved as my_module.py and it contains the following code\n"
   ]
  },
  {
   "cell_type": "code",
   "execution_count": null,
   "id": "6e34e3f4",
   "metadata": {},
   "outputs": [],
   "source": [
    "# this is my_module.py\n",
    "\n",
    "first_name = 'Viola'\n",
    "last_name = 'Akullu'\n",
    "\n",
    "def add(number1, number2):\n",
    "    return number1 + number2\n",
    "\n",
    "def multiply(number1, number2):\n",
    "    return number1 * number2"
   ]
  },
  {
   "cell_type": "markdown",
   "id": "37dcad55",
   "metadata": {},
   "source": [
    "After that, to use `my_module.py`, we need to import it.\n",
    "\n",
    "To import, use the `import` statement and the module name.\n",
    "\n",
    "Then we can use the variables and functions in the module.\n",
    "\n",
    "In this example, the code below is saved as `main_code.py` and it imports the `module.py`."
   ]
  },
  {
   "cell_type": "code",
   "execution_count": null,
   "id": "351578f5",
   "metadata": {},
   "outputs": [
    {
     "name": "stdout",
     "output_type": "stream",
     "text": [
      "Full name: ViolaAkullu\n",
      "Summation: 10\n"
     ]
    }
   ],
   "source": [
    "# this is main_code.py\n",
    "\n",
    "import my_module\n",
    "\n",
    "full_name = my_module.first_name + my_module.last_name\n",
    "print('Full name:', full_name)\n",
    "\n",
    "summation = my_module.add(3, 7)\n",
    "print('Summation:', summation)"
   ]
  },
  {
   "cell_type": "markdown",
   "id": "5097c602",
   "metadata": {},
   "source": [
    "### Using Aliases\n",
    "We can use an alias to refer to the module\n",
    "\n",
    "To use an alias, use the `as` keyword"
   ]
  },
  {
   "cell_type": "code",
   "execution_count": null,
   "id": "9340eb8d",
   "metadata": {},
   "outputs": [
    {
     "name": "stdout",
     "output_type": "stream",
     "text": [
      "Full name: ViolaAkullu\n",
      "Summation: 10\n"
     ]
    }
   ],
   "source": [
    "# this is main_code.py\n",
    "\n",
    "import my_module as mm\n",
    "\n",
    "full_name = mm.first_name + mm.last_name\n",
    "print('Full name:', full_name)\n",
    "\n",
    "summation = mm.add(3, 7)\n",
    "print('Summation:', summation)"
   ]
  },
  {
   "cell_type": "markdown",
   "id": "56b1e0d8",
   "metadata": {},
   "source": [
    "### Importing Parts of a Module\n",
    "We can choose to import only some specific parts of a module\n",
    "\n",
    ">Note! When we import a part of a module, we will be able to use its variables and functions directly\n",
    "\n",
    "Use the `from` keyword to import a part of a module.\n",
    "\n",
    "In this example, we will import the `first_name` variable and access it directly"
   ]
  },
  {
   "cell_type": "code",
   "execution_count": null,
   "id": "ea15bdac",
   "metadata": {},
   "outputs": [
    {
     "name": "stdout",
     "output_type": "stream",
     "text": [
      "Viola\n"
     ]
    }
   ],
   "source": [
    "from my_module import first_name\n",
    "\n",
    "# now we can use it directly as \n",
    "print(first_name)"
   ]
  },
  {
   "cell_type": "markdown",
   "id": "b9dc581e",
   "metadata": {},
   "source": [
    "### The dir() Function\n",
    "\n",
    "The `dir()` function returns a list of all the variables, functions and classes available in a module"
   ]
  },
  {
   "cell_type": "code",
   "execution_count": null,
   "id": "d9edd2fe",
   "metadata": {},
   "outputs": [
    {
     "name": "stdout",
     "output_type": "stream",
     "text": [
      "['__builtins__', '__cached__', '__doc__', '__file__', '__loader__', '__name__', '__package__', '__spec__', 'add', 'first_name', 'last_name', 'multiply']\n"
     ]
    }
   ],
   "source": [
    "import my_module\n",
    "\n",
    "dir_ = dir(my_module)\n",
    "\n",
    "print(dir_)"
   ]
  },
  {
   "cell_type": "markdown",
   "id": "b2978bf3",
   "metadata": {},
   "source": [
    "### Built in Modules\n",
    "Python has many useful built-in modules that we can use to make coding easier.\n",
    "\n",
    "Built-in modules can be imported without having to create them\n",
    "\n",
    "In this example, we will import the `sysconfig` module and use its `get_python_version()` to return the Python version we're using"
   ]
  },
  {
   "cell_type": "code",
   "execution_count": null,
   "id": "69a71a1e",
   "metadata": {},
   "outputs": [
    {
     "name": "stdout",
     "output_type": "stream",
     "text": [
      "3.10\n"
     ]
    }
   ],
   "source": [
    "import sysconfig\n",
    "\n",
    "python_version = sysconfig.get_python_version()\n",
    "print(python_version)"
   ]
  },
  {
   "cell_type": "markdown",
   "id": "0d82c718",
   "metadata": {},
   "source": [
    "## Math Module\n",
    "\n",
    "The math module gives us access to mathematical functions\n",
    "\n",
    "To use the math module, import it first, then we can start using it."
   ]
  },
  {
   "cell_type": "markdown",
   "id": "c80af8a4",
   "metadata": {},
   "source": [
    "We can use the math module to find the square root of a number using the `math.sqrt()` method"
   ]
  },
  {
   "cell_type": "code",
   "execution_count": null,
   "id": "42ed1561",
   "metadata": {},
   "outputs": [
    {
     "name": "stdout",
     "output_type": "stream",
     "text": [
      "Number: 16\n",
      "Square root of number: 4.0\n"
     ]
    }
   ],
   "source": [
    "import math\n",
    "\n",
    "number = 16\n",
    "number_sqrt = math.sqrt(number)\n",
    "\n",
    "print('Number:', number)\n",
    "print('Square root of number:', number_sqrt)"
   ]
  },
  {
   "cell_type": "markdown",
   "id": "84b322b1",
   "metadata": {},
   "source": [
    "We can use the math module to get the factorial of a number by using the `math.factorial()` method"
   ]
  },
  {
   "cell_type": "code",
   "execution_count": null,
   "id": "630c1568",
   "metadata": {},
   "outputs": [
    {
     "name": "stdout",
     "output_type": "stream",
     "text": [
      "Number: 5\n",
      "Factorial: 120\n"
     ]
    }
   ],
   "source": [
    "import math\n",
    "\n",
    "number = 5\n",
    "number_factorial = math.factorial(number)\n",
    "\n",
    "print('Number:', number)\n",
    "print('Factorial:', number_factorial)"
   ]
  },
  {
   "cell_type": "markdown",
   "id": "0cf41669",
   "metadata": {},
   "source": [
    "The math module also contains some constants like `pi` and `e`"
   ]
  },
  {
   "cell_type": "code",
   "execution_count": null,
   "id": "0cabd0be",
   "metadata": {},
   "outputs": [
    {
     "name": "stdout",
     "output_type": "stream",
     "text": [
      "e: 2.718281828459045\n",
      "pi: 3.141592653589793\n"
     ]
    }
   ],
   "source": [
    "import math\n",
    "\n",
    "print('e:', math.e)\n",
    "print('pi:', math.pi)"
   ]
  },
  {
   "cell_type": "markdown",
   "id": "dbbce043",
   "metadata": {},
   "source": [
    "The math module can do those and so much more"
   ]
  },
  {
   "cell_type": "markdown",
   "id": "fdc58449",
   "metadata": {},
   "source": [
    "## Random Module\n",
    "The `random` module lets us generate a random number\n",
    "\n",
    "As usual, to use the `random` module, import it first."
   ]
  },
  {
   "cell_type": "markdown",
   "id": "21f4febe",
   "metadata": {},
   "source": [
    "We can generate a random number that falls within a specified range by using the `random.randint()` method"
   ]
  },
  {
   "cell_type": "code",
   "execution_count": null,
   "id": "c07320a8",
   "metadata": {},
   "outputs": [
    {
     "name": "stdout",
     "output_type": "stream",
     "text": [
      "Random Integer: 4\n"
     ]
    }
   ],
   "source": [
    "import random\n",
    "\n",
    "random_integer = random.randint(1,100)\n",
    "print('Random Integer:', random_integer)"
   ]
  },
  {
   "cell_type": "markdown",
   "id": "435ed77b",
   "metadata": {},
   "source": [
    "We can generate numbers from a gaussian distribution with mean (`mu`) as 0 and standard deviation (`sigma`) as 1"
   ]
  },
  {
   "cell_type": "code",
   "execution_count": null,
   "id": "cc126dfc",
   "metadata": {},
   "outputs": [
    {
     "name": "stdout",
     "output_type": "stream",
     "text": [
      "[0.8310128735410047, 2.402375340413018, -1.2769617295659348, 0.7569506717477539, 1.6026026122392498, 1.4142936594217554, -0.3169917649104485, -0.07305941097531603, -0.7885301448554015, -0.0674611332298377, 0.28288857512573684, 0.08844216926370602, -1.249987094506388, 0.870793290313952, -0.6607737394803138, 0.3780605189691181, 0.20288623881856632, 0.8439702923769746, 1.6500270929422152, -0.5579247768953991, -0.3076290349937902, 0.8927675985413197, -2.3716599434459114, 0.23253728473684382, 0.01698634011714592, -1.506684284668113, -1.516156046117149, -0.7549199652372819, 0.4855840249497611, -1.9426218553454226, -0.5672748318805165, 1.7849639815888045, -0.4223703532919884, -1.4182523392919628, 0.3817982448773813, -1.2151583559744263, 0.21736913499460964, 0.0743448686041854, -0.6217874541247053, -0.05369712902089164, 0.06560332100098984, 0.5791279113149166, 1.5329264216964942, -1.5523813284095307, 0.256018716284597, 1.498941708596562, 0.6484203278916434, 0.956658998431066, -0.7469607705965761, 0.9093585267915438, -0.3301676177291813, -2.1020486475752564, -0.6324768823835674, -0.2621489739923403, 0.36805271395009337, -0.1987104858441708, -0.20226660046300027, -1.0227302328088852, 0.9440428943259802, 1.3499647213634605, 0.28655811659281705, -0.48212404896946465, 1.5732404576352244, 1.7024230857294205, -0.32802550098029193, 2.0808443667109597, 2.2783854541239874, -0.265626754707208, -0.04641950638081212, 0.7941371582079103, -0.36860553191079254, -0.9098450679735101, 1.234946260813307, -2.835066105841072, 1.3883254119625694, 1.2853299658795028, 1.178005875662903, 0.3186472037221876, -1.0006920744966419, -2.3745959188263885, 1.8440465299894964, -0.35610549619690796, 0.5857012223823791, 0.7400382246661824, 0.07225122970263118, -0.5508995490344698, -0.038356750477046286, -0.040997463659922434, 0.6802546773316889, -1.3861271290488735, 0.7275261286416534, 0.3729374034245036, -0.013616473457934613, -0.7620103036607296, 0.15556952852877587, -1.7898533901375224, -1.137248630020012, -1.71518120153122, -0.5817297506694047, -0.4035542913039588]\n"
     ]
    }
   ],
   "source": [
    "numbers = []\n",
    "\n",
    "counter = 0\n",
    "while counter < 100:\n",
    "    numbers.append(random.gauss(mu=0, sigma=1))\n",
    "    counter += 1\n",
    "    \n",
    "print(numbers)"
   ]
  },
  {
   "cell_type": "markdown",
   "id": "82dbbd69",
   "metadata": {},
   "source": [
    "## Date and Time\n",
    "The `datetime` module allows us to work with dates\n",
    "\n",
    "As usual we have to import the `datetime` module to be able to use it."
   ]
  },
  {
   "cell_type": "markdown",
   "id": "996168c9",
   "metadata": {},
   "source": [
    "### Current Date and Time\n",
    "The `datetime.datetime.now()` method returns the current date and time"
   ]
  },
  {
   "cell_type": "code",
   "execution_count": null,
   "id": "b61b2e1e",
   "metadata": {},
   "outputs": [
    {
     "name": "stdout",
     "output_type": "stream",
     "text": [
      "2024-05-01 08:18:09.070054\n"
     ]
    }
   ],
   "source": [
    "import datetime\n",
    "\n",
    "time_now = datetime.datetime.now()\n",
    "print(time_now)"
   ]
  },
  {
   "cell_type": "markdown",
   "id": "b22904e4",
   "metadata": {},
   "source": [
    "### The `date` Object\n",
    "The `date` object represents a date (year, month and day)\n",
    "\n",
    "To create a `date` object, import it from the `datetime` module first."
   ]
  },
  {
   "cell_type": "code",
   "execution_count": null,
   "id": "787d51c7",
   "metadata": {},
   "outputs": [
    {
     "name": "stdout",
     "output_type": "stream",
     "text": [
      "Current date: 2024-05-01\n"
     ]
    }
   ],
   "source": [
    "from datetime import date\n",
    "\n",
    "today = date.today()\n",
    "print('Current date:', today)"
   ]
  },
  {
   "cell_type": "markdown",
   "id": "36e2b707",
   "metadata": {},
   "source": [
    "## JSON\n",
    "JSON stands for JavaScript Object Notation.\n",
    "\n",
    "JSON contains data that are sent or received to and from a server\n",
    "\n",
    "JSON is simply a string, if follows a format similar to a Python [dictionary](06_flow_control.ipynb)\n",
    "\n",
    "**Example:**"
   ]
  },
  {
   "cell_type": "code",
   "execution_count": null,
   "id": "c03cc8c9",
   "metadata": {},
   "outputs": [
    {
     "name": "stdout",
     "output_type": "stream",
     "text": [
      "{'first_name': 'Juma','last_name': 'Shafara', 'age': 39}\n"
     ]
    }
   ],
   "source": [
    "data = \"{'first_name': 'Juma','last_name': 'Shafara', 'age': 39}\"\n",
    "\n",
    "print(data)"
   ]
  },
  {
   "cell_type": "markdown",
   "id": "7c220a12",
   "metadata": {},
   "source": [
    "### JSON to Dictionary\n",
    "Before we can individually access the data of a JSON, we need to convert it to a Python dictionary first.\n",
    "\n",
    "To do that, we need to import the `json` module"
   ]
  },
  {
   "cell_type": "code",
   "execution_count": null,
   "id": "c8814073",
   "metadata": {},
   "outputs": [
    {
     "name": "stdout",
     "output_type": "stream",
     "text": [
      "Fist name: Juma\n",
      "Last name: Shafara\n",
      "Age: 39\n"
     ]
    }
   ],
   "source": [
    "import json \n",
    "\n",
    "data = '{\"first_name\": \"Juma\",\"last_name\": \"Shafara\", \"age\": 39}'\n",
    "\n",
    "# convert to dictionary\n",
    "data_dict = json.loads(data)\n",
    "\n",
    "print('Fist name:',data_dict['first_name'])\n",
    "print('Last name:', data_dict['last_name'])\n",
    "print('Age:', data_dict['age'])"
   ]
  },
  {
   "cell_type": "markdown",
   "id": "5cc21daf",
   "metadata": {},
   "source": [
    "### Dictionary to JSON\n",
    "To convert a dictionay to JSON, use the `json.dumps()` method."
   ]
  },
  {
   "cell_type": "code",
   "execution_count": null,
   "id": "480b1065",
   "metadata": {},
   "outputs": [],
   "source": [
    "import json\n",
    "\n",
    "data_dict = {\n",
    "    \"first_name\": \"Juma\",\n",
    "    \"last_name\": \"Shafara\", \n",
    "    \"age\": 39\n",
    "    }\n",
    "\n",
    "data_json = json.dumps(data_dict)\n",
    "\n"
   ]
  }
 ],
 "metadata": {
  "kernelspec": {
   "display_name": "python3",
   "language": "python",
   "name": "python3"
  }
 },
 "nbformat": 4,
 "nbformat_minor": 5
}
