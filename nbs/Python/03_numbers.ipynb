{
 "cells": [
  {
   "cell_type": "markdown",
   "id": "8e9a2319-c924-4197-a421-50a0fce4b66d",
   "metadata": {},
   "source": [
    "## Numbers\n",
    "\n",
    "In python, there are three types of numbers\n",
    "\n",
    "- Integer - `int`\n",
    "- Floating Point - `float`\n",
    "- Complex - `complex`"
   ]
  },
  {
   "cell_type": "markdown",
   "id": "2418dd34-eb7c-4058-9628-d4434998265f",
   "metadata": {},
   "source": [
    "## Types"
   ]
  },
  {
   "cell_type": "markdown",
   "id": "ae19bd92-4e86-492e-961a-6121aba11f20",
   "metadata": {},
   "source": [
    "### Integer\n",
    "\n",
    "An integer is a number without decimals"
   ]
  },
  {
   "cell_type": "code",
   "execution_count": null,
   "id": "8362de4a-2c74-49fe-8e58-8bc782e5f9d5",
   "metadata": {},
   "outputs": [
    {
     "name": "stdout",
     "output_type": "stream",
     "text": [
      "a: 3\n",
      "b: 4\n",
      "number: 5\n"
     ]
    }
   ],
   "source": [
    "# Python Numbers: intgers\n",
    "\n",
    "a = 3\n",
    "b = 4\n",
    "number = 5\n",
    "\n",
    "print('a:', a)\n",
    "print('b:', b)\n",
    "print('number:', number)"
   ]
  },
  {
   "cell_type": "markdown",
   "id": "e3912b32-8bc5-426c-9318-6829ff5e297b",
   "metadata": {},
   "source": [
    "### Floating Point\n",
    "\n",
    "A floating point number of just a float is a number with decimals"
   ]
  },
  {
   "cell_type": "code",
   "execution_count": null,
   "id": "4705c657-23a5-45a9-adf1-16046323f78e",
   "metadata": {},
   "outputs": [
    {
     "name": "stdout",
     "output_type": "stream",
     "text": [
      "a: 3.0\n",
      "b: 4.21\n",
      "number: 5.33\n"
     ]
    }
   ],
   "source": [
    "# Python Numbers: floating point\n",
    "a = 3.0\n",
    "b = 4.21\n",
    "number = 5.33\n",
    "\n",
    "print('a:', a)\n",
    "print('b:', b)\n",
    "print('number:', number)"
   ]
  },
  {
   "cell_type": "markdown",
   "id": "eb87a363-1c2f-42fb-8ff0-8a114a9b5293",
   "metadata": {},
   "source": [
    "### Complex\n",
    "\n",
    "A comple number is an imaginary number. To yield a complex number, append a `j` o `J` to a numeric value"
   ]
  },
  {
   "cell_type": "code",
   "execution_count": null,
   "id": "046ed7fb-7660-41e6-ab9e-155fab527fa1",
   "metadata": {},
   "outputs": [
    {
     "name": "stdout",
     "output_type": "stream",
     "text": [
      "a: 3j\n",
      "b: 5.21j\n",
      "number: (4+5.33j)\n"
     ]
    }
   ],
   "source": [
    "# Python Numbers: complex\n",
    "\n",
    "a = 3j\n",
    "b = 5.21j\n",
    "number = 4 + 5.33j\n",
    "\n",
    "print('a:', a)\n",
    "print('b:', b)\n",
    "print('number:', number)"
   ]
  },
  {
   "cell_type": "markdown",
   "id": "7f22f6c9-2030-45d3-ab71-81377f482b5f",
   "metadata": {},
   "source": [
    "## Number Arthmetics"
   ]
  },
  {
   "cell_type": "code",
   "execution_count": null,
   "id": "5a6bead5-7159-440f-a1d0-aa58f5dc4fde",
   "metadata": {},
   "outputs": [
    {
     "name": "stdout",
     "output_type": "stream",
     "text": [
      "sum: 6\n",
      "difference: 2\n",
      "product: 8\n",
      "quotient: 2.0\n"
     ]
    }
   ],
   "source": [
    "# By Juma Shafara\n",
    "\n",
    "# Python Numbers: arthmetics\n",
    "\n",
    "summation = 4 + 2\n",
    "print('sum:', summation)\n",
    "\n",
    "difference = 4 - 2\n",
    "print('difference:', difference)\n",
    "\n",
    "product = 4 * 2\n",
    "print('product:', product)\n",
    "\n",
    "quotient = 4 / 2\n",
    "print('quotient:', quotient)"
   ]
  },
  {
   "cell_type": "markdown",
   "id": "5eeb5245-fdac-44e0-a997-6168adc011e2",
   "metadata": {},
   "source": [
    "## Number Methods\n",
    "\n",
    "Number methods are special functions used to work with numbers"
   ]
  },
  {
   "cell_type": "code",
   "execution_count": null,
   "id": "cb692066-5f73-4100-9a35-5f3b842e6bb3",
   "metadata": {},
   "outputs": [
    {
     "name": "stdout",
     "output_type": "stream",
     "text": [
      "55\n"
     ]
    }
   ],
   "source": [
    "# sum() can add many numbers at once\n",
    "summation = sum([1,2,3,4,5,6,7,8,9,10])\n",
    "print(summation)"
   ]
  },
  {
   "cell_type": "code",
   "execution_count": null,
   "id": "61a7cddb-c73f-4ed2-abc6-a9846b545399",
   "metadata": {},
   "outputs": [
    {
     "name": "stdout",
     "output_type": "stream",
     "text": [
      "pi: 3.14159265358979\n",
      "rounded_pi: 3.142\n"
     ]
    }
   ],
   "source": [
    "# round() rounds a number to a specified number of decimal places\n",
    "pi = 3.14159265358979\n",
    "rounded_pi = round(pi, 3)\n",
    "\n",
    "print('pi:', pi)\n",
    "print('rounded_pi:', rounded_pi)"
   ]
  },
  {
   "cell_type": "code",
   "execution_count": null,
   "id": "75ebc6ff-68a5-467a-9d29-b5e631495c3b",
   "metadata": {},
   "outputs": [
    {
     "name": "stdout",
     "output_type": "stream",
     "text": [
      "absolute value of -5 is 5\n"
     ]
    }
   ],
   "source": [
    "# abs() returns the absolute value of a number\n",
    "number = -5\n",
    "absolute_value = abs(number)\n",
    "print('absolute value of', number, 'is', absolute_value)"
   ]
  },
  {
   "cell_type": "code",
   "execution_count": null,
   "id": "e5ca82db-8e0d-44dd-93cd-9990548e88f6",
   "metadata": {},
   "outputs": [
    {
     "name": "stdout",
     "output_type": "stream",
     "text": [
      "16\n"
     ]
    }
   ],
   "source": [
    "# pow() returns the value of x to the power of y)\n",
    "four_power_two = pow(4, 2)\n",
    "print(four_power_two)"
   ]
  },
  {
   "cell_type": "code",
   "execution_count": null,
   "id": "b3570e42-232f-4cc2-8d61-56a1ded394af",
   "metadata": {},
   "outputs": [
    {
     "name": "stdout",
     "output_type": "stream",
     "text": [
      "Quotient: 3\n",
      "Remainder: 1\n"
     ]
    }
   ],
   "source": [
    "# divmod() returns the quotient and remainder of a division\n",
    "# division = divmod(10, 3)\n",
    "quotient, remainder = divmod(10, 3)\n",
    "print('Quotient:', quotient)\n",
    "print('Remainder:', remainder)"
   ]
  }
 ],
 "metadata": {
  "kernelspec": {
   "display_name": "python3",
   "language": "python",
   "name": "python3"
  }
 },
 "nbformat": 4,
 "nbformat_minor": 5
}
