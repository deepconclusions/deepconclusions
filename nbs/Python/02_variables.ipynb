{
 "cells": [
  {
   "cell_type": "markdown",
   "id": "074210a2-1c7e-4f67-8683-46457b1f72da",
   "metadata": {},
   "source": [
    "## Variables"
   ]
  },
  {
   "cell_type": "markdown",
   "id": "7908d65c-93e2-4104-a594-eadfe0f3ca54",
   "metadata": {},
   "source": [
    "- Varibles are used to store values.\n",
    "- To create a variable, use the equal sign `(=)`.\n",
    "\n",
    "In the examples below, we create varibales name `fruit` and `name` and we assign them values `'mango'` and `'viola'` respectively"
   ]
  },
  {
   "cell_type": "code",
   "execution_count": null,
   "id": "5d280e08-50fc-45bd-81cb-6f2c6f873a26",
   "metadata": {},
   "outputs": [
    {
     "name": "stdout",
     "output_type": "stream",
     "text": [
      "voila  likes  mango\n"
     ]
    }
   ],
   "source": [
    "fruit = 'mango'\n",
    "name = 'voila'\n",
    "\n",
    "# printing out\n",
    "print(name, ' likes ', fruit )"
   ]
  },
  {
   "cell_type": "markdown",
   "id": "9e948cfb-f5e8-4a18-801d-22415fa17fc6",
   "metadata": {},
   "source": [
    "### Rules to consider \n",
    "- Spaces are not allowed eg \n",
    "- Can not start with number eg\n",
    "- Can not have special characters eg\n",
    "- Are case sensitive"
   ]
  },
  {
   "cell_type": "markdown",
   "id": "72948bcc-bf9e-4d90-bbca-9ef2b5071477",
   "metadata": {},
   "source": [
    "Examples of good variable names"
   ]
  },
  {
   "cell_type": "code",
   "execution_count": null,
   "id": "747819af-f133-40bb-9f04-cbb0ecd3d690",
   "metadata": {},
   "outputs": [],
   "source": [
    "my_favorite_character = 'Stewie Griffin' # snake case\n",
    "myFavoriteCharacter = 'Meg Griffin' # camel case\n",
    "MyFavoriteCharacter = 'Brian Griffin' # Pascal case"
   ]
  },
  {
   "cell_type": "markdown",
   "id": "bcbac3ef-ff7f-4115-ae0a-409a0d9f1fe8",
   "metadata": {},
   "source": [
    "## Data Types\n",
    "In this section of the tutorial, you will learn the most basic data types in Python"
   ]
  },
  {
   "cell_type": "markdown",
   "id": "872f46d9-84ef-42b5-818e-ea46fefc57f4",
   "metadata": {},
   "source": [
    "### Numbers\n",
    "\n",
    "These are two basic types of numbers and they are called:\n",
    "- integer(numbers without decimal places)\n",
    "- floating point numbers(numbers with decimal places)"
   ]
  },
  {
   "cell_type": "code",
   "execution_count": null,
   "id": "304b2f4f-92fa-4e8c-9896-80d5f234524a",
   "metadata": {},
   "outputs": [],
   "source": [
    "# python numbers\n",
    "# Integers\n",
    "age = 45\n",
    "population = 45000000"
   ]
  },
  {
   "cell_type": "code",
   "execution_count": null,
   "id": "207fc3b8-d659-40ca-a231-f71436db3787",
   "metadata": {},
   "outputs": [],
   "source": [
    "# Floating point numbers\n",
    "height = 1.7\n",
    "weight = 147.45"
   ]
  },
  {
   "cell_type": "markdown",
   "id": "c63909ae-8c1c-4d78-9fb7-96a18fddcb92",
   "metadata": {},
   "source": [
    "## Strings\n",
    "\n",
    "Strings are simply text. A string must be surrounded by single or double quotes"
   ]
  },
  {
   "cell_type": "code",
   "execution_count": null,
   "id": "d1c47243-566a-4752-9829-a5de97f1b529",
   "metadata": {},
   "outputs": [],
   "source": [
    "# Strings\n",
    "name = 'Juma'\n",
    "other_name = \"Masaba Calvin\"\n",
    "statement = 'I love coding'"
   ]
  },
  {
   "cell_type": "markdown",
   "id": "81f63c0d-d8b1-407e-b736-c859bf32377b",
   "metadata": {},
   "source": [
    "### Single or double quotes?\n",
    "\n",
    "Use single quotes when your string contains double quotes, or the vice versa."
   ]
  },
  {
   "cell_type": "code",
   "execution_count": null,
   "id": "ed500ff8-53c1-4880-bc51-33cff2c3214b",
   "metadata": {},
   "outputs": [],
   "source": [
    "# when to use which quotes\n",
    "report = 'He said, \"I will not go home\"'"
   ]
  },
  {
   "cell_type": "markdown",
   "id": "807d5c3f-da31-4353-b289-1586a47f078d",
   "metadata": {},
   "source": [
    "### String Methods"
   ]
  },
  {
   "cell_type": "code",
   "execution_count": null,
   "id": "836b002f-14e2-4f3b-ad97-942fcfb7b5ba",
   "metadata": {},
   "outputs": [],
   "source": [
    "text = 'shafara VEe'\n",
    "capitalized_text = text.capitalize()\n",
    "print('Capitalized:', capitalized_text)\n",
    "\n",
    "upper_text = text.upper()\n",
    "print('Upper text', upper_text)\n",
    "\n",
    "lower_text = text.lower()\n",
    "print('Lower case text:', lower_text)\n",
    "\n",
    "corrected_text = text.replace('VEe', 'Viola')\n",
    "print(corrected_text)\n",
    "\n",
    "print('shafara' not in text)"
   ]
  },
  {
   "cell_type": "markdown",
   "id": "f11a9ff6-4b8c-493e-b264-ceaf216f8110",
   "metadata": {},
   "source": [
    "### Booleans\n",
    "Boolean data type can onlyhave on fo these values: `True` or `False`"
   ]
  },
  {
   "cell_type": "code",
   "execution_count": null,
   "id": "efaaaae5-47be-46f9-9870-a424bcd40bf9",
   "metadata": {},
   "outputs": [
    {
     "name": "stdout",
     "output_type": "stream",
     "text": [
      "True\n"
     ]
    }
   ],
   "source": [
    "# Boolean\n",
    "married = True\n",
    "print(married)"
   ]
  },
  {
   "cell_type": "markdown",
   "id": "05dd39c1-86cf-4ae1-b4d8-3afeb34c0063",
   "metadata": {},
   "source": [
    "### Lists\n",
    "- A list is an ordered collection of data\n",
    "- It can contain strings, numbers or even other lists\n",
    "- Lists are written with square brackets (`[]`)\n",
    "- The values in lists (also called elements) are separated by commas (`,`)"
   ]
  },
  {
   "cell_type": "code",
   "execution_count": null,
   "id": "d5b765e4-bfe6-42c9-a8f1-287646d2becb",
   "metadata": {},
   "outputs": [
    {
     "name": "stdout",
     "output_type": "stream",
     "text": [
      "['juma', 'john', 'calvin']\n",
      "['mango', True, 38]\n"
     ]
    }
   ],
   "source": [
    "# Lists\n",
    "names = ['juma', 'john', 'calvin']\n",
    "other_stuff = ['mango', True, 38]\n",
    "\n",
    "print(names)\n",
    "print(other_stuff)"
   ]
  },
  {
   "cell_type": "markdown",
   "id": "519703d7-5b18-4691-87d5-b98abcb82b99",
   "metadata": {},
   "source": [
    "### Checking data types\n",
    "\n",
    "To check the data type of an object in python, use `type(object)`, for example, below we get the data type of the object stored in names"
   ]
  },
  {
   "cell_type": "code",
   "execution_count": null,
   "id": "507d2c21-e25b-4406-8fe1-fa963d66200e",
   "metadata": {},
   "outputs": [
    {
     "data": {
      "text/plain": [
       "list"
      ]
     },
     "execution_count": null,
     "metadata": {},
     "output_type": "execute_result"
    }
   ],
   "source": [
    "# Which data type\n",
    "type(names)"
   ]
  },
  {
   "cell_type": "markdown",
   "id": "91c59e8a-734c-483b-a6f2-0afef4898042",
   "metadata": {},
   "source": [
    "## Converting Types"
   ]
  },
  {
   "cell_type": "code",
   "execution_count": null,
   "id": "3f16f9c4-4575-4247-9402-80aa01dbe36c",
   "metadata": {},
   "outputs": [
    {
     "name": "stdout",
     "output_type": "stream",
     "text": [
      "3\n"
     ]
    }
   ],
   "source": [
    "# convert an integer to a string\n",
    "age = 45\n",
    "message = 'Peter Griffin is '+ str(age) + ' years old'\n",
    "\n",
    "# Convert floating point to integer\n",
    "pi = 3.14159\n",
    "print(int(pi))"
   ]
  }
 ],
 "metadata": {
  "kernelspec": {
   "display_name": "python3",
   "language": "python",
   "name": "python3"
  }
 },
 "nbformat": 4,
 "nbformat_minor": 5
}
