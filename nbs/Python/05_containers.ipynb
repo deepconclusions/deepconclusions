{
 "cells": [
  {
   "cell_type": "markdown",
   "id": "9635e6f5-96fc-456d-b65e-cf58e339047a",
   "metadata": {},
   "source": [
    "## Containers \n",
    "Containers are objects that contain other objects\n",
    "\n",
    "### What is an object?\n",
    "In python, everything is an object. Even the simplest strings and numbers are considered as objects"
   ]
  },
  {
   "cell_type": "markdown",
   "id": "2a690f49-91a1-497f-bfdb-85295dffe2fb",
   "metadata": {},
   "source": [
    "## Lists\n",
    "- A python list is an ordered container\n",
    "- A list is created by using square brackets (`[]`)\n",
    "- Objects are poaced inside those brackets and are separated by commas (`,`)"
   ]
  },
  {
   "cell_type": "code",
   "execution_count": null,
   "id": "ac379690-2379-4469-ae9e-283915eb8a8a",
   "metadata": {},
   "outputs": [
    {
     "name": "stdout",
     "output_type": "stream",
     "text": [
      "['dog', 'cat', 'rabbit', 'monkey']\n",
      "<class 'list'>\n"
     ]
    }
   ],
   "source": [
    "pets = ['dog', 'cat', 'rabbit', 'monkey']\n",
    "print(pets)\n",
    "print(type(pets))"
   ]
  },
  {
   "cell_type": "markdown",
   "id": "d97a7221-986d-412e-8c63-0781da21f4b2",
   "metadata": {},
   "source": [
    "#### Indexing\n",
    "- Indexing is used to access items of a list\n",
    "- Indexing uses square brackets and numbers to access individual items of a list\n",
    "- Where `0` refers to the first item, 1 refers to the second item, and so on"
   ]
  },
  {
   "cell_type": "code",
   "execution_count": null,
   "id": "66aed556-49ef-4ba7-8491-dbab2f5a5528",
   "metadata": {},
   "outputs": [
    {
     "name": "stdout",
     "output_type": "stream",
     "text": [
      "rabbit\n"
     ]
    }
   ],
   "source": [
    "# indexing\n",
    "print(pets[2])"
   ]
  },
  {
   "cell_type": "code",
   "execution_count": null,
   "id": "d8b66e7a-a029-45ce-8633-228a834abc68",
   "metadata": {},
   "outputs": [
    {
     "name": "stdout",
     "output_type": "stream",
     "text": [
      "['cat', 'rabbit']\n"
     ]
    }
   ],
   "source": [
    "#range of indexes\n",
    "print(pets[1:3])"
   ]
  },
  {
   "cell_type": "markdown",
   "id": "6d939095-31a2-4b18-91c2-deda15062632",
   "metadata": {},
   "source": [
    "#### Adding items to a list"
   ]
  },
  {
   "cell_type": "code",
   "execution_count": null,
   "id": "4c379c63-4f86-4b43-b0f5-20461c7795e6",
   "metadata": {},
   "outputs": [
    {
     "name": "stdout",
     "output_type": "stream",
     "text": [
      "['dog', 'cat', 'rabbit', 'monkey', 'hamster']\n"
     ]
    }
   ],
   "source": [
    "pets = ['dog', 'cat', 'rabbit', 'monkey']\n",
    "pets.append('hamster')\n",
    "print(pets)"
   ]
  },
  {
   "cell_type": "code",
   "execution_count": null,
   "id": "03527564-ea8c-40ab-b9b5-474656938bb4",
   "metadata": {},
   "outputs": [
    {
     "name": "stdout",
     "output_type": "stream",
     "text": [
      "['dog', 'hamster', 'cat', 'rabbit', 'monkey']\n"
     ]
    }
   ],
   "source": [
    "pets = ['dog', 'cat', 'rabbit', 'monkey']\n",
    "pets.insert(1, 'hamster')\n",
    "print(pets)"
   ]
  },
  {
   "cell_type": "markdown",
   "id": "8f4cb4a1-d95a-4728-9118-f140fc88d194",
   "metadata": {},
   "source": [
    "#### Deleting Items from a list"
   ]
  },
  {
   "cell_type": "code",
   "execution_count": null,
   "id": "d17c100a-d869-4875-af94-2b7ffcddc35b",
   "metadata": {},
   "outputs": [
    {
     "name": "stdout",
     "output_type": "stream",
     "text": [
      "['dog', 'cat', 'rabbit']\n"
     ]
    }
   ],
   "source": [
    "pets = ['dog', 'cat', 'rabbit', 'monkey']\n",
    "pets.pop()\n",
    "print(pets)"
   ]
  },
  {
   "cell_type": "code",
   "execution_count": null,
   "id": "8763af3c-14a1-4720-b77d-475fa845b6ef",
   "metadata": {},
   "outputs": [
    {
     "name": "stdout",
     "output_type": "stream",
     "text": [
      "['dog', 'cat', 'monkey']\n"
     ]
    }
   ],
   "source": [
    "pets = ['dog', 'cat', 'rabbit', 'monkey']\n",
    "pets.remove('rabbit')\n",
    "print(pets)"
   ]
  },
  {
   "cell_type": "code",
   "execution_count": null,
   "id": "c7285404-0ffe-414b-8940-522cf36bdaa2",
   "metadata": {},
   "outputs": [
    {
     "name": "stdout",
     "output_type": "stream",
     "text": [
      "['dog', 'cat', 'monkey']\n"
     ]
    }
   ],
   "source": [
    "pets = ['dog', 'cat', 'rabbit', 'monkey']\n",
    "del pets [2]\n",
    "print(pets)"
   ]
  },
  {
   "cell_type": "markdown",
   "id": "0046aee1-c28b-42fe-9dad-75069f837bdd",
   "metadata": {},
   "source": [
    "#### Getting the length of a list\n",
    "\n",
    "The length of a list refers to the number of items in a list, use the `len()` method"
   ]
  },
  {
   "cell_type": "markdown",
   "id": "f7d3dc61-c181-4785-bc17-238f2035fc4c",
   "metadata": {},
   "source": [
    "#### Homework\n",
    "- Check if an item exist"
   ]
  },
  {
   "cell_type": "markdown",
   "id": "ec220e8e-8e16-4f8b-b11e-01380f5e6d68",
   "metadata": {},
   "source": [
    "#### Extending a list\n",
    "\n",
    "The `extend()` methods adds all items from one list to another"
   ]
  },
  {
   "cell_type": "code",
   "execution_count": null,
   "id": "47ee394e-78a6-4de4-9407-fa1b5959f734",
   "metadata": {},
   "outputs": [
    {
     "name": "stdout",
     "output_type": "stream",
     "text": [
      "['dog', 'cat', 'rabbit', 'monkey']\n"
     ]
    }
   ],
   "source": [
    "pets = ['dog', 'cat']\n",
    "other_pets = ['rabbit', 'monkey']\n",
    "pets.extend(other_pets)\n",
    "print(pets)"
   ]
  },
  {
   "cell_type": "markdown",
   "id": "54e23f5b-ac57-41c7-b025-983c677efc5f",
   "metadata": {},
   "source": [
    "## Tuple\n",
    "- Python tuple is an ordered container\n",
    "- Its the same as a list but the items of tuples cannot be changed\n",
    "- We create a tuple using round brackets `()`"
   ]
  },
  {
   "cell_type": "code",
   "execution_count": null,
   "id": "fa05d175-ddbf-4f50-8845-5d25010d5aa5",
   "metadata": {},
   "outputs": [
    {
     "name": "stdout",
     "output_type": "stream",
     "text": [
      "('dog', 'cat', 'rabbit')\n",
      "<class 'tuple'>\n"
     ]
    }
   ],
   "source": [
    "pets = ('dog', 'cat', 'rabbit')\n",
    "print(pets)\n",
    "print(type(pets))"
   ]
  },
  {
   "cell_type": "markdown",
   "id": "8858538b-83df-431b-8778-fcae79917ece",
   "metadata": {},
   "source": [
    "## Sets\n",
    "- A set is a container/collection that is unordered and immutable\n",
    "- We create a set using `{}`"
   ]
  },
  {
   "cell_type": "code",
   "execution_count": null,
   "id": "ef03c79d-7932-4a8b-93bc-000bab41f36d",
   "metadata": {},
   "outputs": [
    {
     "name": "stdout",
     "output_type": "stream",
     "text": [
      "{'rabbit', 'dog', 'cat'}\n"
     ]
    }
   ],
   "source": [
    "pets = {'dog', 'cat', 'rabbit'}\n",
    "print(pets)"
   ]
  },
  {
   "cell_type": "code",
   "execution_count": null,
   "id": "cfa23d31-9c75-4483-bc11-9ffc8513e5a8",
   "metadata": {},
   "outputs": [
    {
     "name": "stdout",
     "output_type": "stream",
     "text": [
      "{True, 'dog', 21}\n",
      "<class 'set'>\n"
     ]
    }
   ],
   "source": [
    "# A set can contain objects of different data types\n",
    "mixed = {'dog', 21, True}\n",
    "print(mixed)\n",
    "print(type(mixed))"
   ]
  },
  {
   "cell_type": "markdown",
   "id": "e7d5227b-9455-414c-a802-994b36ab5f19",
   "metadata": {},
   "source": [
    "#### Accessing set elements\n",
    "\n",
    "- Unlike lists and tuples, you cannot access the items in a set using indexes\n",
    "- This is because a set is unordered and not indexed\n",
    "- However, we can use a `for` loop to access all its items one-by-one\n",
    "\n",
    "***Note: We'll discuss a for loop in the next chapter***"
   ]
  },
  {
   "cell_type": "code",
   "execution_count": null,
   "id": "24af7725-743a-4e56-8306-8a4528064704",
   "metadata": {},
   "outputs": [
    {
     "name": "stdout",
     "output_type": "stream",
     "text": [
      "rabbit\n",
      "dog\n",
      "cat\n"
     ]
    }
   ],
   "source": [
    "# Accessing\n",
    "pets = {'dog', 'cat', 'rabbit'}\n",
    "for pet in pets:\n",
    "    print(pet)"
   ]
  },
  {
   "cell_type": "markdown",
   "id": "b901dd6c-a148-4fcb-8030-edbd43a5c312",
   "metadata": {},
   "source": [
    "#### Adding elements to a set"
   ]
  },
  {
   "cell_type": "code",
   "execution_count": null,
   "id": "797b3830-fd51-498d-81af-da52d7402152",
   "metadata": {},
   "outputs": [
    {
     "name": "stdout",
     "output_type": "stream",
     "text": [
      "{'rabbit', 'dog', 'cat', 'fish'}\n"
     ]
    }
   ],
   "source": [
    "# Adding items to a set\n",
    "pets = {'dog', 'cat', 'rabbit'}\n",
    "pets.add('fish')\n",
    "print(pets)"
   ]
  },
  {
   "cell_type": "markdown",
   "id": "5ac76930-cf32-47d7-9dae-3b84a2aa1973",
   "metadata": {},
   "source": [
    "#### Removing set elements"
   ]
  },
  {
   "cell_type": "code",
   "execution_count": null,
   "id": "95142864-1357-427b-89de-3f1ebe870284",
   "metadata": {},
   "outputs": [
    {
     "name": "stdout",
     "output_type": "stream",
     "text": [
      "{'rabbit', 'dog'}\n"
     ]
    }
   ],
   "source": [
    "# Removing items from a set\n",
    "pets = {'dog', 'cat', 'rabbit'}\n",
    "pets.remove('cat') # remove\n",
    "print(pets)"
   ]
  },
  {
   "cell_type": "code",
   "execution_count": null,
   "id": "2f9b75df-b998-43bf-81fc-87f01fe5cdaf",
   "metadata": {},
   "outputs": [
    {
     "name": "stdout",
     "output_type": "stream",
     "text": [
      "{'dog', 'cat'}\n"
     ]
    }
   ],
   "source": [
    "pets = {'dog', 'cat', 'rabbit'}\n",
    "pets.discard('rabbit') #discard\n",
    "print(pets)"
   ]
  },
  {
   "cell_type": "code",
   "execution_count": null,
   "id": "739c99b3-28f2-4253-a80a-5820a28af329",
   "metadata": {},
   "outputs": [
    {
     "name": "stdout",
     "output_type": "stream",
     "text": [
      "{'dog', 'cat'}\n"
     ]
    }
   ],
   "source": [
    "pets = {'dog', 'cat', 'rabbit'}\n",
    "pets.pop() # pop removes the last item from the set\n",
    "print(pets)"
   ]
  },
  {
   "cell_type": "markdown",
   "id": "dacd2124-08a0-423f-85a4-494562b105b8",
   "metadata": {},
   "source": [
    "#### Homework\n",
    "- Find the length of a set\n",
    "- Check if an element exists\n",
    "- Combine sets"
   ]
  },
  {
   "cell_type": "markdown",
   "id": "1093e087-deb6-4f33-b02e-bdb9bad16e5d",
   "metadata": {},
   "source": [
    "#### Getting the difference between sets"
   ]
  },
  {
   "cell_type": "code",
   "execution_count": null,
   "id": "c1d46850-6ef3-4bc4-8284-e1b859e8c712",
   "metadata": {},
   "outputs": [
    {
     "name": "stdout",
     "output_type": "stream",
     "text": [
      "{1, 2}\n"
     ]
    }
   ],
   "source": [
    "# Getting the difference\n",
    "first_numbers = {1, 2, 3, 4}\n",
    "second_numbers = {3, 4, 5, 6}\n",
    "\n",
    "difference = first_numbers - second_numbers\n",
    "# another way\n",
    "difference2 = first_numbers.difference(second_numbers)\n",
    "print(difference)"
   ]
  },
  {
   "cell_type": "markdown",
   "id": "1dffd9e3-1422-4ae4-8ce2-274258c60c1d",
   "metadata": {},
   "source": [
    "## Dictionaries\n",
    "\n",
    "A dictionary is an unordered and mutable colletion of items"
   ]
  },
  {
   "cell_type": "code",
   "execution_count": null,
   "id": "58ab8bf0-7a9c-4ac6-8c5e-a3a6c191784d",
   "metadata": {},
   "outputs": [
    {
     "name": "stdout",
     "output_type": "stream",
     "text": [
      "{'first_name': 'Voila', 'last_name': 'Akullu', 'age': 16}\n"
     ]
    }
   ],
   "source": [
    "# Creating \n",
    "person = {\n",
    "    'first_name': 'Voila', \n",
    "    'last_name': 'Akullu',\n",
    "    'age': 16\n",
    "    }\n",
    "print(person)"
   ]
  },
  {
   "cell_type": "code",
   "execution_count": null,
   "id": "e98909e2-6c9a-42e8-9b9e-911d9b0bb551",
   "metadata": {},
   "outputs": [
    {
     "name": "stdout",
     "output_type": "stream",
     "text": [
      "Akullu\n"
     ]
    }
   ],
   "source": [
    "# Accessing items\n",
    "print(person['last_name'])"
   ]
  },
  {
   "cell_type": "code",
   "execution_count": null,
   "id": "7b297676-b89b-41a0-814d-32c4b8a951ec",
   "metadata": {},
   "outputs": [
    {
     "name": "stdout",
     "output_type": "stream",
     "text": [
      "{'first_name': 'Voila', 'last_name': 'Akullu', 'age': 16, 'middle_name': 'Vee'}\n"
     ]
    }
   ],
   "source": [
    "# Adding items \n",
    "person['middle_name'] = 'Vee'\n",
    "print(person)"
   ]
  },
  {
   "cell_type": "code",
   "execution_count": null,
   "id": "cae48b06-1db6-4875-bd20-750fca47758b",
   "metadata": {},
   "outputs": [
    {
     "name": "stdout",
     "output_type": "stream",
     "text": [
      "{'first_name': 'Voila', 'last_name': 'Akullu', 'middle_name': 'Vee'}\n"
     ]
    }
   ],
   "source": [
    "# Remove items\n",
    "person.pop('age')\n",
    "print(person)"
   ]
  },
  {
   "cell_type": "markdown",
   "id": "217e613a-440f-40b5-90e4-ac3f752a2a40",
   "metadata": {},
   "source": [
    "#### Homework\n",
    "- Check if an element exists\n",
    "- Find the lenght of a dictionary"
   ]
  },
  {
   "cell_type": "code",
   "execution_count": null,
   "id": "f071a0e9-0385-420b-ab2b-64ddeb800b5a",
   "metadata": {},
   "outputs": [
    {
     "name": "stdout",
     "output_type": "stream",
     "text": [
      "{'manager': {'name': 'Akullu Viola', 'age': 29}, 'programmer': {'name': 'Juma Shafara', 'age': 30}}\n"
     ]
    }
   ],
   "source": [
    "# Nesting dictionaries\n",
    "employees = {\n",
    "    'manager': {\n",
    "        'name': 'Akullu Viola',\n",
    "        'age': 29\n",
    "    },\n",
    "    'programmer': {\n",
    "        'name': 'Juma Shafara',\n",
    "        'age': 30\n",
    "    }\n",
    "}\n",
    "\n",
    "print(employees)"
   ]
  },
  {
   "cell_type": "code",
   "execution_count": null,
   "id": "6d0c9f19-e783-4d44-99a3-3471340d68eb",
   "metadata": {},
   "outputs": [
    {
     "name": "stdout",
     "output_type": "stream",
     "text": [
      "Juma Shafara\n"
     ]
    }
   ],
   "source": [
    "# Accessing nested dictionary\n",
    "programmer = employees['programmer']\n",
    "print(programmer['name'])"
   ]
  },
  {
   "cell_type": "code",
   "execution_count": null,
   "id": "57439506-7459-4fa9-82e9-f2044e4565f7",
   "metadata": {},
   "outputs": [
    {
     "name": "stdout",
     "output_type": "stream",
     "text": [
      "{'a': '1', 'b': '2', 'c': '3'}\n"
     ]
    }
   ],
   "source": [
    "# Using a dictionary constructer\n",
    "names = ('a1', 'b2', 'c3')\n",
    "dictionary = dict(names)\n",
    "print(dictionary)"
   ]
  },
  {
   "cell_type": "code",
   "execution_count": null,
   "id": "be850a80-89ee-4628-ba84-d3e179778db7",
   "metadata": {},
   "outputs": [],
   "source": []
  }
 ],
 "metadata": {
  "kernelspec": {
   "display_name": "python3",
   "language": "python",
   "name": "python3"
  }
 },
 "nbformat": 4,
 "nbformat_minor": 5
}
