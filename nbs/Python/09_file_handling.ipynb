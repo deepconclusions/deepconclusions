{
 "cells": [
  {
   "cell_type": "markdown",
   "metadata": {},
   "source": [
    "## Python File Handling\n",
    "Python allows us to read, write, create and delete files. This process is called file handling."
   ]
  },
  {
   "cell_type": "markdown",
   "metadata": {},
   "source": [
    "### The `open()` function\n",
    "The `open()` function allows us to read, create and update files\n",
    "\n",
    "It takes 2 parameters:\n",
    "\n",
    "- `file` - the file or file path to be opened\n",
    "- `mode` - the mode in which a file is opened for\n",
    "\n",
    "The mode is a string that can either be any of the following:\n",
    "\n",
    "Mode  | Meaning\n",
    "------|--------\n",
    "`'r'` | Open a file for reading\n",
    "`'w'` | Open a file for writing, creates the file if it does not exist\n",
    "`'a'` | Open a file for writing, appends to the end of the file\n",
    "`'x'` | Open a file for creating, fails if file already exists"
   ]
  },
  {
   "cell_type": "markdown",
   "metadata": {},
   "source": [
    "## Python File reading\n",
    "To better explain this, let us say we have a folder named `my_folder`.\n",
    "\n",
    "Inside `my_folder` we have the following files:\n",
    "\n",
    "- `demo.txt`\n",
    "- `main_code.py`\n",
    "\n",
    "The content of the `demo.txt` file is the following\n",
    "\n",
    "```\n",
    "Hello World!\n",
    "I love Python\n",
    "```\n",
    "Now our goal is to read the content of the `demo.txt` file and then print it using the `main_code.py` file\n",
    "\n",
    "To achieve this, we will use the `open()` function with `'r'` mode."
   ]
  },
  {
   "cell_type": "code",
   "execution_count": null,
   "metadata": {},
   "outputs": [
    {
     "name": "stdout",
     "output_type": "stream",
     "text": [
      "Hello World!\n",
      "I love Python\n"
     ]
    }
   ],
   "source": [
    "# this is main code\n",
    "\n",
    "file = open(\n",
    "    file='demo.txt',\n",
    "    mode='r'\n",
    ")\n",
    "content = file.read()\n",
    "print(content)"
   ]
  },
  {
   "cell_type": "markdown",
   "metadata": {},
   "source": [
    "### Reading Lines\n",
    "\n",
    "We can also read each line using the `readline()` method."
   ]
  },
  {
   "cell_type": "code",
   "execution_count": null,
   "metadata": {},
   "outputs": [
    {
     "name": "stdout",
     "output_type": "stream",
     "text": [
      "First line: Hello World!\n",
      "\n",
      "Second line: I love Python\n"
     ]
    }
   ],
   "source": [
    "# this is main_code.py\n",
    "\n",
    "file = open(\n",
    "    file='demo.txt',\n",
    "    mode='r'\n",
    ")\n",
    "\n",
    "first_line = file.readline()\n",
    "second_line = file.readline()\n",
    "\n",
    "print('First line:', first_line)\n",
    "print('Second line:', second_line)"
   ]
  },
  {
   "cell_type": "markdown",
   "metadata": {},
   "source": [
    "## Writing a File\n",
    "In simplest terms, writing a file means modifying the content of a file or creating it if it doesnot exist yet.\n",
    "\n",
    "In Python, there are 2 modes to write to file.\n",
    "\n",
    "- `'w'` - overwrites content of a file, creates file if it does not exist\n",
    "- `'a'` - appends content to the end of a file, creates the file if it does not exist\n",
    "\n",
    "**Example**\n",
    "To better explain this, lets say we have a folder named `my_folder`. Inside `my_folder` we have the following files\n",
    "\n",
    "- `demo.txt`\n",
    "- `main_code.py`\n",
    "\n",
    "The content of the `demo.txt` file is the following\n",
    "\n",
    "```\n",
    "I love Python\n",
    "```\n",
    "In this example, we will use the `'w'` mode which will overwrite(replace) the content of the file"
   ]
  },
  {
   "cell_type": "code",
   "execution_count": null,
   "metadata": {},
   "outputs": [],
   "source": [
    "# this is main_code.py\n",
    "\n",
    "file = open(\n",
    "    file='demo.txt',\n",
    "    mode='w'\n",
    ")\n",
    "file.write('I love JavaScript')\n",
    "file.close()"
   ]
  },
  {
   "cell_type": "markdown",
   "metadata": {},
   "source": [
    "When the above code is run, the content of the file `demo.txt` will be this:\n",
    "```\n",
    "I love JavaScript\n",
    "```\n",
    "\n",
    "Another example, this time we will use the `a` mode which will append or add content to the end of the file"
   ]
  },
  {
   "cell_type": "code",
   "execution_count": null,
   "metadata": {},
   "outputs": [],
   "source": [
    "# this is main_code.py\n",
    "\n",
    "file = open(\n",
    "    file='demo.txt',\n",
    "    mode='a'\n",
    ")\n",
    "file.write(' and JavaScript')\n",
    "file.close()"
   ]
  },
  {
   "cell_type": "markdown",
   "metadata": {},
   "source": [
    "When the above script is run, the content of the `demo.txt` file will be this:\n",
    "```\n",
    "I love Python and JavaScript\n",
    "```"
   ]
  },
  {
   "cell_type": "markdown",
   "metadata": {},
   "source": [
    "## Deleting a file\n",
    "To delete a file, use the `os` module. The `os` modules contains the `remove()` method which we can use to delete files."
   ]
  },
  {
   "cell_type": "code",
   "execution_count": null,
   "metadata": {},
   "outputs": [],
   "source": [
    "# this is main_code.py\n",
    "\n",
    "import os\n",
    "\n",
    "# os.remove('demo.txt')"
   ]
  }
 ],
 "metadata": {
  "kernelspec": {
   "display_name": "python3",
   "language": "python",
   "name": "python3"
  }
 },
 "nbformat": 4,
 "nbformat_minor": 4
}
