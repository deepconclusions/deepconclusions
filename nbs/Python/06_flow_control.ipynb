{
 "cells": [
  {
   "cell_type": "markdown",
   "id": "c8b03d86-a298-4f0b-8a81-bb12a08e863b",
   "metadata": {},
   "source": [
    "## Flow Control"
   ]
  },
  {
   "cell_type": "markdown",
   "id": "5fbafb89-e762-4803-8876-01578549ddf1",
   "metadata": {},
   "source": [
    "## Functions\n",
    "A function in python is a group statements that perform a particular task"
   ]
  },
  {
   "cell_type": "code",
   "execution_count": null,
   "id": "812e763c-d6da-4612-bd1e-8cc5eed06946",
   "metadata": {},
   "outputs": [],
   "source": [
    "# This function calculates Body Mass Index\n",
    "def calculateBodyMassIndex(weight_kg, height_m):\n",
    "\n",
    "    body_mass_index = weight_kg / pow(height_m, 2)\n",
    "    rounded_bmi = round(body_mass_index, 2)\n",
    "\n",
    "    return rounded_bmi"
   ]
  },
  {
   "cell_type": "code",
   "execution_count": null,
   "id": "ab3cb140-f305-4551-be10-6a1617d5a220",
   "metadata": {},
   "outputs": [
    {
     "data": {
      "text/plain": [
       "26.17"
      ]
     },
     "execution_count": null,
     "metadata": {},
     "output_type": "execute_result"
    }
   ],
   "source": [
    "# lets try\n",
    "calculateBodyMassIndex(67, 1.6)"
   ]
  },
  {
   "cell_type": "markdown",
   "id": "2575e506-127d-4a9a-94e0-6883146bffc7",
   "metadata": {},
   "source": [
    "### Creating a function\n",
    "\n",
    "To create a function, we need the following:\n",
    "- The `def` keyword\n",
    "- A function name\n",
    "- Round brackets `()` and a colon `:`\n",
    "- A function body- a group of statements"
   ]
  },
  {
   "cell_type": "code",
   "execution_count": null,
   "id": "463acfda-003a-4c15-a830-ec0fffae80c6",
   "metadata": {},
   "outputs": [],
   "source": [
    "def greeter():\n",
    "    message = 'Hello'\n",
    "    print(message)"
   ]
  },
  {
   "cell_type": "markdown",
   "id": "d612e0f0-0beb-4caa-8862-247bad53d115",
   "metadata": {},
   "source": [
    "- To execute a function, it needs to be called\n",
    "- To call a function, use its function name with parentheses `()`"
   ]
  },
  {
   "cell_type": "code",
   "execution_count": null,
   "id": "92fc4340-78c5-4592-b0a3-bad933676f28",
   "metadata": {},
   "outputs": [
    {
     "name": "stdout",
     "output_type": "stream",
     "text": [
      "Hello\n"
     ]
    }
   ],
   "source": [
    "greeter()"
   ]
  },
  {
   "cell_type": "markdown",
   "id": "a9681646-dfed-4f08-8087-5b52911bedf2",
   "metadata": {},
   "source": [
    "### Function Parameters/Arguments\n",
    "- When calling a function, we can pass data using parameters/arguments\n",
    "- A *parameter* is a variable declared in the function. In the example below, `number1` and `number2` are parameter\n",
    "- The *argument* is the value passed to the function when its called. In the example below `3` and `27` are the arguments"
   ]
  },
  {
   "cell_type": "code",
   "execution_count": null,
   "id": "8fe4fefc-0b77-4859-88fc-3b9e5ae9ab16",
   "metadata": {},
   "outputs": [
    {
     "name": "stdout",
     "output_type": "stream",
     "text": [
      "30\n"
     ]
    }
   ],
   "source": [
    "# define the function\n",
    "def addNumbers(number1, number2):\n",
    "    sum = number1 + number2\n",
    "    print(sum)\n",
    "\n",
    "# Call the function\n",
    "addNumbers(3, 27)"
   ]
  },
  {
   "cell_type": "code",
   "execution_count": null,
   "id": "740c43d4-7837-44a4-a7e3-2898af638d60",
   "metadata": {},
   "outputs": [
    {
     "name": "stdout",
     "output_type": "stream",
     "text": [
      "Hello Tinye\n",
      "Hello you\n"
     ]
    }
   ],
   "source": [
    "# setting a default argument\n",
    "def greet(name='you'):\n",
    "    message = 'Hello ' + name\n",
    "    print(message)\n",
    "\n",
    "greet('Tinye')\n",
    "greet()"
   ]
  },
  {
   "cell_type": "markdown",
   "id": "b1824980-dbf0-47c6-8247-806cdfbd5049",
   "metadata": {},
   "source": [
    "###  Return Statement\n",
    "The `return` statement is used to return a value to a function caller"
   ]
  },
  {
   "cell_type": "code",
   "execution_count": null,
   "id": "b978ef64-a4d8-4898-8dab-5a87f07a0f6f",
   "metadata": {},
   "outputs": [
    {
     "name": "stdout",
     "output_type": "stream",
     "text": [
      "60\n"
     ]
    }
   ],
   "source": [
    "def addNumbers(number1, number2):\n",
    "    sum = number1 + number2\n",
    "    return sum\n",
    "\n",
    "summation = addNumbers(56, 4)\n",
    "print(summation)"
   ]
  },
  {
   "cell_type": "markdown",
   "id": "23def333-5870-4452-a990-36c6c5a76b3b",
   "metadata": {},
   "source": [
    " ### lambda functions\n",
    "- Lambda functions are functions that donot have names\n",
    "- The body of a lambda function can only have one expression, but can have multiple arguments\n",
    "- The result of the expression is automatically returned\n",
    "\n",
    "  **Syntax:**\n",
    "  ```python\n",
    "  lambda parameters: expression\n",
    "  ```"
   ]
  },
  {
   "cell_type": "code",
   "execution_count": null,
   "id": "ad268f5f-00f7-4ac5-9c93-68334767257a",
   "metadata": {},
   "outputs": [
    {
     "data": {
      "text/plain": [
       "23.18"
      ]
     },
     "execution_count": null,
     "metadata": {},
     "output_type": "execute_result"
    }
   ],
   "source": [
    "# Example of lambda function\n",
    "calculateBMI = lambda weight_kg, height_m: round((weight_kg/(height_m ** 2)), 2)\n",
    "# Calling a labda function\n",
    "calculateBMI(67, 1.7)"
   ]
  },
  {
   "cell_type": "markdown",
   "id": "6187ebc6-f475-42f2-9136-ad074c947ecd",
   "metadata": {},
   "source": [
    "### Practice functions"
   ]
  },
  {
   "cell_type": "markdown",
   "id": "31d3797e-d356-41db-b5f5-deedcae93ddb",
   "metadata": {},
   "source": [
    "#### Calculate CGPA"
   ]
  },
  {
   "cell_type": "code",
   "execution_count": null,
   "id": "474841f0-0bbf-4a30-ae3a-2171aa62f442",
   "metadata": {},
   "outputs": [],
   "source": [
    "# Assume 4 course units\n",
    "# 1. Math - A\n",
    "# 2. Science - B\n",
    "# 3. SST - B\n",
    "# 4. English - C\n",
    "\n",
    "\n",
    "def calculate_CGPA(GPs_list, CUs_list):\n",
    "    length = len(GPs_list)\n",
    "    product_sum = 0\n",
    "\n",
    "    for item in range(length):\n",
    "        product_sum += GPs_list[item] * CUs_list[item]\n",
    "\n",
    "    CUs_sum = sum(CUs_list)\n",
    "\n",
    "    CGPA = product_sum / CUs_sum\n",
    "\n",
    "    return CGPA\n",
    "\n",
    "# calculate_CGPA(4, 5)"
   ]
  },
  {
   "cell_type": "markdown",
   "id": "82e0da43-c04a-4aa8-ba00-084de9f96e3c",
   "metadata": {},
   "source": [
    "#### Get someones age given birth month and year"
   ]
  },
  {
   "cell_type": "code",
   "execution_count": null,
   "id": "4e5392e2-3ca6-4ce8-8b99-d7eed827e37c",
   "metadata": {},
   "outputs": [
    {
     "name": "stdout",
     "output_type": "stream",
     "text": [
      "23 years 2 months\n"
     ]
    }
   ],
   "source": [
    "def getAge(month, year):\n",
    "    month_diff = 12 - month\n",
    "    year_diff = 2023 - year\n",
    "\n",
    "    return str(year_diff) + ' years ' + str(month_diff) + ' months'  \n",
    "    \n",
    "age = getAge(year=2000, month=10) # keyword argument\n",
    "age2 = getAge(10, 2000) # positional argument\n",
    "\n",
    "print(age)"
   ]
  },
  {
   "cell_type": "markdown",
   "id": "01351767-f051-45ff-b289-a7f26184e9c7",
   "metadata": {},
   "source": [
    "### Loops \n",
    "- Loops are used to repetitively execute a group of statements\n",
    "- we have 2 types, `for` and `while` loop\n",
    "\n",
    "#### For Loop\n",
    "A `for` loop is used to loop through or iterate over a sequence or iterable objects\n",
    "\n",
    "**Syntax:**\n",
    "```python\n",
    "for variable in sequence:\n",
    "    statements\n",
    "```"
   ]
  },
  {
   "cell_type": "code",
   "execution_count": null,
   "id": "df6a3c7d-bc85-4832-90a4-7a01e2df7d6e",
   "metadata": {},
   "outputs": [
    {
     "name": "stdout",
     "output_type": "stream",
     "text": [
      "cat\n",
      "dog\n",
      "rabbit\n"
     ]
    }
   ],
   "source": [
    "pets = ['cat', 'dog', 'rabbit']\n",
    "# iterate through pets\n",
    "for pet in pets:\n",
    "    print(pet)"
   ]
  },
  {
   "cell_type": "code",
   "execution_count": null,
   "id": "4c45b929-aa5e-4e61-84c9-e128ef1f2c4a",
   "metadata": {},
   "outputs": [
    {
     "name": "stdout",
     "output_type": "stream",
     "text": [
      "[319.0, 220.0, 167.2, 176.0]\n"
     ]
    }
   ],
   "source": [
    "# convert all weights in list from kg to pounds\n",
    "weights_kg = [145, 100, 76, 80]\n",
    "weights_pds = []\n",
    "\n",
    "for weight in weights_kg:\n",
    "    pounds = weight * 2.2\n",
    "    rounded_pds = round(pounds, 2)\n",
    "    weights_pds.append(rounded_pds)\n",
    "\n",
    "print(weights_pds)"
   ]
  },
  {
   "cell_type": "code",
   "execution_count": null,
   "id": "c1b49b9d-01dd-4ff6-abe1-a2f5ecc192c5",
   "metadata": {},
   "outputs": [
    {
     "name": "stdout",
     "output_type": "stream",
     "text": [
      "S\n",
      "h\n",
      "a\n",
      "f\n",
      "a\n",
      "r\n",
      "a\n"
     ]
    }
   ],
   "source": [
    "# Display all letters in a name\n",
    "name = 'Shafara'\n",
    "\n",
    "for letter in name:\n",
    "    print(letter)"
   ]
  },
  {
   "cell_type": "code",
   "execution_count": null,
   "id": "0fa69e5d-69e8-41e7-8698-d6b88ad030a4",
   "metadata": {},
   "outputs": [
    {
     "name": "stdout",
     "output_type": "stream",
     "text": [
      "Hello you\n",
      "Hello you\n",
      "Hello you\n",
      "Hello you\n",
      "Hello you\n"
     ]
    }
   ],
   "source": [
    "# print 'Hello you' 5 times\n",
    "for step in range(0, 5):\n",
    "    print('Hello you')"
   ]
  },
  {
   "cell_type": "markdown",
   "id": "67af75cd-de42-4e26-97d5-9309b970243a",
   "metadata": {},
   "source": [
    "### While loop\n",
    "- The `while` loop executes a given group of statements as long as the given expression is `True`\n",
    "\n",
    "**Syntax:**\n",
    "```python\n",
    "while expression:\n",
    "    statements\n",
    "```"
   ]
  },
  {
   "cell_type": "code",
   "execution_count": null,
   "id": "57426288-26a4-4a5d-ae9a-e9ed2bc31b31",
   "metadata": {},
   "outputs": [
    {
     "name": "stdout",
     "output_type": "stream",
     "text": [
      "Hello you\n",
      "Hello you\n",
      "Hello you\n",
      "Hello you\n",
      "Hello you\n"
     ]
    }
   ],
   "source": [
    "counter = 0\n",
    "\n",
    "while counter < 5:\n",
    "    print('Hello you')\n",
    "    counter += 1"
   ]
  },
  {
   "cell_type": "code",
   "execution_count": null,
   "id": "e20bde0d-3a67-42f9-b934-0876746ed0ac",
   "metadata": {},
   "outputs": [
    {
     "name": "stdout",
     "output_type": "stream",
     "text": [
      "[319.0, 220.0, 167.2, 176.0]\n"
     ]
    }
   ],
   "source": [
    "# Convert the weights in the list from kgs to pounds\n",
    "weights_kg = [145, 100, 76, 80]\n",
    "weights_pds = []\n",
    "\n",
    "counter = 0\n",
    "end = len(weights_kg)\n",
    "\n",
    "while counter < end:\n",
    "\n",
    "    pound = weights_kg[counter] * 2.2\n",
    "    rounded_pds = round(pound, 3)\n",
    "    weights_pds.append(rounded_pds)\n",
    "\n",
    "    counter += 1\n",
    "\n",
    "print(weights_pds)"
   ]
  }
 ],
 "metadata": {
  "kernelspec": {
   "display_name": "python3",
   "language": "python",
   "name": "python3"
  }
 },
 "nbformat": 4,
 "nbformat_minor": 5
}
