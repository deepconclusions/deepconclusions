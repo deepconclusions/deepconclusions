{
 "cells": [
  {
   "cell_type": "markdown",
   "id": "ffe3d665-538b-4ed0-92d7-370d162ed4af",
   "metadata": {},
   "source": [
    "## Exercise"
   ]
  },
  {
   "cell_type": "markdown",
   "id": "bd249cf6-bf1c-435f-a7c1-7c51ab6f7ade",
   "metadata": {},
   "source": [
    "## Homework\n",
    "### Theory \n",
    "\n",
    "**Python Overview:**\n",
    "\n",
    "What are the fundamental components of a Python program, and how does Python execute code?\n",
    "\n",
    "**Python Variables:**\n",
    "\n",
    "Explain the differences between mutable and immutable data types in Python and provide examples of each.\n",
    "\n",
    "**Python Operations:**\n",
    "\n",
    "Discuss the importance of operator precedence in Python and how it impacts the evaluation of expressions.\n",
    "\n",
    "**Python Collections:**\n",
    "\n",
    "Compare and contrast the usage of lists, tuples, sets, and dictionaries in Python, highlighting their key characteristics and when to use each.\n",
    "\n",
    "### Practical\n",
    "**Problem: Pizza Party**\n",
    "\n",
    "You're organizing a pizza party and want to ensure there's enough pizza for everyone attending. Each pizza has 8 slices. Write a Python script that calculates the number of pizzas needed based on the number of guests and slices per person.\n",
    "\n",
    "**Consider the following inputs:**\n",
    "\n",
    "- Number of guests attending the party.\n",
    "- Slices each guest should have (assume each guest will have the same number of slices).\n",
    "\n",
    "**Your script should:**\n",
    "\n",
    "- Prompt the user for the number of guests attending.\n",
    "- Prompt for the number of slices each guest should have.\n",
    "- Calculate the total number of slices needed.\n",
    "- Calculate the total number of pizzas required (round up to the nearest whole pizza).\n",
    "- For instance, if 10 guests are attending and each should have 3 slices, your program should output the number of pizzas needed to fulfill the requirement."
   ]
  },
  {
   "cell_type": "code",
   "execution_count": null,
   "id": "3b726fb5-6ac7-499a-a543-cd294a2ec86e",
   "metadata": {},
   "outputs": [
    {
     "name": "stdout",
     "output_type": "stream",
     "text": [
      "Number of pizzas needed for 10 is 3.75\n"
     ]
    }
   ],
   "source": [
    "# Solution\n",
    "number_of_guests = 10\n",
    "number_of_slices_for_each = 3\n",
    "\n",
    "total_number_of_slices = number_of_guests * number_of_slices_for_each\n",
    "total_number_of_pizzas = total_number_of_slices / 8\n",
    "\n",
    "print('Number of pizzas needed for ' + \n",
    "      str(number_of_guests) + ' is ' + \n",
    "      str(total_number_of_pizzas))"
   ]
  }
 ],
 "metadata": {
  "kernelspec": {
   "display_name": "python3",
   "language": "python",
   "name": "python3"
  }
 },
 "nbformat": 4,
 "nbformat_minor": 5
}
