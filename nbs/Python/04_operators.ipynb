{
 "cells": [
  {
   "cell_type": "markdown",
   "id": "084ebd96-7e15-4b3e-8804-0bcbdbefd0e0",
   "metadata": {},
   "source": [
    "## Operators\n",
    "Operators are symbols that perform operations on operands. Operands can be variables, strings, numbers, booleans etc"
   ]
  },
  {
   "cell_type": "markdown",
   "id": "9ef0196f-ee1d-4681-8edf-7b4149ebbf64",
   "metadata": {},
   "source": [
    "## Arithmetic\n",
    "\n",
    "Arithemators are symbols that perform mathematical operations on operands\n",
    "\n",
    "Arithmetic Operator | Description\n",
    "--------|--------------\n",
    "`+`       |   Addition\n",
    "`-`        | Subraction\n",
    "`/`        | Division\n",
    "`*`        | Multiplication\n",
    "`**`       | Exponentiates\n",
    "`% `       | Remainder\n"
   ]
  },
  {
   "cell_type": "code",
   "execution_count": null,
   "id": "b07146b8-aa2e-4723-9d1d-0add03e9ccaf",
   "metadata": {},
   "outputs": [],
   "source": [
    "# Let \n",
    "x = 10 \n",
    "y = 5"
   ]
  },
  {
   "cell_type": "code",
   "execution_count": null,
   "id": "3d0967ce-0bef-43fb-b7ea-e173ebdc12e8",
   "metadata": {},
   "outputs": [
    {
     "name": "stdout",
     "output_type": "stream",
     "text": [
      "15\n"
     ]
    }
   ],
   "source": [
    "# Addition\n",
    "summation = x + y\n",
    "print(summation)"
   ]
  },
  {
   "cell_type": "code",
   "execution_count": null,
   "id": "441c2ca1-dc97-45a9-833b-e48eb85fb494",
   "metadata": {},
   "outputs": [
    {
     "name": "stdout",
     "output_type": "stream",
     "text": [
      "5\n"
     ]
    }
   ],
   "source": [
    "# Subraction\n",
    "difference = x - y\n",
    "print(difference)"
   ]
  },
  {
   "cell_type": "code",
   "execution_count": null,
   "id": "b6be6061-b81c-4fcc-a7e9-6e2f2b751f56",
   "metadata": {},
   "outputs": [
    {
     "name": "stdout",
     "output_type": "stream",
     "text": [
      "2.0\n"
     ]
    }
   ],
   "source": [
    "# Division\n",
    "quotient = x / y\n",
    "print(quotient)"
   ]
  },
  {
   "cell_type": "code",
   "execution_count": null,
   "id": "95bf1d0f-6436-4721-9ee8-a1898fb5f5e2",
   "metadata": {},
   "outputs": [
    {
     "name": "stdout",
     "output_type": "stream",
     "text": [
      "50\n"
     ]
    }
   ],
   "source": [
    "# Multiplication\n",
    "product = x * y\n",
    "print(product)"
   ]
  },
  {
   "cell_type": "code",
   "execution_count": null,
   "id": "f533778d-c422-466c-bac7-05fe2b56562e",
   "metadata": {},
   "outputs": [
    {
     "name": "stdout",
     "output_type": "stream",
     "text": [
      "100000\n"
     ]
    }
   ],
   "source": [
    "# Exponentiation \n",
    "exponent = x ** y\n",
    "print(exponent)"
   ]
  },
  {
   "cell_type": "code",
   "execution_count": null,
   "id": "e5a626a4-202e-46eb-9021-51b1a47c6327",
   "metadata": {},
   "outputs": [
    {
     "name": "stdout",
     "output_type": "stream",
     "text": [
      "0\n"
     ]
    }
   ],
   "source": [
    "# Remainder\n",
    "remainder = x % y\n",
    "print(remainder)"
   ]
  },
  {
   "cell_type": "code",
   "execution_count": null,
   "id": "cbb2a215-32e4-41de-8149-fe23027c6846",
   "metadata": {},
   "outputs": [
    {
     "name": "stdout",
     "output_type": "stream",
     "text": [
      "2.5\n"
     ]
    }
   ],
   "source": [
    "# Floor Division\n",
    "floor = 10 / 4\n",
    "print(floor)"
   ]
  },
  {
   "cell_type": "code",
   "execution_count": null,
   "id": "a05c1a65-e921-47a6-972d-0837235399c9",
   "metadata": {},
   "outputs": [
    {
     "name": "stdout",
     "output_type": "stream",
     "text": [
      "16.0\n"
     ]
    }
   ],
   "source": [
    "# Perform in a sequence\n",
    "ans = 10 * 3 / 2 + 1\n",
    "print(ans)"
   ]
  },
  {
   "cell_type": "markdown",
   "id": "0f48c3ed-b90b-4025-85d7-e95c7f1bebec",
   "metadata": {},
   "source": [
    "## Assignment\n",
    "\n",
    "Assignment operators are used to assign values to variables.\n",
    "\n",
    "Name             | Operation | Same As\n",
    "-----------------|------------|---------\n",
    "Assignment       | `x = y` | `x = y`\n",
    "Addition Ass     | `x += y`  | `x = x + y`\n",
    "Subtraction Ass  | `x -= y` |`x = x - y`\n",
    "Mult Ass         | `x *= y` | `x = x * y`\n",
    "Division Ass     | `x /= y` | `x = x / y`\n",
    "Expo Ass         | `x **= y` |`x = x ** y`\n",
    "Remainder Ass    | `x %= y` | `x = x % y`\n",
    "Floor Div Ass    | `x //= y` |`x = x // y`\n"
   ]
  },
  {
   "cell_type": "code",
   "execution_count": null,
   "id": "72b92a45-ec4d-4023-ae11-4a5e674430ea",
   "metadata": {},
   "outputs": [
    {
     "name": "stdout",
     "output_type": "stream",
     "text": [
      "15\n"
     ]
    }
   ],
   "source": [
    "# Examples\n",
    "# Assignment\n",
    "x = 10\n",
    "# Addition Ass\n",
    "x += 5 # x = x + 5 => x = 10 + 5 => x = 15\n",
    "print(x)"
   ]
  },
  {
   "cell_type": "code",
   "execution_count": null,
   "id": "4807b333-c33d-48ca-8f86-19958509b884",
   "metadata": {},
   "outputs": [
    {
     "name": "stdout",
     "output_type": "stream",
     "text": [
      "5\n"
     ]
    }
   ],
   "source": [
    "# Subraction Ass\n",
    "x = 10\n",
    "x -= 5 # x = x - 5 => x = 10 - 5 => x = 5\n",
    "print(x)"
   ]
  },
  {
   "cell_type": "markdown",
   "id": "b5da68fd-6fd6-4a8f-ab95-aa5da970fea4",
   "metadata": {},
   "source": [
    "## Comparison\n",
    "\n",
    "A comparison operator compares its operands and returns\n",
    "a Boolean value based on whether the comparison is \n",
    "True of False\n",
    "\n",
    "Name             | Operation\n",
    "-----------------|------------\n",
    "Equality         | `==`\n",
    "Inequality       | `!=`\n",
    "Greater than     | `>`\n",
    "Less than        | `<`\n",
    "Greater or equal | `>=`\n",
    "Less or equal    | `<=`"
   ]
  },
  {
   "cell_type": "code",
   "execution_count": null,
   "id": "5c31b98c-c193-4959-a63d-5fb50ed02630",
   "metadata": {},
   "outputs": [
    {
     "data": {
      "text/plain": [
       "False"
      ]
     },
     "execution_count": null,
     "metadata": {},
     "output_type": "execute_result"
    }
   ],
   "source": [
    "# Examples\n",
    "# Equality \n",
    "'Voila' == 'Viola'"
   ]
  },
  {
   "cell_type": "code",
   "execution_count": null,
   "id": "97830e0b-1ab7-4bb6-b324-555c34fc4e9f",
   "metadata": {},
   "outputs": [
    {
     "data": {
      "text/plain": [
       "True"
      ]
     },
     "execution_count": null,
     "metadata": {},
     "output_type": "execute_result"
    }
   ],
   "source": [
    "# Inequality \n",
    "'Voila' != 'Viola'"
   ]
  },
  {
   "cell_type": "code",
   "execution_count": null,
   "id": "aa548f5c-1f83-44df-8413-8df6465f64a8",
   "metadata": {},
   "outputs": [
    {
     "data": {
      "text/plain": [
       "False"
      ]
     },
     "execution_count": null,
     "metadata": {},
     "output_type": "execute_result"
    }
   ],
   "source": [
    "# Greater or Equal\n",
    "34 >= 43"
   ]
  },
  {
   "cell_type": "code",
   "execution_count": null,
   "id": "5c758c04-90ed-4f20-ac73-4722945ddda6",
   "metadata": {},
   "outputs": [
    {
     "name": "stdout",
     "output_type": "stream",
     "text": [
      "False\n"
     ]
    }
   ],
   "source": [
    "# Tip\n",
    "print('Voila' == 'Viola' == 'Voila')\n",
    "#       False == True => False"
   ]
  },
  {
   "cell_type": "code",
   "execution_count": null,
   "id": "ab7cc31b-7efe-449b-9477-5e72d8feac3e",
   "metadata": {},
   "outputs": [
    {
     "name": "stdout",
     "output_type": "stream",
     "text": [
      "You are normal weight\n"
     ]
    }
   ],
   "source": [
    "# weight = int(input(\"Enter your weight: \"))\n",
    "# height = int(input('Enter your height: '))\n",
    "\n",
    "weight = 56\n",
    "height = 1.5\n",
    "\n",
    "bmi = weight/(height**2)\n",
    "\n",
    "if bmi > 28:\n",
    "    print('You are over weight')\n",
    "elif bmi > 18:\n",
    "    print('You are normal weight')\n",
    "else:\n",
    "    print('You are under weight')"
   ]
  },
  {
   "cell_type": "markdown",
   "id": "745f4d33-ca07-4604-b780-de54924d315e",
   "metadata": {},
   "source": [
    "## Identity\n",
    "\n",
    "Identity operators are used to compare two values to determine\n",
    "if they point to the same object\n",
    "\n",
    "Operator     | Name\n",
    "-------------|------\n",
    "`is`           | The is operator\n",
    "`is not`      | The is not operator"
   ]
  },
  {
   "cell_type": "code",
   "execution_count": null,
   "id": "36ba59e9-0e3f-4826-b1d2-7a0b502ca802",
   "metadata": {},
   "outputs": [
    {
     "name": "stdout",
     "output_type": "stream",
     "text": [
      "False\n"
     ]
    }
   ],
   "source": [
    "# Example\n",
    "# is\n",
    "x = 5\n",
    "y = 4\n",
    "z = x # x = 5 => z = 5\n",
    "\n",
    "print(x is not z)"
   ]
  },
  {
   "cell_type": "markdown",
   "id": "c3ac5b20-302a-4e55-be9a-89fc9819421c",
   "metadata": {},
   "source": [
    "## Logical\n",
    "Logical operators are commonly used with Booleans. In Python, there are 3 logical operators\n",
    "\n",
    "Operator      |    Description\n",
    "---------------|---------------\n",
    "`and`            |   Logical and operator \n",
    "`or`              |  Logical or  \n",
    "`not`              | Logical not "
   ]
  },
  {
   "cell_type": "markdown",
   "id": "04e10bd5-bb7b-4924-88f5-7287871cf51f",
   "metadata": {},
   "source": [
    "### Logical `and`\n",
    "The logical `and` operator returns `True` if both operands are `True`"
   ]
  },
  {
   "cell_type": "code",
   "execution_count": null,
   "id": "1af73593-43db-4a2e-905d-cd2af5590133",
   "metadata": {},
   "outputs": [
    {
     "name": "stdout",
     "output_type": "stream",
     "text": [
      "False\n"
     ]
    }
   ],
   "source": [
    "# Example\n",
    "# Logical and\n",
    "x = 4\n",
    "print(x > 3 and 8 < x)\n",
    "#               True and False => False"
   ]
  },
  {
   "cell_type": "markdown",
   "id": "13c91ef6-b6db-4859-8c16-4a312328dea2",
   "metadata": {},
   "source": [
    "### Logical `or`\n",
    "The logical `or` operator returns `True` if one of the operands is `True`"
   ]
  },
  {
   "cell_type": "code",
   "execution_count": null,
   "id": "b4806c7d-8508-468c-83fb-a409d8f6bda0",
   "metadata": {},
   "outputs": [
    {
     "name": "stdout",
     "output_type": "stream",
     "text": [
      "True\n"
     ]
    }
   ],
   "source": [
    "# Logical or\n",
    "y = 7\n",
    "expression_2 = 10 > y or 4 > y\n",
    "#                   True or False => True\n",
    "print(expression_2)"
   ]
  },
  {
   "cell_type": "markdown",
   "id": "ecb24a15-a19b-43af-bb64-6aacd858380b",
   "metadata": {},
   "source": [
    "### Logical `not`\n",
    "The logical `not` operator returns `True` if the operand is `False`, otherwise returns `False` if the operand is `True`"
   ]
  },
  {
   "cell_type": "code",
   "execution_count": null,
   "id": "47cd529e-69b5-4812-b106-748ccf5b24e4",
   "metadata": {},
   "outputs": [
    {
     "name": "stdout",
     "output_type": "stream",
     "text": [
      "True\n"
     ]
    }
   ],
   "source": [
    "# Logical not\n",
    "z = 8\n",
    "expression_3 = not(10 == z)\n",
    "#               not False => True\n",
    "print(expression_3)"
   ]
  },
  {
   "cell_type": "markdown",
   "id": "268c0478-18da-4f9c-ab2e-d7ab1e52d5e1",
   "metadata": {},
   "source": [
    "## Membership\n",
    "\n",
    "Membership operators are used to check if a sequence\n",
    "is present in an object like a string, list etc\n",
    "\n",
    "Operator          |Name\n",
    "-----------------|------------\n",
    "`in`               |The in operator\n",
    "`not in`          |The not in operator"
   ]
  },
  {
   "cell_type": "code",
   "execution_count": null,
   "id": "8a028f8a-c9c8-4426-b8f0-8495abe6d073",
   "metadata": {},
   "outputs": [
    {
     "name": "stdout",
     "output_type": "stream",
     "text": [
      "False\n"
     ]
    }
   ],
   "source": [
    "# Example\n",
    "name = 'Tinye Robert'\n",
    "print('Robert' not in name)"
   ]
  },
  {
   "cell_type": "code",
   "execution_count": null,
   "id": "7852eeff-acd2-462d-8ff8-35d4b48958a7",
   "metadata": {},
   "outputs": [],
   "source": []
  }
 ],
 "metadata": {
  "kernelspec": {
   "display_name": "python3",
   "language": "python",
   "name": "python3"
  }
 },
 "nbformat": 4,
 "nbformat_minor": 5
}
