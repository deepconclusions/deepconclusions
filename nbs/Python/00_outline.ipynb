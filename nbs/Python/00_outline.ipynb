{
 "cells": [
  {
   "cell_type": "markdown",
   "id": "881a7dcb-eb8f-469e-b301-2865c2c0a1ab",
   "metadata": {},
   "source": [
    "## Python Course Outline"
   ]
  },
  {
   "cell_type": "markdown",
   "id": "ffbc4915-6e58-49b2-989d-2b007186336f",
   "metadata": {},
   "source": [
    "## Basics\n",
    "- Python Overview\n",
    "- Introduction\n",
    "- Installing\n",
    "- Writing Code\n",
    "- Displaying Output\n",
    "- Statements\n",
    "- Syntax\n",
    "- Comments\n",
    "- Exercise"
   ]
  },
  {
   "cell_type": "markdown",
   "id": "5600e0f8-8c8f-4e17-a281-39ab5036838a",
   "metadata": {},
   "source": [
    "## Variables\n",
    "- Variables\n",
    "- Data Types\n",
    "- Numbers\n",
    "- Number Methods\n",
    "- Strings\n",
    "- Type Conversion\n",
    "- Python Booleans\n",
    "- Exercise"
   ]
  },
  {
   "cell_type": "markdown",
   "id": "cd380978-bf31-40a9-9c64-75fad3045906",
   "metadata": {},
   "source": [
    "## Operations\n",
    "- Operators Intro\n",
    "- Arithmetics\n",
    "- Assignment\n",
    "- Comparison\n",
    "- Logical\n",
    "- Identity\n",
    "- Membership\n",
    "- Exercise"
   ]
  },
  {
   "cell_type": "markdown",
   "id": "a983a739-1d20-4f96-83c4-81f393cec1e6",
   "metadata": {},
   "source": [
    "## Collections\n",
    "- Containers\n",
    "- List\n",
    "- Tuple\n",
    "- Set\n",
    "- Dictionary\n",
    "- Exercise"
   ]
  },
  {
   "cell_type": "markdown",
   "id": "e6aa985a-8bfa-4c18-aceb-572886f337d6",
   "metadata": {},
   "source": [
    "## Flow Control\n",
    "- Functions\n",
    "- Lambda functions\n",
    "- If else\n",
    "- If else shorthand\n",
    "- For Loop\n",
    "- While Loop\n",
    "- Break and Continue\n",
    "- Pass\n",
    "- Exercise"
   ]
  },
  {
   "cell_type": "markdown",
   "id": "07fae49b-2e1c-4cd4-9720-804efad9e719",
   "metadata": {},
   "source": [
    "## Advanced\n",
    "- Classes and Objects\n",
    "- Inheritance\n",
    "- Variable Scope\n",
    "- Formatting Strings\n",
    "- Try … Except\n",
    "- Iterators\n",
    "- User Input\n",
    "- Exercise"
   ]
  },
  {
   "cell_type": "markdown",
   "id": "c4a42073-1d19-4aa7-b9df-d98c0d1cdc8f",
   "metadata": {},
   "source": [
    "## Modules\n",
    "- Intro\n",
    "- Math\n",
    "- Random\n",
    "- Date and Time\n",
    "- JSON\n",
    "- Regular Expressions\n",
    "- Exercise"
   ]
  },
  {
   "cell_type": "markdown",
   "id": "71a67674-e55e-4aad-9b91-2dd6bd363972",
   "metadata": {},
   "source": [
    "## Working With Files\n",
    "- File Handling\n",
    "- File Reading\n",
    "- File Writing/Creating/Appending\n",
    "- File Deleting\n",
    "- Exercise"
   ]
  }
 ],
 "metadata": {
  "kernelspec": {
   "display_name": "python3",
   "language": "python",
   "name": "python3"
  }
 },
 "nbformat": 4,
 "nbformat_minor": 5
}
