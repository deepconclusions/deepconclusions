{
 "cells": [
  {
   "cell_type": "markdown",
   "id": "41d3f551-56ef-4dee-980a-8009bc5680ae",
   "metadata": {},
   "source": [
    "## Basics"
   ]
  },
  {
   "cell_type": "markdown",
   "id": "a6a4feb9-2206-4360-9a7e-8e5ddd4610d4",
   "metadata": {},
   "source": [
    "### Overview"
   ]
  },
  {
   "cell_type": "markdown",
   "id": "0a34778f-1ed1-42f8-b5c0-2725ecb05ed7",
   "metadata": {},
   "source": [
    "This course will teach you the basics and advanced concepts of Python Programming"
   ]
  },
  {
   "cell_type": "markdown",
   "id": "ca915a9c-17db-4a5e-95c2-61b2d7f3b865",
   "metadata": {},
   "source": [
    "### Prerequisites"
   ]
  },
  {
   "cell_type": "markdown",
   "id": "4a68d4da-1efc-447b-bcb3-0326e7029550",
   "metadata": {},
   "source": [
    "What do you need before learning Python?\n",
    "\n",
    "1. Computer Literacy\n",
    "2. Knowledge of installing a software\n",
    "3. A compiler"
   ]
  },
  {
   "cell_type": "markdown",
   "id": "7b6634cc-806f-48f7-aa67-002a2ae5ce76",
   "metadata": {},
   "source": [
    "### Python is Easy\n",
    "- To learn Python, you don't need any prior knowledge of experience on programming.\n",
    "- Python is human readable, making it easier to understand.\n",
    "- Take alook at this example"
   ]
  },
  {
   "cell_type": "code",
   "execution_count": null,
   "id": "84ba385d-ee3c-4dd9-87e9-e7a53db3efea",
   "metadata": {},
   "outputs": [
    {
     "name": "stdout",
     "output_type": "stream",
     "text": [
      "7\n"
     ]
    }
   ],
   "source": [
    "x = 4\n",
    "y = 3\n",
    "summ = x + y\n",
    "print(summ)"
   ]
  },
  {
   "cell_type": "markdown",
   "id": "63558587-b93d-4fc7-90c3-38d4357ddc5e",
   "metadata": {},
   "source": [
    "Although we have not taught you how to code in Python yet, you can still easily pick up what the code is doing"
   ]
  },
  {
   "cell_type": "markdown",
   "id": "28e0a347-4d05-45b1-8cbf-be578344575b",
   "metadata": {},
   "source": [
    "## What is Python\n",
    "- Python is a programming language.\n",
    "- Python is one of the most popular programming languages\n",
    "\n",
    "### Who created Python?\n",
    "Python was created by Guido van Rossum and it was first implemented in 1989\n",
    "\n",
    "### What is Python used for?\n",
    "Python is used for:\n",
    "1. Web Development\n",
    "2. Machine Learning\n",
    "3. Data Science\n",
    "4. Scripting\n",
    "5. And many more\n",
    "\n",
    "### What is the latest version of Python?\n",
    "\n",
    "- Python 3 is the latest version of Python\n",
    "- This tutorial is based on the standards of Python 3\n",
    "\n",
    "## Installing Python\n",
    "Before you can run Python on your PC, you need to install it first. \n",
    "\n",
    "To install Python in a PC, go to [https://www.python.org/downloads/](https://www.python.org/downloads/) then download the latest version.\n",
    "\n",
    "After that, install it just like how you install other apps.\n",
    "\n",
    "Make sure that you check \"Add Python to PATH\" for easier installation.\n",
    "\n",
    "## Writing Python Code\n",
    "In order to learn Python, you need to be able to write and execute code.\n",
    "\n",
    "### Python Console (Shell)\n",
    "Python console also known as shell allows you to execute Python code line by line\n",
    "\n",
    "Assuming that you have already installed Python on your PC, you can access the Python console by opening the command prompt and typing `python`\n",
    "\n",
    "Let's start using the console\n",
    "\n",
    "Type the following and hit enter\n",
    "\n",
    "```\n",
    "name = 'Juma Shafara'\n",
    "```\n",
    "Again, type the following and hit enter\n",
    "```\n",
    "print(name)\n",
    "```\n",
    "After that, you should see this\n",
    "```\n",
    "Juma Shafara\n",
    "```\n",
    "### Python Files \n",
    "Python files are saved with `.py` file extension\n",
    "\n",
    "You can use any text editor (even notepad) to create Python files\n",
    "\n",
    "Just make sure that you save them with the `.py` extension, forexample `hello.py`.\n",
    "\n",
    "Copy this code and save it as `hello.py`:\n",
    "```\n",
    "print('Hello World!')\n",
    "```\n",
    "To run this Python file on a PC, navigate to the folder where is is located using the command prompt.\n",
    "\n",
    "Then type the following and hit enter\n",
    "```\n",
    "python hello.py\n",
    "```\n",
    "The console should then output:\n",
    "```\n",
    "Hello World!\n",
    "```"
   ]
  },
  {
   "cell_type": "markdown",
   "id": "33704e34-b64a-4399-b6bc-0ff5f3640dcb",
   "metadata": {},
   "source": [
    "![Python Console](python_console.png)"
   ]
  },
  {
   "cell_type": "markdown",
   "id": "30c93525-0cfe-4c22-ba3c-b0fb71ce24c4",
   "metadata": {},
   "source": [
    "## Python Displaying output\n",
    "\n",
    "To display an output in Python, use the `print()` function."
   ]
  },
  {
   "cell_type": "code",
   "execution_count": null,
   "id": "dfec0330-8f4a-4d28-b7b4-073b41ce1d0a",
   "metadata": {},
   "outputs": [
    {
     "name": "stdout",
     "output_type": "stream",
     "text": [
      "Hello world!\n"
     ]
    }
   ],
   "source": [
    "print('Hello world!')"
   ]
  },
  {
   "cell_type": "code",
   "execution_count": null,
   "id": "66fcfd0b-f1b0-442c-afe2-e9cc7f4db634",
   "metadata": {},
   "outputs": [
    {
     "name": "stdout",
     "output_type": "stream",
     "text": [
      "27\n"
     ]
    }
   ],
   "source": [
    "print(27)"
   ]
  },
  {
   "cell_type": "code",
   "execution_count": null,
   "id": "c1ce710a-9289-458a-bddc-2a2ae51b1862",
   "metadata": {},
   "outputs": [
    {
     "name": "stdout",
     "output_type": "stream",
     "text": [
      "30\n"
     ]
    }
   ],
   "source": [
    "print(3 + 27)"
   ]
  },
  {
   "cell_type": "markdown",
   "id": "28e15efa-f23b-4e44-a6e8-e9c3dc9d58a2",
   "metadata": {},
   "source": [
    "## Printing two objects\n",
    "\n",
    "The `print()` function can be used to print two objects. Eg."
   ]
  },
  {
   "cell_type": "code",
   "execution_count": null,
   "id": "f298e008-53c6-4d1a-897c-f60019a63a93",
   "metadata": {},
   "outputs": [
    {
     "name": "stdout",
     "output_type": "stream",
     "text": [
      "Hello Juma\n"
     ]
    }
   ],
   "source": [
    "print('Hello', 'Juma')"
   ]
  },
  {
   "cell_type": "code",
   "execution_count": null,
   "id": "3828af99-a5a4-421d-a62e-ed4f51508acc",
   "metadata": {},
   "outputs": [
    {
     "name": "stdout",
     "output_type": "stream",
     "text": [
      "the sum is  10\n"
     ]
    }
   ],
   "source": [
    "x = 3\n",
    "y = 7\n",
    "summ = x + y\n",
    "print('the sum is ', summ)"
   ]
  },
  {
   "cell_type": "code",
   "execution_count": null,
   "id": "2b9c192b-0f0b-4d76-a440-37bbea337631",
   "metadata": {},
   "outputs": [
    {
     "name": "stdout",
     "output_type": "stream",
     "text": [
      "7\n"
     ]
    }
   ],
   "source": [
    "x = 4; y = 3; print(x + y)"
   ]
  },
  {
   "cell_type": "markdown",
   "id": "807877d2-735a-4935-9d7f-cb3ad5727d82",
   "metadata": {},
   "source": [
    "## Python Statements\n",
    "\n",
    "A python statement is used to write a value, compute a value, assign a value to a variable, call a functino and many more. Eg."
   ]
  },
  {
   "cell_type": "code",
   "execution_count": null,
   "id": "0cfb3346-5a70-4524-83a2-9187f43a74e7",
   "metadata": {},
   "outputs": [
    {
     "name": "stdout",
     "output_type": "stream",
     "text": [
      "8\n"
     ]
    }
   ],
   "source": [
    "x = 5\n",
    "y = 3\n",
    "summ = x + y\n",
    "print(summ)"
   ]
  },
  {
   "cell_type": "markdown",
   "id": "914f1294-a12f-4e1f-96d2-5ecda34c566a",
   "metadata": {},
   "source": [
    "In the example above, we have 4 lines of code. In python, each line typically contains one statement"
   ]
  },
  {
   "cell_type": "markdown",
   "id": "436c48a8-b065-4333-a06b-50ce640f5bf4",
   "metadata": {},
   "source": [
    "### Multiple statements in one line\n",
    "\n",
    "You can also write multiple statements in a single of code. Simply separate the statements with semicolons `;`"
   ]
  },
  {
   "cell_type": "code",
   "execution_count": null,
   "id": "1d5dd56a-3f21-460e-bc07-d57b3af8eeb1",
   "metadata": {},
   "outputs": [
    {
     "name": "stdout",
     "output_type": "stream",
     "text": [
      "7\n"
     ]
    }
   ],
   "source": [
    "a = 4; b = 3; sum = a + b; print(sum) "
   ]
  },
  {
   "cell_type": "markdown",
   "id": "4f94d87b-4560-4bf1-b0dc-24f8123a4158",
   "metadata": {},
   "source": [
    "## Python Syntax\n",
    "When coding in Python, we follow a syntax. Syntax is the set of rules followed when writing programs\n",
    "\n",
    "### Python indentation\n",
    "\n",
    "- In python, indentation indicates a block(group) of statements\n",
    "- Tabs or leading whitespaces are used to compute the indentation level of a line\n",
    "- It depends on you whether you want to use tabs or whitespaces, in the example below, we use 2 whitespaces"
   ]
  },
  {
   "cell_type": "code",
   "execution_count": null,
   "id": "f64136a8-4f51-48bd-b29e-5790ad563bd3",
   "metadata": {},
   "outputs": [
    {
     "name": "stdout",
     "output_type": "stream",
     "text": [
      "Hello, world\n"
     ]
    }
   ],
   "source": [
    "number1 = 4\n",
    "number2 = 3\n",
    "\n",
    "if number1 > number2:\n",
    "  x = 'Hello, world'\n",
    "  print(x)"
   ]
  },
  {
   "cell_type": "markdown",
   "id": "15f50edb-bc68-4307-a396-f4f022617a32",
   "metadata": {},
   "source": [
    "## Python Comments\n",
    "\n",
    "- Comments in Python are used to clarify or explain codes\n",
    "- Comments are not interpreted by Python, meaning comments will not be executed"
   ]
  },
  {
   "cell_type": "code",
   "execution_count": null,
   "id": "537af20a-1dc2-4c1b-b1db-74e80feb58b3",
   "metadata": {},
   "outputs": [
    {
     "name": "stdout",
     "output_type": "stream",
     "text": [
      "7\n"
     ]
    }
   ],
   "source": [
    "# this is a comment\n",
    "x = 4 \n",
    "y = 3\n",
    "\n",
    "# some comment\n",
    "# second comment\n",
    "# third comment\n",
    "\n",
    "print(x + y) # prints out the sum"
   ]
  },
  {
   "cell_type": "markdown",
   "id": "aa4688bd-a465-4e0f-b9af-208d911b2051",
   "metadata": {},
   "source": [
    "## End of first module\n",
    "\n",
    "The nice introduction ends here, in the next section, we will look at variables in Python"
   ]
  }
 ],
 "metadata": {
  "kernelspec": {
   "display_name": "python3",
   "language": "python",
   "name": "python3"
  }
 },
 "nbformat": 4,
 "nbformat_minor": 5
}
